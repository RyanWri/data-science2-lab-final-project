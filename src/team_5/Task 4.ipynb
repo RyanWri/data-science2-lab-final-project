{
 "cells": [
  {
   "cell_type": "markdown",
   "id": "ca4feadc",
   "metadata": {},
   "source": [
    "# Data cleaning and completion for table: general data"
   ]
  },
  {
   "cell_type": "code",
   "execution_count": 261,
   "id": "9a495ec6",
   "metadata": {},
   "outputs": [],
   "source": [
    "import pandas as pd"
   ]
  },
  {
   "cell_type": "code",
   "execution_count": 262,
   "id": "bf8b9503",
   "metadata": {},
   "outputs": [],
   "source": [
    "GeneralData = r'src\\data\\GeneralData.xlsx'\n",
    "Drugs = r'src\\data\\Drugs.xlsx'"
   ]
  },
  {
   "cell_type": "code",
   "execution_count": 263,
   "id": "d3b0bf98",
   "metadata": {},
   "outputs": [],
   "source": [
    "df_GeneralData = pd.read_excel(GeneralData, engine='openpyxl')\n",
    "df_Drugs = pd.read_excel(Drugs, engine='openpyxl')"
   ]
  },
  {
   "cell_type": "code",
   "execution_count": 264,
   "id": "6e799088",
   "metadata": {},
   "outputs": [],
   "source": [
    "mean_weight = df_GeneralData['משקל'].mean()\n",
    "df_GeneralData['משקל'].fillna(mean_weight, inplace=True)"
   ]
  },
  {
   "cell_type": "code",
   "execution_count": 265,
   "id": "96ff0210",
   "metadata": {},
   "outputs": [],
   "source": [
    "mean_height = df_GeneralData['גובה'].mean()\n",
    "df_GeneralData['גובה'].fillna(mean_weight, inplace=True)"
   ]
  },
  {
   "cell_type": "code",
   "execution_count": 268,
   "id": "ffaae71f",
   "metadata": {},
   "outputs": [],
   "source": [
    "# Calculate BMI Column\n",
    "df_GeneralData.loc[df_GeneralData['BMI'].isna(), 'BMI'] = df_GeneralData.apply(\n",
    "    lambda row: row['משקל'] / ((row['גובה'] /100 )**2) if pd.notnull(row['משקל']) and pd.notnull(row['גובה']) else None,\n",
    "    axis=1\n",
    ")"
   ]
  },
  {
   "cell_type": "code",
   "execution_count": 269,
   "id": "c617942e",
   "metadata": {},
   "outputs": [],
   "source": [
    "# Filling empty values in the column in the value \"לא ידוע\"\n",
    "df_GeneralData['השכלה'] = df_GeneralData['השכלה'].apply(lambda x: None if isinstance(x, (int, float)) else x)\n",
    "df_GeneralData['השכלה'].fillna('לא ידוע', inplace=True)\n",
    "\n",
    "df_GeneralData['מספר ילדים'].fillna('לא ידוע', inplace=True)\n",
    "\n",
    "df_GeneralData['מצב משפחתי'].fillna('לא ידוע', inplace=True)"
   ]
  },
  {
   "cell_type": "code",
   "execution_count": 270,
   "id": "d47dd926",
   "metadata": {},
   "outputs": [],
   "source": [
    "# Create a mapping dictionary from the mapping file\n",
    "# Assuming the mapping file has columns 'Code' and 'Drug'\n",
    "mapping_dict = dict(zip(df_Drugs['Code'].astype(str), df_Drugs['Drug'].astype(str)))\n",
    "\n",
    "# Function to replace codes with names\n",
    "def replace_codes_with_names(codes_str):\n",
    "    if isinstance(codes_str, str):  # Ensure the value is a string\n",
    "        codes = [code.strip() for code in codes_str.split(',')]  # Split and strip whitespace\n",
    "        names = [mapping_dict.get(code, value) for code in codes]  # Get names from dictionary\n",
    "        # Ensure all items in names are strings\n",
    "        names = [str(name) for name in names]\n",
    "        return ', '.join(names)  # Join names back into a string\n",
    "    return codes_str  # Return the original value if it's not a string\n",
    "\n",
    "# Apply the function to each row in the column 'תרופות קבועות'\n",
    "# Create a new column 'DrugNames' to store the results\n",
    "df_GeneralData['DrugNames'] = df_GeneralData['תרופות קבועות'].apply(replace_codes_with_names)"
   ]
  },
  {
   "cell_type": "code",
   "execution_count": null,
   "id": "1229810f",
   "metadata": {},
   "outputs": [],
   "source": []
  }
 ],
 "metadata": {
  "kernelspec": {
   "display_name": "Python (venv)",
   "language": "python",
   "name": "myenv"
  },
  "language_info": {
   "codemirror_mode": {
    "name": "ipython",
    "version": 3
   },
   "file_extension": ".py",
   "mimetype": "text/x-python",
   "name": "python",
   "nbconvert_exporter": "python",
   "pygments_lexer": "ipython3",
   "version": "3.11.7"
  }
 },
 "nbformat": 4,
 "nbformat_minor": 5
}
