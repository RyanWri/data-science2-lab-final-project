{
 "cells": [
  {
   "cell_type": "code",
   "execution_count": 4,
   "metadata": {},
   "outputs": [],
   "source": [
    "import pandas as pd\n",
    "import matplotlib.pyplot as plt\n",
    "import os"
   ]
  },
  {
   "cell_type": "code",
   "execution_count": 10,
   "metadata": {},
   "outputs": [
    {
     "name": "stdout",
     "output_type": "stream",
     "text": [
      "'hospitalization2' already exists in the directory as csv file.\n"
     ]
    }
   ],
   "source": [
    "\n",
    "excel_file = 'rehospitalization.xlsx'\n",
    "sheet_name = 'hospitalization2'  \n",
    "csv_sheet_name = 'hospitalization2.csv'  \n",
    "\n",
    "\n",
    "# Check if the file exists in the current directory\n",
    "if os.path.isfile(csv_sheet_name):\n",
    "    print(f\"'{sheet_name}' already exists in the directory as csv file.\")\n",
    "else:\n",
    "    if os.path.isfile(excel_file):\n",
    "        # Read the specific sheet into a DataFrame\n",
    "        hospitalization2_excel = pd.read_excel(excel_file, sheet_name=sheet_name, engine='openpyxl')\n",
    "\n",
    "        # Save the DataFrame to a CSV file\n",
    "        csv_file = 'hospitalization2.csv'\n",
    "        hospitalization2_excel.to_csv(csv_file, index=False, encoding='utf-8')\n",
    "\n",
    "        print(f'Sheet \"{sheet_name}\" has been converted to {csv_file}')\n",
    "    \n",
    "    else: \n",
    "        print(f\"'{excel_file}' does not exist in the current folder. Please upload it to the current directory\")"
   ]
  },
  {
   "cell_type": "code",
   "execution_count": 16,
   "metadata": {},
   "outputs": [
    {
     "name": "stdout",
     "output_type": "stream",
     "text": [
      "Patient                         0\n",
      "unitName1                       0\n",
      "Admission_Medical_Record        0\n",
      "Admission_Entry_Date            0\n",
      "Release_Date                    0\n",
      "unitName2                       0\n",
      "Admission_Medical_Record2       0\n",
      "Admission_Entry_Date2           0\n",
      "Release_Date2                   0\n",
      "סוג קבלה                       68\n",
      "מהיכן המטופל הגיע               0\n",
      "Release_Type                    0\n",
      "רופא משחרר                     88\n",
      "ימי אשפוז                       0\n",
      "אבחנות בקבלה                  802\n",
      "אבחנות בשחרור                 233\n",
      "מחלקות מייעצות               4176\n",
      "ct                              0\n",
      "dtype: int64\n"
     ]
    }
   ],
   "source": [
    "hospitalization2_df = pd.read_csv(csv_sheet_name)\n",
    "erBeforeHospitalization_df = pd.read_csv(\"erhospitalization2_cleaned.csv\")\n",
    "# Check for nulls in the data\n",
    "print(hospitalization2_df.isna().sum())"
   ]
  },
  {
   "cell_type": "code",
   "execution_count": 15,
   "metadata": {},
   "outputs": [
    {
     "name": "stdout",
     "output_type": "stream",
     "text": [
      "Patient                         0\n",
      "unitName1                       0\n",
      "Admission_Medical_Record        0\n",
      "Admission_Entry_Date            0\n",
      "Release_Date                    0\n",
      "unitName2                       0\n",
      "Admission_Medical_Record2       0\n",
      "Admission_Entry_Date2           0\n",
      "Release_Date2                   0\n",
      "סוג קבלה                       59\n",
      "מהיכן המטופל הגיע               0\n",
      "Release_Type                    0\n",
      "רופא משחרר                     77\n",
      "ימי אשפוז                       0\n",
      "אבחנות בקבלה                    0\n",
      "אבחנות בשחרור                  12\n",
      "מחלקות מייעצות               3715\n",
      "ct                              0\n",
      "dtype: int64\n",
      "\n",
      "\n",
      " (8115, 18)\n"
     ]
    }
   ],
   "source": [
    "# I will drop the rows where there is null values in the \"אבחנות בקבלה \" column:\n",
    "hospitalization2_df = hospitalization2_df.dropna(subset=['אבחנות בקבלה'])\n",
    "print(hospitalization2_df.isna().sum())\n",
    "print(\"\\n\\n\",hospitalization2_df.shape)"
   ]
  },
  {
   "cell_type": "code",
   "execution_count": 28,
   "metadata": {},
   "outputs": [
    {
     "name": "stdout",
     "output_type": "stream",
     "text": [
      "patient_erbeforehospitalization2     int64\n",
      "אבחנות במיון                        object\n",
      "patient_hospitalization2             int64\n",
      "אבחנות באשפוז חוזר                  object\n",
      "dtype: object\n"
     ]
    }
   ],
   "source": [
    "# Create a new df from the patient and diagnosis from the data before re-hospitalization2 and from the re-hospitalization2\n",
    "\n",
    "# Select and rename columns from the first DataFrame\n",
    "df1_selected = erBeforeHospitalization_df[['Patient', \"אבחנות במיון\"]].rename(columns={'Patient': 'patient_erbeforehospitalization2'})\n",
    "\n",
    "# Select and rename columns from the second DataFrame\n",
    "df2_selected = hospitalization2_df[['Patient', 'אבחנות בקבלה']].rename(columns={'Patient': 'patient_hospitalization2', 'אבחנות בקבלה': \"אבחנות באשפוז חוזר\"})\n",
    "\n",
    "# Combine the selected columns into a new DataFrame\n",
    "new_df = pd.concat([df1_selected, df2_selected], axis=1)\n",
    "\n",
    "# Fill NaN values with 0 (or another placeholder value)\n",
    "new_df['patient_erbeforehospitalization2'] = new_df['patient_erbeforehospitalization2'].fillna(0)\n",
    "\n",
    "# Convert the column to int64\n",
    "new_df['patient_erbeforehospitalization2'] = new_df['patient_erbeforehospitalization2'].astype('int64')\n",
    "\n",
    "# Display the new DataFrame\n",
    "print(new_df.dtypes)\n"
   ]
  },
  {
   "cell_type": "code",
   "execution_count": 46,
   "metadata": {},
   "outputs": [
    {
     "data": {
      "text/html": [
       "<div>\n",
       "<style scoped>\n",
       "    .dataframe tbody tr th:only-of-type {\n",
       "        vertical-align: middle;\n",
       "    }\n",
       "\n",
       "    .dataframe tbody tr th {\n",
       "        vertical-align: top;\n",
       "    }\n",
       "\n",
       "    .dataframe thead th {\n",
       "        text-align: right;\n",
       "    }\n",
       "</style>\n",
       "<table border=\"1\" class=\"dataframe\">\n",
       "  <thead>\n",
       "    <tr style=\"text-align: right;\">\n",
       "      <th></th>\n",
       "      <th>patient_erbeforehospitalization2</th>\n",
       "      <th>אבחנות במיון</th>\n",
       "      <th>patient_hospitalization2</th>\n",
       "      <th>אבחנות באשפוז חוזר</th>\n",
       "    </tr>\n",
       "  </thead>\n",
       "  <tbody>\n",
       "    <tr>\n",
       "      <th>0</th>\n",
       "      <td>1043772</td>\n",
       "      <td>7860</td>\n",
       "      <td>430047</td>\n",
       "      <td>5370 , 7872 , 78720</td>\n",
       "    </tr>\n",
       "    <tr>\n",
       "      <th>1</th>\n",
       "      <td>1043772</td>\n",
       "      <td>2859 , 7860</td>\n",
       "      <td>447962</td>\n",
       "      <td>78060</td>\n",
       "    </tr>\n",
       "    <tr>\n",
       "      <th>2</th>\n",
       "      <td>1043772</td>\n",
       "      <td>2859 , 7860</td>\n",
       "      <td>214558</td>\n",
       "      <td>5119</td>\n",
       "    </tr>\n",
       "    <tr>\n",
       "      <th>3</th>\n",
       "      <td>77493</td>\n",
       "      <td>2765</td>\n",
       "      <td>71277</td>\n",
       "      <td>2859 , 7807</td>\n",
       "    </tr>\n",
       "    <tr>\n",
       "      <th>4</th>\n",
       "      <td>77493</td>\n",
       "      <td>7860</td>\n",
       "      <td>112016</td>\n",
       "      <td>7865</td>\n",
       "    </tr>\n",
       "  </tbody>\n",
       "</table>\n",
       "</div>"
      ],
      "text/plain": [
       "   patient_erbeforehospitalization2   אבחנות במיון  patient_hospitalization2  \\\n",
       "0                           1043772           7860                    430047   \n",
       "1                           1043772   2859 , 7860                     447962   \n",
       "2                           1043772   2859 , 7860                     214558   \n",
       "3                             77493           2765                     71277   \n",
       "4                             77493           7860                    112016   \n",
       "\n",
       "      אבחנות באשפוז חוזר  \n",
       "0   5370 , 7872 , 78720   \n",
       "1                  78060  \n",
       "2                   5119  \n",
       "3           2859 , 7807   \n",
       "4                   7865  "
      ]
     },
     "execution_count": 46,
     "metadata": {},
     "output_type": "execute_result"
    }
   ],
   "source": [
    "new_df.head()"
   ]
  },
  {
   "cell_type": "code",
   "execution_count": 57,
   "metadata": {},
   "outputs": [
    {
     "name": "stdout",
     "output_type": "stream",
     "text": [
      "Matches: 1311\n",
      "Mismatches: 7415\n",
      "Matches percent: 15.0 %\n"
     ]
    }
   ],
   "source": [
    "\n",
    "# Initialize counters\n",
    "match_count = 0\n",
    "mismatch_count = 0\n",
    "\n",
    "# Define the delimiter used to separate multiple values in the cell (e.g., comma, semicolon)\n",
    "delimiter = ','\n",
    "\n",
    "# Iterate over unique values in 'patient_erbeforehospitalization2'\n",
    "for patient_id in new_df['patient_erbeforehospitalization2'].values:\n",
    "    # Check if the patient ID exists in 'patient_hospitalization2'\n",
    "    if patient_id in new_df['patient_hospitalization2'].values:\n",
    "        # Get the values for the corresponding diagnoses\n",
    "        diagnosis_er = new_df.loc[new_df['patient_erbeforehospitalization2'] == patient_id, 'אבחנות במיון'].values[0]\n",
    "        diagnosis_hospitalization = new_df.loc[new_df['patient_hospitalization2'] == patient_id,  \"אבחנות באשפוז חוזר\"].values[0]\n",
    "        \n",
    "        # Handle NaN values by treating them as empty sets\n",
    "        if isinstance(diagnosis_er, str):\n",
    "            diagnosis_er_set = set(diagnosis_er.split(delimiter))\n",
    "        else:\n",
    "            diagnosis_er_set = set()\n",
    "\n",
    "        if isinstance(diagnosis_hospitalization, str):\n",
    "            diagnosis_hospitalization_set = set(diagnosis_hospitalization.split(delimiter))\n",
    "        else:\n",
    "            diagnosis_hospitalization_set = set()\n",
    "        \n",
    "        # Compare the sets\n",
    "        # if diagnosis_er_set == diagnosis_hospitalization_set:\n",
    "        for diagnosis in diagnosis_er_set:\n",
    "            for diagnosis2 in diagnosis_hospitalization_set:\n",
    "                if diagnosis == diagnosis2:\n",
    "                    match_count += 1\n",
    "        else:\n",
    "            mismatch_count += 1\n",
    "\n",
    "# Output the results\n",
    "print(f'Matches: {match_count}')\n",
    "print(f'Mismatches: {mismatch_count}')\n",
    "\n",
    "sum_of_match_not_match = match_count + mismatch_count\n",
    "percent_of_match = (match_count / sum_of_match_not_match) * 100\n",
    "print(\"Matches percent:\", round(percent_of_match,1) , \"%\")"
   ]
  },
  {
   "cell_type": "code",
   "execution_count": 58,
   "metadata": {},
   "outputs": [
    {
     "data": {
      "image/png": "[encoded data removed]",
      "text/plain": [
       "<Figure size 1000x500 with 1 Axes>"
      ]
     },
     "metadata": {},
     "output_type": "display_data"
    }
   ],
   "source": [
    "match_or_not = {\"Matches\": match_count, \"Mismatches\": mismatch_count}\n",
    "match_or_not_keys = list(match_or_not.keys())\n",
    "values = list(match_or_not.values())\n",
    " \n",
    "fig = plt.figure(figsize = (10, 5))\n",
    "\n",
    "# creating the bar plot\n",
    "plt.bar(match_or_not_keys, values, color ='maroon', \n",
    "        width = 0.4)\n",
    "\n",
    "plt.xlabel(\"Matches\")\n",
    "\n",
    "plt.show()"
   ]
  },
  {
   "cell_type": "markdown",
   "metadata": {},
   "source": [
    "It is possible to see that the majority of the patients that were re-hospitalized did not have the same diagnosis in the re-hospitalization. Nevertheless, non-negligible percent of 15% have matches in the re-hospitalization. "
   ]
  }
 ],
 "metadata": {
  "kernelspec": {
   "display_name": "Python 3",
   "language": "python",
   "name": "python3"
  },
  "language_info": {
   "codemirror_mode": {
    "name": "ipython",
    "version": 3
   },
   "file_extension": ".py",
   "mimetype": "text/x-python",
   "name": "python",
   "nbconvert_exporter": "python",
   "pygments_lexer": "ipython3",
   "version": "3.9.13"
  }
 },
 "nbformat": 4,
 "nbformat_minor": 2
}
