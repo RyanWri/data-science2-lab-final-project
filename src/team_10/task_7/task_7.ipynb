{
 "cells": [
  {
   "cell_type": "markdown",
   "id": "26599bfa-8b91-49ab-bb47-51a2d6982286",
   "metadata": {},
   "source": [
    "# Hospitalization Cleaning"
   ]
  },
  {
   "cell_type": "markdown",
   "id": "b9c5a8d6-ac7c-42b9-96a4-2c4f4832708c",
   "metadata": {},
   "source": [
    "## Imports"
   ]
  },
  {
   "cell_type": "code",
   "execution_count": 372,
   "id": "af1353f3-509c-4465-8a37-fb48e637c455",
   "metadata": {},
   "outputs": [],
   "source": [
    "import pandas as pd\n",
    "from sklearn.preprocessing import LabelEncoder\n",
    "import matplotlib.pyplot as plt\n",
    "import numpy as np"
   ]
  },
  {
   "cell_type": "markdown",
   "id": "26e9ff5b-57fc-4cfa-9783-aa534da8744c",
   "metadata": {},
   "source": [
    "## Functions"
   ]
  },
  {
   "cell_type": "code",
   "execution_count": 375,
   "id": "0e10dbdf-41a7-404f-83ea-1737a82bdd16",
   "metadata": {},
   "outputs": [],
   "source": [
    "def count_nulls_in_reception_vs_not_null_release(df):\n",
    "    count = 0\n",
    "    for i in range(len(df['Diagnosis_In_Reception'])):\n",
    "        if (str(df['Diagnosis_In_Reception'][i]) in str(df['Diagnosis_In_Release'][i])):\n",
    "            count += 1\n",
    "    print(f'Number of values of \\'Diagnosis_In_Reception\\' that exist in \\'Diagnosis_In_Release\\': {count}')\n",
    "    print(f'Percentage of values contained by \\'Diagnosis_In_Release\\' column: {round((count/len(df['Diagnosis_In_Reception'])) * 100, 2)}%')"
   ]
  },
  {
   "cell_type": "code",
   "execution_count": 377,
   "id": "339de993-0e8f-48c5-9bb6-117348a000ce",
   "metadata": {},
   "outputs": [],
   "source": [
    "def replace_na_vals_in_reception_diagnosis(df):\n",
    "    for i in range(len(df['Diagnosis_In_Reception'])):\n",
    "        if (df['Diagnosis_In_Reception'][i] == -1 and df['Diagnosis_In_Release'][i] != -2):\n",
    "            df.loc[i, 'Diagnosis_In_Reception'] = df['Diagnosis_In_Release'][i]\n",
    "    print(f'Number of missing values left in \\'Diagnosis_In_Reception\\' column: {df['Diagnosis_In_Reception'].value_counts()[-1]}')"
   ]
  },
  {
   "cell_type": "code",
   "execution_count": 379,
   "id": "f40383ff-5796-456b-8172-67ebe44bd416",
   "metadata": {},
   "outputs": [],
   "source": [
    "def replace_missing_values_diagnosis_in_release(df):\n",
    "    for i in range(len(df['Diagnosis_In_Release'])):\n",
    "        if (df['Diagnosis_In_Reception'][i] != -1 and df['Diagnosis_In_Release'][i] == -2):\n",
    "            df.loc[i, 'Diagnosis_In_Release'] = df['Diagnosis_In_Reception'][i]\n",
    "        elif (df['Diagnosis_In_Reception'][i] == -1 and df['Diagnosis_In_Release'][i] == -2):\n",
    "            df.loc[i, 'Diagnosis_In_Release'] = -1\n",
    "    print(f'Number of missing values left in \\'Diagnosis_In_Release\\' column: {df['Diagnosis_In_Release'].value_counts()[-1]}')"
   ]
  },
  {
   "cell_type": "code",
   "execution_count": 381,
   "id": "75766303-aeed-464c-a365-9f3a9634704c",
   "metadata": {},
   "outputs": [],
   "source": [
    "def count_missing_doctors_with_no_diagnosis(df):\n",
    "    count = 0\n",
    "    for i in range(len(df['Releasing_Doctor'])):\n",
    "        if (df['Diagnosis_In_Reception'][i] == -1 and df['Diagnosis_In_Release'][i] == -1 and df['Releasing_Doctor'][i] == -1):\n",
    "            count += 1\n",
    "    print(f'Number of releasing doctors with no diagnosis: {count}')"
   ]
  },
  {
   "cell_type": "code",
   "execution_count": 383,
   "id": "58845841-827d-4b4d-8e8a-29384e8b61ad",
   "metadata": {},
   "outputs": [],
   "source": [
    "def add_diagnosis_to_cats(cats, diag):\n",
    "    if ',' in diag:\n",
    "        split_diag = diag.split(',')\n",
    "        for value in split_diag:\n",
    "            value = value.strip()\n",
    "            if (value not in cats and value != ''):\n",
    "                cats.append(value)\n",
    "    elif diag.strip() not in cats and diag.strip() != '':\n",
    "        cats.append(diag.strip())"
   ]
  },
  {
   "cell_type": "code",
   "execution_count": 385,
   "id": "6439d06d-0df4-4f1b-bd13-98fd7776cd08",
   "metadata": {},
   "outputs": [],
   "source": [
    "def get_diag_categories_for_missing_doctors(df):\n",
    "    cats = []\n",
    "    for i in range(len(df['Releasing_Doctor'])):\n",
    "        if (df['Releasing_Doctor'][i] == -1):\n",
    "            if (df['Diagnosis_In_Release'][i] != -1):\n",
    "                diag = str(df['Diagnosis_In_Release'][i])\n",
    "                add_diagnosis_to_cats(cats, diag)\n",
    "            elif (df['Diagnosis_In_Reception'][i] != -1):\n",
    "                diag = str(df['Diagnosis_In_Reception'][i])\n",
    "                add_diagnosis_to_cats(cats, diag)\n",
    "    return cats"
   ]
  },
  {
   "cell_type": "code",
   "execution_count": 387,
   "id": "bedabc18-b61d-4cd1-ae08-cca099a01f40",
   "metadata": {},
   "outputs": [],
   "source": [
    "def create_doc_to_cat_dict(df, cats):\n",
    "    doc_to_cats_dict = {}\n",
    "    cats_dict = dict(zip(cats, [0] * len(cats)))\n",
    "    for doc in df['Releasing_Doctor'].unique():\n",
    "        doc_to_cats_dict[doc] = cats_dict.copy()\n",
    "    return doc_to_cats_dict"
   ]
  },
  {
   "cell_type": "code",
   "execution_count": 389,
   "id": "56a73472-28e4-4374-9842-5cedab33d2f6",
   "metadata": {},
   "outputs": [],
   "source": [
    "def add_value_to_doc_cat_dict(diag, doc, cats, doc_to_cat_dict):\n",
    "    if ',' in diag:\n",
    "        split_diag = diag.split(',')\n",
    "        for value in split_diag:\n",
    "            value = value.strip()\n",
    "            if (value in cats and value != ''):\n",
    "                doc_to_cat_dict[doc][value] += 1\n",
    "    elif (diag.strip() in cats and diag.strip() != ''):\n",
    "        doc_to_cat_dict[doc][diag.strip()] += 1"
   ]
  },
  {
   "cell_type": "code",
   "execution_count": 391,
   "id": "7c842efd-3448-4bb0-86fa-12f864d7063f",
   "metadata": {},
   "outputs": [],
   "source": [
    "def get_doctor_counts_dict_for_each_category(df, cats):\n",
    "    doc_to_cat_dict = create_doc_to_cat_dict(df, cats)\n",
    "    for i in range(len(df['Releasing_Doctor'])):\n",
    "        doc = df['Releasing_Doctor'][i]\n",
    "        if (df['Diagnosis_In_Release'][i] != -1):\n",
    "            diag = str(df['Diagnosis_In_Release'][i])\n",
    "            add_value_to_doc_cat_dict(diag, doc, cats, doc_to_cat_dict)\n",
    "        elif (df['Diagnosis_In_Reception'][i] != -1):\n",
    "            diag = str(df['Diagnosis_In_Reception'][i])\n",
    "            add_value_to_doc_cat_dict(diag, doc, cats, doc_to_cat_dict)\n",
    "    return doc_to_cat_dict"
   ]
  },
  {
   "cell_type": "code",
   "execution_count": 393,
   "id": "5dbb8390-f454-468d-9b46-19c9afba4338",
   "metadata": {},
   "outputs": [],
   "source": [
    "def get_doc_with_most_diag_cases_dict(doc_to_diag_dict, cats, df):\n",
    "    most_diag_to_doc_dict = {}\n",
    "    for cat in cats:\n",
    "        most_diag_to_doc_dict[cat] = {}\n",
    "        best_doc = ''\n",
    "        max_val = -1\n",
    "        for doc in df['Releasing_Doctor'].unique():\n",
    "            if (doc_to_diag_dict[doc][cat] > max_val and doc != -1):\n",
    "                best_doc = doc\n",
    "                max_val = doc_to_diag_dict[doc][cat]\n",
    "        most_diag_to_doc_dict[cat][best_doc] = max_val\n",
    "    return most_diag_to_doc_dict"
   ]
  },
  {
   "cell_type": "code",
   "execution_count": 395,
   "id": "c4618312-ce1b-4945-9903-5a2126d3fd3b",
   "metadata": {},
   "outputs": [],
   "source": [
    "def get_diag(diag):\n",
    "    if ',' in diag:\n",
    "        split_diag = diag.split(',')\n",
    "        for value in split_diag:\n",
    "            value = value.strip()\n",
    "            if value != '':\n",
    "                return value\n",
    "    elif diag.strip() != '':\n",
    "        return diag.strip()"
   ]
  },
  {
   "cell_type": "code",
   "execution_count": 397,
   "id": "2f438a14-90f4-4f74-8b44-7baeb6f6c9aa",
   "metadata": {},
   "outputs": [],
   "source": [
    "def fill_releasing_doctor(df, cat_doc_most):\n",
    "    for i in range(len(df['Releasing_Doctor'])):\n",
    "        if df['Releasing_Doctor'][i] == -1:\n",
    "            if df['Diagnosis_In_Release'][i] != -1:\n",
    "                diag = get_diag(str(df['Diagnosis_In_Release'][i]))\n",
    "                df.loc[i, 'Releasing_Doctor'] = list(cat_doc_most[diag].keys())[0]\n",
    "            elif df['Diagnosis_In_Reception'][i] != -1:\n",
    "                diag = get_diag(str(df['Diagnosis_In_Reception'][i]))\n",
    "                df.loc[i, 'Releasing_Doctor'] = list(cat_doc_most[diag].keys())[0]"
   ]
  },
  {
   "cell_type": "code",
   "execution_count": 399,
   "id": "4797bbad-dbfe-46f9-a2f8-135df398b70b",
   "metadata": {},
   "outputs": [],
   "source": [
    "def translate_column(df, translations_dict, column_name):\n",
    "    for i in range(len(df[column_name])):\n",
    "        df.loc[i, column_name] = translations_dict[df[column_name][i]]"
   ]
  },
  {
   "cell_type": "code",
   "execution_count": 401,
   "id": "a3715581-2e19-4421-8523-2584964b758e",
   "metadata": {},
   "outputs": [],
   "source": [
    "def remove_comma(df):\n",
    "    for i in range (len(df['Diagnosis_In_Release'])):\n",
    "        if df['Diagnosis_In_Release'][i] != -1:\n",
    "            diag = str(df['Diagnosis_In_Release'][i])\n",
    "            if diag.strip().startswith(','):\n",
    "                diag = diag.strip()[1:]\n",
    "            if diag.strip().endswith(','):\n",
    "                diag = diag.strip()[0:len(diag.strip()) - 1]\n",
    "            df.loc[i, 'Diagnosis_In_Release'] = diag\n",
    "        if df['Diagnosis_In_Reception'][i] != -1:\n",
    "            diag = str(df['Diagnosis_In_Reception'][i])\n",
    "            if diag.strip().startswith(','):\n",
    "                diag = diag.strip()[1:]\n",
    "            if diag.strip().endswith(','):\n",
    "                diag = diag.strip()[0:len(diag.strip()) - 1]\n",
    "            df.loc[i, 'Diagnosis_In_Reception'] = diag"
   ]
  },
  {
   "cell_type": "markdown",
   "id": "26db25f4-41d3-4fe4-ad0d-b6713dbc9738",
   "metadata": {},
   "source": [
    "## Load Dataset"
   ]
  },
  {
   "cell_type": "markdown",
   "id": "cb38a4c1-6a2b-48d2-a592-cbc5caf2f3d0",
   "metadata": {},
   "source": [
    "First we load the Excel file into a pandas DataFrame"
   ]
  },
  {
   "cell_type": "code",
   "execution_count": 405,
   "id": "bd641054-a779-4264-886b-c0d65cb3e586",
   "metadata": {},
   "outputs": [],
   "source": [
    "df = pd.read_excel('hospitalization2.xlsx')"
   ]
  },
  {
   "cell_type": "markdown",
   "id": "9c0ccbe3-37ce-4c95-902a-2c1bc595729c",
   "metadata": {},
   "source": [
    "Translate column names from hebrew to english"
   ]
  },
  {
   "cell_type": "code",
   "execution_count": 407,
   "id": "c4a65789-3625-4f26-8383-cbe494e132c4",
   "metadata": {},
   "outputs": [],
   "source": [
    "df_copy = df\n",
    "df_copy.rename(columns={'סוג קבלה': 'Entry_Type'}, inplace=True)\n",
    "df_copy.rename(columns={'מהיכן המטופל הגיע': 'Patient_Origin'}, inplace=True)\n",
    "df_copy.rename(columns={'רופא משחרר': 'Releasing_Doctor'}, inplace=True)\n",
    "df_copy.rename(columns={'ימי אשפוז': 'Admission_Days2'}, inplace=True)\n",
    "df_copy.rename(columns={'אבחנות בקבלה': 'Diagnosis_In_Reception'}, inplace=True)\n",
    "df_copy.rename(columns={'אבחנות בשחרור': 'Diagnosis_In_Release'}, inplace=True)\n",
    "df_copy.rename(columns={'מחלקות מייעצות': 'Advisory_Departments'}, inplace=True)"
   ]
  },
  {
   "cell_type": "markdown",
   "id": "1f4c22d7-b376-4353-a84c-435eef9b3031",
   "metadata": {},
   "source": [
    "First we check the info regarding each column in the Dataframe."
   ]
  },
  {
   "cell_type": "code",
   "execution_count": 409,
   "id": "a50b7915-febd-43d4-a0df-4e2308385a54",
   "metadata": {},
   "outputs": [
    {
     "name": "stdout",
     "output_type": "stream",
     "text": [
      "<class 'pandas.core.frame.DataFrame'>\n",
      "RangeIndex: 8917 entries, 0 to 8916\n",
      "Data columns (total 18 columns):\n",
      " #   Column                     Non-Null Count  Dtype         \n",
      "---  ------                     --------------  -----         \n",
      " 0   Patient                    8917 non-null   int64         \n",
      " 1   unitName1                  8917 non-null   int64         \n",
      " 2   Admission_Medical_Record   8917 non-null   int64         \n",
      " 3   Admission_Entry_Date       8917 non-null   datetime64[ns]\n",
      " 4   Release_Date               8917 non-null   datetime64[ns]\n",
      " 5   unitName2                  8917 non-null   int64         \n",
      " 6   Admission_Medical_Record2  8917 non-null   int64         \n",
      " 7   Admission_Entry_Date2      8917 non-null   datetime64[ns]\n",
      " 8   Release_Date2              8917 non-null   datetime64[ns]\n",
      " 9   Entry_Type                 8849 non-null   object        \n",
      " 10  Patient_Origin             8917 non-null   object        \n",
      " 11  Release_Type               8917 non-null   object        \n",
      " 12  Releasing_Doctor           8829 non-null   float64       \n",
      " 13  Admission_Days2            8917 non-null   int64         \n",
      " 14  Diagnosis_In_Reception     8115 non-null   object        \n",
      " 15  Diagnosis_In_Release       8684 non-null   object        \n",
      " 16  Advisory_Departments       4741 non-null   object        \n",
      " 17  ct                         8917 non-null   int64         \n",
      "dtypes: datetime64[ns](4), float64(1), int64(7), object(6)\n",
      "memory usage: 1.2+ MB\n"
     ]
    }
   ],
   "source": [
    "df.info()"
   ]
  },
  {
   "cell_type": "markdown",
   "id": "4c5a093d-724b-48f1-9c1f-d74c958aa9fe",
   "metadata": {},
   "source": [
    "## Data Completion"
   ]
  },
  {
   "cell_type": "markdown",
   "id": "dbed1f7a-b7d8-4feb-8022-dc803e0c112e",
   "metadata": {},
   "source": [
    "We now check if there are null values and if so, how many are there and in which column."
   ]
  },
  {
   "cell_type": "code",
   "execution_count": 412,
   "id": "e79d3a58-9f0c-48e3-8b28-9b6baf521b53",
   "metadata": {},
   "outputs": [
    {
     "data": {
      "text/plain": [
       "Patient                         0\n",
       "unitName1                       0\n",
       "Admission_Medical_Record        0\n",
       "Admission_Entry_Date            0\n",
       "Release_Date                    0\n",
       "unitName2                       0\n",
       "Admission_Medical_Record2       0\n",
       "Admission_Entry_Date2           0\n",
       "Release_Date2                   0\n",
       "Entry_Type                     68\n",
       "Patient_Origin                  0\n",
       "Release_Type                    0\n",
       "Releasing_Doctor               88\n",
       "Admission_Days2                 0\n",
       "Diagnosis_In_Reception        802\n",
       "Diagnosis_In_Release          233\n",
       "Advisory_Departments         4176\n",
       "ct                              0\n",
       "dtype: int64"
      ]
     },
     "execution_count": 412,
     "metadata": {},
     "output_type": "execute_result"
    }
   ],
   "source": [
    "np.sum(df_copy.isnull(), axis = 0)"
   ]
  },
  {
   "cell_type": "markdown",
   "id": "9c5cfe7c-2d2b-45a6-9106-d629a94e1f4b",
   "metadata": {},
   "source": [
    "We can see that we have 802 missing values in the Diagnoses_in_reception, 233 missing values in Diagnoses_in_release and 88 missing in Releasing_doctor.\n",
    "\n",
    "We know that in the ICD9 file where we have a mapping of a Diagnosis to an ID, we also have NULL IDs for some values. We assume that the NULL values are from rows where the Diagnosis does not have an ID.\n",
    "\n",
    "We can see that the diagnosis in reception has more null values than the diagnosis in release. We will first check how many values of diagnosis in release are containing the diagnosis in reception. To do this, we will first set the null values in diagnosis in reception to be -1 and the null values of diagnosis in release to be -2 so we can handle the count better."
   ]
  },
  {
   "cell_type": "code",
   "execution_count": 414,
   "id": "d585fdd3-f8a7-4b11-bfc2-15adc0d0da03",
   "metadata": {},
   "outputs": [
    {
     "data": {
      "text/plain": [
       "Patient                         0\n",
       "unitName1                       0\n",
       "Admission_Medical_Record        0\n",
       "Admission_Entry_Date            0\n",
       "Release_Date                    0\n",
       "unitName2                       0\n",
       "Admission_Medical_Record2       0\n",
       "Admission_Entry_Date2           0\n",
       "Release_Date2                   0\n",
       "Entry_Type                     68\n",
       "Patient_Origin                  0\n",
       "Release_Type                    0\n",
       "Releasing_Doctor               88\n",
       "Admission_Days2                 0\n",
       "Diagnosis_In_Reception          0\n",
       "Diagnosis_In_Release            0\n",
       "Advisory_Departments         4176\n",
       "ct                              0\n",
       "dtype: int64"
      ]
     },
     "execution_count": 414,
     "metadata": {},
     "output_type": "execute_result"
    }
   ],
   "source": [
    "df_copy.fillna({'Diagnosis_In_Reception': -1}, inplace=True)\n",
    "df_copy.fillna({'Diagnosis_In_Release': -2}, inplace=True)\n",
    "np.sum(df_copy.isnull(), axis = 0)"
   ]
  },
  {
   "cell_type": "markdown",
   "id": "a5bcce3d-2432-4782-b498-9b2499e9dba4",
   "metadata": {},
   "source": [
    "We can now see that the null values in both 'diagnosis in reception' and 'diagnosis in release' columns are not showing as they were set a value of -1 and -2 respectively.\n",
    "\n",
    "We will now count the values as explained before. We do this to see if most of the values in 'diagnosis in release' also exist in the 'diagnosis in release columns'. If so, then we will just fill the null values in 'diagnosis in reception' with the values of 'diagnosis in release' so we can check later if it has an effect on the performance of the model. We will perform the check with this approach and compare it to a model where the null values were just set to -1 for 'UNKNOWN',"
   ]
  },
  {
   "cell_type": "code",
   "execution_count": 416,
   "id": "f2c77ed4-b230-48d6-a682-64bf0e67dd40",
   "metadata": {},
   "outputs": [
    {
     "name": "stdout",
     "output_type": "stream",
     "text": [
      "Number of values of 'Diagnosis_In_Reception' that exist in 'Diagnosis_In_Release': 6323\n",
      "Percentage of values contained by 'Diagnosis_In_Release' column: 70.91%\n"
     ]
    }
   ],
   "source": [
    "count_nulls_in_reception_vs_not_null_release(df_copy)"
   ]
  },
  {
   "cell_type": "markdown",
   "id": "4d6aa712-115a-47e9-8185-4b49578e6137",
   "metadata": {},
   "source": [
    "We can see that the 'Diagnosis_in_release' column holds almost 71% of the data that exists in the 'Diagnosis_in_reception' column. \n",
    "We will now fill the missing values of 'Diagnosis_in_reception' with the values that exist in 'Diagnosis_in_release' (unless they are -2, marking that this is also a null value)."
   ]
  },
  {
   "cell_type": "code",
   "execution_count": 418,
   "id": "abb28f4c-2b87-495e-8918-f5971b6f209c",
   "metadata": {},
   "outputs": [
    {
     "name": "stdout",
     "output_type": "stream",
     "text": [
      "Number of missing values left in 'Diagnosis_In_Reception' column: 221\n",
      "Number of values of 'Diagnosis_In_Reception' that exist in 'Diagnosis_In_Release': 6904\n",
      "Percentage of values contained by 'Diagnosis_In_Release' column: 77.43%\n"
     ]
    }
   ],
   "source": [
    "replace_na_vals_in_reception_diagnosis(df_copy)\n",
    "count_nulls_in_reception_vs_not_null_release(df_copy)"
   ]
  },
  {
   "cell_type": "markdown",
   "id": "b3a37b09-0ada-4e66-9d5d-e8eaada56864",
   "metadata": {},
   "source": [
    "We can see that we still have 221 missing values in the 'Diagnosis_in_reception' column. This means that we have 221 values that are -1 in the 'Diagnosis_in_reception' column and -2 in the 'Diagnosis_in_release' column (both columns are containing null values). \n",
    "\n",
    "Since we started with 233 missing values in the 'Diagnosis_in_release' column, we know we still have some values that are missing but exist in the 'Diagnosis_in_reception' column. We will fill these values and continue set the other other values to -1 to remain consistent with the 'UNKNONW' value."
   ]
  },
  {
   "cell_type": "code",
   "execution_count": 426,
   "id": "dd9026a3-2867-411a-bf97-bc6a3ce0d867",
   "metadata": {},
   "outputs": [
    {
     "name": "stdout",
     "output_type": "stream",
     "text": [
      "Number of missing values left in 'Diagnosis_In_Release' column: 221\n"
     ]
    }
   ],
   "source": [
    "replace_missing_values_diagnosis_in_release(df_copy)"
   ]
  },
  {
   "cell_type": "markdown",
   "id": "220886ac-bb25-4502-8a27-0a538c36100f",
   "metadata": {},
   "source": [
    "We can see now that we have 221 missing values in both columns of 'Diagnosis_in_reception' and 'Diagnosis_in_release'.\n",
    "We will leave it like this for now.\n",
    "\n",
    "We will now continue to complete the data focusing first on the 'Releasing_doctor' column.\n",
    "We will fill the missing values for the 'Releasing_dotor' with -1 as and check if there are any columns with no diagnosis for these rows. "
   ]
  },
  {
   "cell_type": "code",
   "execution_count": 429,
   "id": "bed4dbfa-1ea3-450b-96d0-11e573cdf76b",
   "metadata": {},
   "outputs": [
    {
     "data": {
      "text/plain": [
       "Patient                         0\n",
       "unitName1                       0\n",
       "Admission_Medical_Record        0\n",
       "Admission_Entry_Date            0\n",
       "Release_Date                    0\n",
       "unitName2                       0\n",
       "Admission_Medical_Record2       0\n",
       "Admission_Entry_Date2           0\n",
       "Release_Date2                   0\n",
       "Entry_Type                     68\n",
       "Patient_Origin                  0\n",
       "Release_Type                    0\n",
       "Releasing_Doctor                0\n",
       "Admission_Days2                 0\n",
       "Diagnosis_In_Reception          0\n",
       "Diagnosis_In_Release            0\n",
       "Advisory_Departments         4176\n",
       "ct                              0\n",
       "dtype: int64"
      ]
     },
     "execution_count": 429,
     "metadata": {},
     "output_type": "execute_result"
    }
   ],
   "source": [
    "df_copy.fillna({'Releasing_Doctor': -1} , inplace=True)\n",
    "np.sum(df_copy.isnull(), axis = 0)"
   ]
  },
  {
   "cell_type": "code",
   "execution_count": 432,
   "id": "cba8f9b0-3e0f-4954-8d27-46d7fe9d4a76",
   "metadata": {},
   "outputs": [
    {
     "name": "stdout",
     "output_type": "stream",
     "text": [
      "Number of releasing doctors with no diagnosis: 2\n"
     ]
    }
   ],
   "source": [
    "count_missing_doctors_with_no_diagnosis(df_copy)"
   ]
  },
  {
   "cell_type": "markdown",
   "id": "edbe1934-c0cc-4f68-a55f-a8d08d877816",
   "metadata": {},
   "source": [
    "We can see that we have only 2 missing releasing doctors that have no diagnosis at all. We will decide what to do with them later. \n",
    "\n",
    "We will now check what are the observations that each exist in these columns so we can check whichc doctor had the most cases with this obesrvation and fill in the missing doctor value."
   ]
  },
  {
   "cell_type": "code",
   "execution_count": 435,
   "id": "f47f1c63-4aa9-4f4c-81d6-552f0a642ddb",
   "metadata": {},
   "outputs": [
    {
     "data": {
      "text/plain": [
       "91"
      ]
     },
     "execution_count": 435,
     "metadata": {},
     "output_type": "execute_result"
    }
   ],
   "source": [
    "diag_categories = get_diag_categories_for_missing_doctors(df_copy)\n",
    "len(diag_categories)"
   ]
  },
  {
   "cell_type": "code",
   "execution_count": 437,
   "id": "2328b928-0aae-464a-b8a5-ecfea55d52a3",
   "metadata": {},
   "outputs": [
    {
     "data": {
      "text/plain": [
       "214"
      ]
     },
     "execution_count": 437,
     "metadata": {},
     "output_type": "execute_result"
    }
   ],
   "source": [
    "df_copy['Releasing_Doctor'] = df_copy['Releasing_Doctor'].astype(int)\n",
    "len(df_copy['Releasing_Doctor'].unique()) - 1"
   ]
  },
  {
   "cell_type": "markdown",
   "id": "49d50512-fc82-4ed1-91bd-1b7c8bf2387c",
   "metadata": {},
   "source": [
    "We can see that we have 91 diagnosis categories and 214 total releasing doctors. We will now check to see for each category which doctor had the most cases. We will then fill the missing doctor value with that specific doctor."
   ]
  },
  {
   "cell_type": "code",
   "execution_count": 440,
   "id": "bbef7624-cde7-486d-b329-fe142dfd8c04",
   "metadata": {},
   "outputs": [],
   "source": [
    "doc_to_cat_dict = get_doctor_counts_dict_for_each_category(df_copy, diag_categories)"
   ]
  },
  {
   "cell_type": "code",
   "execution_count": 442,
   "id": "bf747051-4268-4151-ac90-de8fc8302fb1",
   "metadata": {},
   "outputs": [
    {
     "data": {
      "text/plain": [
       "{'7807': {6888: 9},\n",
       " '5130': {10923: 1},\n",
       " '2761': {12639: 7},\n",
       " '5950': {11023: 0},\n",
       " '7907': {10760: 10},\n",
       " '43491': {6888: 5},\n",
       " '5849': {6888: 20},\n",
       " '99591': {11023: 8},\n",
       " '2767': {6888: 8},\n",
       " '5990': {1052: 9},\n",
       " '42833': {10806: 2},\n",
       " 'O8889': {12587: 24},\n",
       " '079.84': {11360: 7},\n",
       " '4340': {12354: 1},\n",
       " 'Z3822': {11023: 0},\n",
       " '7895': {12587: 18},\n",
       " '34290': {11673: 1},\n",
       " '79091': {12886: 3},\n",
       " '6829': {8826: 3},\n",
       " '1970': {12599: 2},\n",
       " '79902': {9971: 1},\n",
       " '03843': {1052: 1},\n",
       " '2859': {6888: 19},\n",
       " '78060': {6888: 29},\n",
       " '7862': {11233: 3},\n",
       " '4110': {11023: 0},\n",
       " '5119': {6888: 24},\n",
       " '0389': {12354: 5},\n",
       " '584': {11023: 9},\n",
       " '5070': {10313: 12},\n",
       " '389': {12649: 3},\n",
       " '41071': {11023: 4},\n",
       " '4241': {10760: 4},\n",
       " '7865': {11670: 11},\n",
       " '413': {9281: 3},\n",
       " '7824': {10112: 2},\n",
       " '70723': {11842: 2},\n",
       " '7804': {11023: 3},\n",
       " '4415': {11023: 0},\n",
       " '514': {10760: 11},\n",
       " '7070': {11515: 3},\n",
       " '70724': {11848: 2},\n",
       " '7150': {10280: 2},\n",
       " '27651': {10112: 7},\n",
       " 'INT1': {10760: 13},\n",
       " '5789': {11670: 7},\n",
       " '70722': {6878: 2},\n",
       " '797': {6888: 18},\n",
       " 'z9903': {9281: 1},\n",
       " 'Z45240': {11365: 2},\n",
       " '28950': {11673: 3},\n",
       " '80700': {11888: 1},\n",
       " 'E888': {6888: 3},\n",
       " '78906': {10537: 3},\n",
       " 'Z5013': {11023: 0},\n",
       " '395': {12359: 2},\n",
       " '41519': {6888: 3},\n",
       " 'Z35961': {1147: 1},\n",
       " '7245': {12354: 2},\n",
       " '99673': {10032: 3},\n",
       " '78609': {6888: 26},\n",
       " '9172': {11023: 0},\n",
       " '78559': {11582: 2},\n",
       " '486': {6888: 17},\n",
       " '7802': {11792: 9},\n",
       " '78652': {11360: 1},\n",
       " '9778': {11365: 1},\n",
       " '7803': {11848: 2},\n",
       " '7906': {1052: 2},\n",
       " '79506': {11023: 0},\n",
       " '288': {11360: 1},\n",
       " '452': {1583: 2},\n",
       " '576': {10112: 2},\n",
       " '5733': {12129: 1},\n",
       " '78900': {11887: 4},\n",
       " '7890': {6878: 5},\n",
       " '5856': {6888: 11},\n",
       " '586': {11848: 4},\n",
       " '1830': {11504: 1},\n",
       " '4111': {10262: 3},\n",
       " 'V719': {6888: 3},\n",
       " '42731': {6888: 10},\n",
       " 'V5881': {9422: 4},\n",
       " '7823': {10313: 5},\n",
       " '496': {11670: 5},\n",
       " '5184': {11178: 7},\n",
       " '4321': {12639: 2},\n",
       " '25020': {11175: 2},\n",
       " 'V4582': {1147: 6},\n",
       " '71690': {6890: 1},\n",
       " '4280': {10760: 16}}"
      ]
     },
     "execution_count": 442,
     "metadata": {},
     "output_type": "execute_result"
    }
   ],
   "source": [
    "cat_doc_most = get_doc_with_most_diag_cases_dict(doc_to_cat_dict, diag_categories, df_copy)\n",
    "cat_doc_most"
   ]
  },
  {
   "cell_type": "code",
   "execution_count": 444,
   "id": "121ceeef-a0e6-499f-87c7-0959573a82f2",
   "metadata": {},
   "outputs": [],
   "source": [
    "fill_releasing_doctor(df_copy, cat_doc_most)"
   ]
  },
  {
   "cell_type": "code",
   "execution_count": 446,
   "id": "e0c9f221-8bc1-4de3-b0b3-9a3550261665",
   "metadata": {},
   "outputs": [
    {
     "data": {
      "text/plain": [
       "2"
      ]
     },
     "execution_count": 446,
     "metadata": {},
     "output_type": "execute_result"
    }
   ],
   "source": [
    "df_copy['Releasing_Doctor'].value_counts()[-1]"
   ]
  },
  {
   "cell_type": "markdown",
   "id": "71c61044-8f31-486b-895f-e193024f9916",
   "metadata": {},
   "source": [
    "We can see that we remain with only two rows not containing 'Diagnosis_in_reception', 'Diagnosis_in_release' and 'Releasing_doctor'. \n",
    "\n",
    "We will drop these two rows later as these features are highly relevant to the research question and since it is only two rows, we can assume it will not have a big effect on the model's performance."
   ]
  },
  {
   "cell_type": "markdown",
   "id": "0358f9d1-79f5-4419-a4eb-0be14a402676",
   "metadata": {},
   "source": [
    "For the entry type, we will check which type is the most common and fill the null values with that type."
   ]
  },
  {
   "cell_type": "code",
   "execution_count": 450,
   "id": "f4de64b3-6351-4451-9434-3719ee14eb7a",
   "metadata": {},
   "outputs": [
    {
     "data": {
      "text/plain": [
       "Entry_Type\n",
       "דחוף         7940\n",
       "מוזמן         890\n",
       "אשפוז יום      19\n",
       "Name: count, dtype: int64"
      ]
     },
     "execution_count": 450,
     "metadata": {},
     "output_type": "execute_result"
    }
   ],
   "source": [
    "df_copy['Entry_Type'].value_counts()"
   ]
  },
  {
   "cell_type": "markdown",
   "id": "758d2d4d-0826-45f7-8426-1d3e78f7aad1",
   "metadata": {},
   "source": [
    "We can see that the most common type is 'urgent' with 7940 rows. We will fill the empty values in this column with 'urgent' value."
   ]
  },
  {
   "cell_type": "code",
   "execution_count": 453,
   "id": "86c11125-9680-4924-81b4-29e250c2e7d2",
   "metadata": {},
   "outputs": [
    {
     "data": {
      "text/plain": [
       "Patient                         0\n",
       "unitName1                       0\n",
       "Admission_Medical_Record        0\n",
       "Admission_Entry_Date            0\n",
       "Release_Date                    0\n",
       "unitName2                       0\n",
       "Admission_Medical_Record2       0\n",
       "Admission_Entry_Date2           0\n",
       "Release_Date2                   0\n",
       "Entry_Type                      0\n",
       "Patient_Origin                  0\n",
       "Release_Type                    0\n",
       "Releasing_Doctor                0\n",
       "Admission_Days2                 0\n",
       "Diagnosis_In_Reception          0\n",
       "Diagnosis_In_Release            0\n",
       "Advisory_Departments         4176\n",
       "ct                              0\n",
       "dtype: int64"
      ]
     },
     "execution_count": 453,
     "metadata": {},
     "output_type": "execute_result"
    }
   ],
   "source": [
    "df_copy.fillna({'Entry_Type': 'דחוף'}, inplace=True)\n",
    "np.sum(df_copy.isnull(), axis = 0)"
   ]
  },
  {
   "cell_type": "code",
   "execution_count": 455,
   "id": "176ea382-32ab-4c9e-ae3b-a2340cebe3ea",
   "metadata": {},
   "outputs": [
    {
     "data": {
      "text/plain": [
       "Entry_Type\n",
       "דחוף         8008\n",
       "מוזמן         890\n",
       "אשפוז יום      19\n",
       "Name: count, dtype: int64"
      ]
     },
     "execution_count": 455,
     "metadata": {},
     "output_type": "execute_result"
    }
   ],
   "source": [
    "df_copy['Entry_Type'].value_counts()"
   ]
  },
  {
   "cell_type": "markdown",
   "id": "ef27e09c-5609-4906-8c51-0951379baa29",
   "metadata": {},
   "source": [
    "We can see that the null values were indeed filled with the 'urgent' value.\n",
    "\n",
    "We will translate the data from hebrew to english."
   ]
  },
  {
   "cell_type": "code",
   "execution_count": 458,
   "id": "bbe16cac-a20d-41a2-8ebc-349adb1823a3",
   "metadata": {},
   "outputs": [],
   "source": [
    "translation_dict = {'דחוף': 'urgent', 'מוזמן' : 'scheduled', 'אשפוז יום' : 'day hospitalization'}\n",
    "translate_column(df_copy, translation_dict, 'Entry_Type')"
   ]
  },
  {
   "cell_type": "code",
   "execution_count": 459,
   "id": "4e0cacd7-b1f9-4b42-98e2-a38983e6ece0",
   "metadata": {},
   "outputs": [],
   "source": [
    "translation_dict = {'ממרפאה': 'medical clinic', 'מבית חולים אחר' : 'different hospital', 'ממוסד' : 'institude', 'מביתו' : 'home', 'אחר' : 'other'}\n",
    "translate_column(df_copy, translation_dict, 'Patient_Origin')"
   ]
  },
  {
   "cell_type": "code",
   "execution_count": 460,
   "id": "7b35dd03-7e6d-423f-b8c5-217cc5cae64b",
   "metadata": {},
   "outputs": [],
   "source": [
    "translation_dict = {'שוחרר לביתו': 'home', 'שוחרר למוסד' : 'institude'}\n",
    "translate_column(df_copy, translation_dict, 'Release_Type')"
   ]
  },
  {
   "cell_type": "markdown",
   "id": "3ba875d4-fcc1-41f7-9894-d5fbe4f8e89a",
   "metadata": {},
   "source": [
    "Drop Advisory_departments column as it is not relevant for the research question and too many null values."
   ]
  },
  {
   "cell_type": "code",
   "execution_count": 462,
   "id": "90c6de2a-66dd-47a9-a638-14988a824bd9",
   "metadata": {},
   "outputs": [
    {
     "data": {
      "text/plain": [
       "Patient                      0\n",
       "unitName1                    0\n",
       "Admission_Medical_Record     0\n",
       "Admission_Entry_Date         0\n",
       "Release_Date                 0\n",
       "unitName2                    0\n",
       "Admission_Medical_Record2    0\n",
       "Admission_Entry_Date2        0\n",
       "Release_Date2                0\n",
       "Entry_Type                   0\n",
       "Patient_Origin               0\n",
       "Release_Type                 0\n",
       "Releasing_Doctor             0\n",
       "Admission_Days2              0\n",
       "Diagnosis_In_Reception       0\n",
       "Diagnosis_In_Release         0\n",
       "ct                           0\n",
       "dtype: int64"
      ]
     },
     "execution_count": 462,
     "metadata": {},
     "output_type": "execute_result"
    }
   ],
   "source": [
    "df_copy = df_copy.drop(columns=['Advisory_Departments'])\n",
    "np.sum(df_copy.isnull(), axis = 0)"
   ]
  },
  {
   "cell_type": "markdown",
   "id": "cba4c0f1-dbaa-461c-bdcd-af1ded48e309",
   "metadata": {},
   "source": [
    "Convert columns to datetime format"
   ]
  },
  {
   "cell_type": "code",
   "execution_count": 464,
   "id": "a6ad3894-4b78-45b9-9c7b-33ac413ba6f8",
   "metadata": {},
   "outputs": [],
   "source": [
    "df_copy['Admission_Entry_Date'] = pd.to_datetime(df_copy['Admission_Entry_Date'], format='%d/%m/%Y %H:%M')\n",
    "df_copy['Release_Date'] = pd.to_datetime(df_copy['Release_Date'], format='%d/%m/%Y %H:%M:%S')"
   ]
  },
  {
   "cell_type": "markdown",
   "id": "57d4498c-5862-4170-995c-b1896ecacda6",
   "metadata": {},
   "source": [
    "Calculate duration in days, rounded"
   ]
  },
  {
   "cell_type": "code",
   "execution_count": 467,
   "id": "400fdac0-8c98-4b1d-af2a-a101cb5351c6",
   "metadata": {},
   "outputs": [],
   "source": [
    "df_copy['Admission_Days'] = (df_copy['Release_Date'] - df_copy['Admission_Entry_Date']).dt.round('D').abs().dt.days"
   ]
  },
  {
   "cell_type": "markdown",
   "id": "d2496917-e433-466b-9ca2-c4d0e5404a10",
   "metadata": {},
   "source": [
    "Create an array that counts the occurrences of each duration"
   ]
  },
  {
   "cell_type": "code",
   "execution_count": 469,
   "id": "dcca8452-e682-46ea-986f-d708f3b712cf",
   "metadata": {},
   "outputs": [],
   "source": [
    "duration_counts = df_copy['Admission_Days'].value_counts().sort_index()"
   ]
  },
  {
   "cell_type": "markdown",
   "id": "a93a23e6-9b9e-415b-9270-34e6733b57b7",
   "metadata": {},
   "source": [
    "We will now remove ',' at the start and end of the diagnosis columns."
   ]
  },
  {
   "cell_type": "code",
   "execution_count": 472,
   "id": "b5b1e31c-7b68-44ab-b91f-e6cb62370c7b",
   "metadata": {},
   "outputs": [],
   "source": [
    "remove_comma(df_copy)"
   ]
  },
  {
   "cell_type": "markdown",
   "id": "4c16106e-8ad3-4745-9843-5cb5d4c60fc9",
   "metadata": {},
   "source": [
    "We will now drop the remaining rows that have no data to work with as a part of the cleaning process that was done."
   ]
  },
  {
   "cell_type": "code",
   "execution_count": 474,
   "id": "800b6a1a-3660-4f2c-971f-c08b17a737ab",
   "metadata": {},
   "outputs": [
    {
     "data": {
      "text/plain": [
       "[254, 6118]"
      ]
     },
     "execution_count": 474,
     "metadata": {},
     "output_type": "execute_result"
    }
   ],
   "source": [
    "rows_to_drop = df_copy.index[(df_copy['Releasing_Doctor'] == -1) & (df_copy['Diagnosis_In_Reception'] == -1) & (df_copy['Diagnosis_In_Release'] == -1)].tolist()\n",
    "rows_to_drop"
   ]
  },
  {
   "cell_type": "markdown",
   "id": "5a542e9f-8f0c-49b0-882c-edbabf4c71c6",
   "metadata": {},
   "source": [
    "We will add anothe column named 'Days_Between_Admissions' that will be the target variable."
   ]
  },
  {
   "cell_type": "code",
   "execution_count": 483,
   "id": "0aaea2c3-1cd6-4ee9-8619-2288584dec70",
   "metadata": {},
   "outputs": [],
   "source": [
    "df_copy['Admission_Entry_Date2'] = pd.to_datetime(df_copy['Admission_Entry_Date2'], format='%d/%m/%Y %H:%M')\n",
    "df_copy['Days_Between_Admissions'] = (df_copy['Admission_Entry_Date2'] - df_copy['Release_Date']).dt.round('D').abs().dt.days"
   ]
  },
  {
   "cell_type": "code",
   "execution_count": 485,
   "id": "d34d7397-25cc-4e49-bb5c-840ba6199cc0",
   "metadata": {},
   "outputs": [
    {
     "data": {
      "text/plain": [
       "0        5\n",
       "1       24\n",
       "2        1\n",
       "3       27\n",
       "4        7\n",
       "        ..\n",
       "8912    19\n",
       "8913    17\n",
       "8914    14\n",
       "8915    29\n",
       "8916    19\n",
       "Name: Days_Between_Admissions, Length: 8917, dtype: int64"
      ]
     },
     "execution_count": 485,
     "metadata": {},
     "output_type": "execute_result"
    }
   ],
   "source": [
    "df_copy['Days_Between_Admissions']"
   ]
  },
  {
   "cell_type": "code",
   "execution_count": 487,
   "id": "bb475597-42a6-493b-bd20-bf5affc69ffb",
   "metadata": {},
   "outputs": [
    {
     "data": {
      "text/plain": [
       "Days_Between_Admissions\n",
       "1     492\n",
       "3     491\n",
       "2     469\n",
       "4     452\n",
       "6     429\n",
       "7     410\n",
       "5     382\n",
       "12    339\n",
       "14    336\n",
       "11    321\n",
       "9     315\n",
       "13    311\n",
       "8     304\n",
       "10    283\n",
       "15    259\n",
       "19    255\n",
       "17    251\n",
       "20    248\n",
       "21    245\n",
       "18    238\n",
       "16    238\n",
       "22    229\n",
       "28    227\n",
       "25    209\n",
       "29    203\n",
       "27    201\n",
       "24    197\n",
       "23    191\n",
       "26    172\n",
       "0     143\n",
       "30     77\n",
       "Name: count, dtype: int64"
      ]
     },
     "execution_count": 487,
     "metadata": {},
     "output_type": "execute_result"
    }
   ],
   "source": [
    "df_copy['Days_Between_Admissions'].value_counts()"
   ]
  },
  {
   "cell_type": "markdown",
   "id": "627caea5-9dc9-47b7-868e-5f93459fe4f9",
   "metadata": {},
   "source": [
    "We will now find the optimal split for the 3 groups that will be the target categories: 'short', 'mid', 'long'.\n",
    "\n",
    "We will first create an array that counts the occurrences of each duration and the plot the results to a histogram."
   ]
  },
  {
   "cell_type": "code",
   "execution_count": 490,
   "id": "ce3edf71-b3ab-42ed-a1d8-364ada085681",
   "metadata": {},
   "outputs": [],
   "source": [
    "duration_counts = df_copy['Days_Between_Admissions'].value_counts().sort_index()"
   ]
  },
  {
   "cell_type": "code",
   "execution_count": 492,
   "id": "079949b1-687c-4c62-9a41-039667e673ea",
   "metadata": {},
   "outputs": [
    {
     "data": {
      "image/png": "[encoded data removed]",
      "text/plain": [
       "<Figure size 1500x800 with 1 Axes>"
      ]
     },
     "metadata": {},
     "output_type": "display_data"
    }
   ],
   "source": [
    "# Plot the histogram\n",
    "plt.figure(figsize=(15, 8))\n",
    "plt.bar(duration_counts.index, duration_counts.values, width=0.5, color='blue')\n",
    "plt.xlabel('Duration (Days)')\n",
    "plt.ylabel('Count')\n",
    "plt.title('Histogram of Duration in Days')\n",
    "plt.xticks(duration_counts.index)  # Ensure each duration day is a tick\n",
    "plt.xticks(fontsize=11)\n",
    "plt.show()"
   ]
  },
  {
   "cell_type": "markdown",
   "id": "d944fb7e-5a26-4a78-968c-a8fbe4f42780",
   "metadata": {},
   "source": [
    "We can see that there is a down slope trend in the histogram, meaning that the more days pass, less people return to second hospitalization.\n",
    "\n",
    "We will now find the optimal split for this data according to quartiles into 3 groups. Each group will later be encoded into the desired target variable."
   ]
  },
  {
   "cell_type": "code",
   "execution_count": 495,
   "id": "a20ebe8a-f089-4a34-8287-74e55dbafc13",
   "metadata": {},
   "outputs": [],
   "source": [
    "quartiles = np.percentile(df_copy['Days_Between_Admissions'], [33, 67])"
   ]
  },
  {
   "cell_type": "code",
   "execution_count": 497,
   "id": "0a05737f-37c3-4ac8-acfc-b285c212e243",
   "metadata": {},
   "outputs": [],
   "source": [
    "bin_edges = [df_copy['Days_Between_Admissions'].min(), quartiles[0], quartiles[1], df_copy['Admission_Days'].max()]"
   ]
  },
  {
   "cell_type": "code",
   "execution_count": 499,
   "id": "137a75b2-2192-45f4-87e9-ac23732fcd39",
   "metadata": {},
   "outputs": [
    {
     "data": {
      "image/png": "[encoded data removed]",
      "text/plain": [
       "<Figure size 800x500 with 1 Axes>"
      ]
     },
     "metadata": {},
     "output_type": "display_data"
    }
   ],
   "source": [
    "# Define colors for the four quartile bins\n",
    "colors = ['red', 'green', 'blue']  # One color for each quartile\n",
    "\n",
    "# Plot histogram using the defined bin edges and assign different colors for each quartile\n",
    "plt.figure(figsize=(8, 5))\n",
    "n, bins, patches = plt.hist(df_copy['Days_Between_Admissions'], bins=bin_edges, edgecolor='black')\n",
    "\n",
    "# Assign different colors to the patches (bars)\n",
    "for i, patch in enumerate(patches):\n",
    "    patch.set_facecolor(colors[i % len(colors)])  # Assign color from the list\n",
    "\n",
    "# Add labels and titles\n",
    "plt.xlabel('Duration (Days)')\n",
    "plt.ylabel('Count')\n",
    "plt.title('Histogram of Duration in Days Divided into 3 Groups')\n",
    "plt.grid(axis='y', linestyle='--', alpha=0.7)\n",
    "plt.xticks(fontsize=8)\n",
    "\n",
    "plt.show()"
   ]
  },
  {
   "cell_type": "code",
   "execution_count": 501,
   "id": "500448fa-ccda-46d1-a752-852cf836a89f",
   "metadata": {},
   "outputs": [],
   "source": [
    "# Create labels for the groups based on bin edges\n",
    "bin_labels = [\n",
    "    f\"Group 1: {int(bin_edges[0])} - {int(bin_edges[1])}\",\n",
    "    f\"Group 2: {int(bin_edges[1])} - {int(bin_edges[2])}\",\n",
    "    f\"Group 3: {int(bin_edges[2])} - {int(bin_edges[3])}\",\n",
    "]"
   ]
  },
  {
   "cell_type": "code",
   "execution_count": 503,
   "id": "ff6ec643-1126-4421-9ab4-6964fbbe4727",
   "metadata": {},
   "outputs": [
    {
     "name": "stdout",
     "output_type": "stream",
     "text": [
      "Groups Distribution:\n",
      "\n",
      "Group 1: 0 - 7 days in admission2\n",
      "\n",
      "Group 2: 7 - 16 days in admission2\n",
      "\n",
      "Group 3: 16 - 50 days in admission2\n",
      "\n"
     ]
    }
   ],
   "source": [
    "# Print the group ranges\n",
    "print(\"Groups Distribution:\\n\")\n",
    "for label in bin_labels:\n",
    "    print(f\"{label} days in admission2\\n\")"
   ]
  },
  {
   "cell_type": "markdown",
   "id": "2ee85e2b-7645-4b1f-b08d-de328e7f6d22",
   "metadata": {},
   "source": [
    "We can see that the optimal split for the groups will be set as the following: Group 1 - 'short' (0-7 Days), Group 2 - 'mid' (7-16 Days), Group 3 - 'long' (16-50 Days). These values will now be encoded into a new column called 'Period_Between_Admissions'.\n"
   ]
  },
  {
   "cell_type": "code",
   "execution_count": 506,
   "id": "4dd7ac3b-4928-48b8-9e02-e9f602965aed",
   "metadata": {},
   "outputs": [],
   "source": [
    "df_copy['Period_Between_Admissions'] = 'long'\n",
    "df_copy.loc[df_copy['Days_Between_Admissions'] < bin_edges[1], 'Period_Between_Admissions'] = 'short'\n",
    "df_copy.loc[(df_copy['Days_Between_Admissions'] >= bin_edges[1]) & (df_copy['Days_Between_Admissions'] < bin_edges[2]), 'Period_Between_Admissions'] = 'mid'\n",
    "df_copy.loc[df_copy['Days_Between_Admissions'] >= bin_edges[2], 'Period_Between_Admissions'] = 'long'"
   ]
  },
  {
   "cell_type": "markdown",
   "id": "65fcc676-2669-4c84-9d3c-2faa108ea089",
   "metadata": {},
   "source": [
    "We will now drop the irrelevant columns for the research question."
   ]
  },
  {
   "cell_type": "code",
   "execution_count": 509,
   "id": "ebba9e0d-0156-4c92-883d-27ae9eec9331",
   "metadata": {},
   "outputs": [],
   "source": [
    "df_copy.drop(columns=['Patient', 'Admission_Medical_Record', 'Admission_Medical_Record2', 'Days_Between_Admissions'], inplace=True)"
   ]
  },
  {
   "cell_type": "code",
   "execution_count": 511,
   "id": "6674f635-3b70-42cf-b141-07b07e93dc08",
   "metadata": {},
   "outputs": [],
   "source": [
    "df_copy.drop(rows_to_drop, inplace=True)"
   ]
  },
  {
   "cell_type": "code",
   "execution_count": 513,
   "id": "2ee41bc3-70b5-4bf2-8694-4ad571568cb6",
   "metadata": {},
   "outputs": [
    {
     "data": {
      "text/html": [
       "<div>\n",
       "<style scoped>\n",
       "    .dataframe tbody tr th:only-of-type {\n",
       "        vertical-align: middle;\n",
       "    }\n",
       "\n",
       "    .dataframe tbody tr th {\n",
       "        vertical-align: top;\n",
       "    }\n",
       "\n",
       "    .dataframe thead th {\n",
       "        text-align: right;\n",
       "    }\n",
       "</style>\n",
       "<table border=\"1\" class=\"dataframe\">\n",
       "  <thead>\n",
       "    <tr style=\"text-align: right;\">\n",
       "      <th></th>\n",
       "      <th>unitName1</th>\n",
       "      <th>Admission_Entry_Date</th>\n",
       "      <th>Release_Date</th>\n",
       "      <th>unitName2</th>\n",
       "      <th>Admission_Entry_Date2</th>\n",
       "      <th>Release_Date2</th>\n",
       "      <th>Entry_Type</th>\n",
       "      <th>Patient_Origin</th>\n",
       "      <th>Release_Type</th>\n",
       "      <th>Releasing_Doctor</th>\n",
       "      <th>Admission_Days2</th>\n",
       "      <th>Diagnosis_In_Reception</th>\n",
       "      <th>Diagnosis_In_Release</th>\n",
       "      <th>ct</th>\n",
       "      <th>Admission_Days</th>\n",
       "      <th>Period_Between_Admissions</th>\n",
       "    </tr>\n",
       "  </thead>\n",
       "  <tbody>\n",
       "    <tr>\n",
       "      <th>0</th>\n",
       "      <td>5</td>\n",
       "      <td>2021-02-16 17:33:45.570</td>\n",
       "      <td>2021-02-19 12:40:00</td>\n",
       "      <td>5</td>\n",
       "      <td>2021-02-24 15:03:30.490</td>\n",
       "      <td>2021-02-25 12:38:00</td>\n",
       "      <td>urgent</td>\n",
       "      <td>home</td>\n",
       "      <td>home</td>\n",
       "      <td>11023</td>\n",
       "      <td>1</td>\n",
       "      <td>5370 , 7872 , 78720</td>\n",
       "      <td>5370 , 7872 , 78720</td>\n",
       "      <td>0</td>\n",
       "      <td>3</td>\n",
       "      <td>short</td>\n",
       "    </tr>\n",
       "    <tr>\n",
       "      <th>1</th>\n",
       "      <td>4</td>\n",
       "      <td>2022-08-07 13:27:58.780</td>\n",
       "      <td>2022-08-08 15:15:00</td>\n",
       "      <td>4</td>\n",
       "      <td>2022-09-01 04:20:51.617</td>\n",
       "      <td>2022-09-02 16:00:00</td>\n",
       "      <td>urgent</td>\n",
       "      <td>home</td>\n",
       "      <td>home</td>\n",
       "      <td>12517</td>\n",
       "      <td>1</td>\n",
       "      <td>78060</td>\n",
       "      <td>78060</td>\n",
       "      <td>0</td>\n",
       "      <td>1</td>\n",
       "      <td>long</td>\n",
       "    </tr>\n",
       "    <tr>\n",
       "      <th>2</th>\n",
       "      <td>5</td>\n",
       "      <td>2023-10-27 07:34:41.013</td>\n",
       "      <td>2023-10-29 17:18:00</td>\n",
       "      <td>5</td>\n",
       "      <td>2023-10-30 17:58:09.730</td>\n",
       "      <td>2023-11-01 15:33:00</td>\n",
       "      <td>urgent</td>\n",
       "      <td>home</td>\n",
       "      <td>home</td>\n",
       "      <td>11887</td>\n",
       "      <td>2</td>\n",
       "      <td>5119</td>\n",
       "      <td>5119 , 514</td>\n",
       "      <td>0</td>\n",
       "      <td>2</td>\n",
       "      <td>short</td>\n",
       "    </tr>\n",
       "    <tr>\n",
       "      <th>3</th>\n",
       "      <td>3</td>\n",
       "      <td>2020-07-29 17:00:56.863</td>\n",
       "      <td>2020-08-03 14:26:00</td>\n",
       "      <td>3</td>\n",
       "      <td>2020-08-30 04:25:30.670</td>\n",
       "      <td>2020-09-03 13:45:00</td>\n",
       "      <td>urgent</td>\n",
       "      <td>home</td>\n",
       "      <td>home</td>\n",
       "      <td>10525</td>\n",
       "      <td>4</td>\n",
       "      <td>2859 , 7807</td>\n",
       "      <td>486 , 5990</td>\n",
       "      <td>0</td>\n",
       "      <td>5</td>\n",
       "      <td>long</td>\n",
       "    </tr>\n",
       "    <tr>\n",
       "      <th>4</th>\n",
       "      <td>1</td>\n",
       "      <td>2021-07-03 11:42:24.973</td>\n",
       "      <td>2021-07-05 17:34:00</td>\n",
       "      <td>1</td>\n",
       "      <td>2021-07-13 01:21:32.077</td>\n",
       "      <td>2021-07-15 11:48:00</td>\n",
       "      <td>urgent</td>\n",
       "      <td>home</td>\n",
       "      <td>home</td>\n",
       "      <td>6890</td>\n",
       "      <td>2</td>\n",
       "      <td>7865</td>\n",
       "      <td>7865</td>\n",
       "      <td>1</td>\n",
       "      <td>2</td>\n",
       "      <td>mid</td>\n",
       "    </tr>\n",
       "    <tr>\n",
       "      <th>...</th>\n",
       "      <td>...</td>\n",
       "      <td>...</td>\n",
       "      <td>...</td>\n",
       "      <td>...</td>\n",
       "      <td>...</td>\n",
       "      <td>...</td>\n",
       "      <td>...</td>\n",
       "      <td>...</td>\n",
       "      <td>...</td>\n",
       "      <td>...</td>\n",
       "      <td>...</td>\n",
       "      <td>...</td>\n",
       "      <td>...</td>\n",
       "      <td>...</td>\n",
       "      <td>...</td>\n",
       "      <td>...</td>\n",
       "    </tr>\n",
       "    <tr>\n",
       "      <th>8912</th>\n",
       "      <td>3</td>\n",
       "      <td>2022-07-20 15:04:21.510</td>\n",
       "      <td>2022-07-24 14:30:00</td>\n",
       "      <td>3</td>\n",
       "      <td>2022-08-12 11:46:11.473</td>\n",
       "      <td>2022-08-15 15:21:00</td>\n",
       "      <td>urgent</td>\n",
       "      <td>home</td>\n",
       "      <td>institude</td>\n",
       "      <td>10126</td>\n",
       "      <td>3</td>\n",
       "      <td>2501</td>\n",
       "      <td>0389 , 2501 , INT1</td>\n",
       "      <td>1</td>\n",
       "      <td>4</td>\n",
       "      <td>long</td>\n",
       "    </tr>\n",
       "    <tr>\n",
       "      <th>8913</th>\n",
       "      <td>1</td>\n",
       "      <td>2023-07-22 19:36:52.480</td>\n",
       "      <td>2023-07-23 16:06:00</td>\n",
       "      <td>1</td>\n",
       "      <td>2023-08-10 00:05:14.783</td>\n",
       "      <td>2023-08-14 14:32:00</td>\n",
       "      <td>urgent</td>\n",
       "      <td>home</td>\n",
       "      <td>home</td>\n",
       "      <td>6888</td>\n",
       "      <td>4</td>\n",
       "      <td>4359</td>\n",
       "      <td>3458</td>\n",
       "      <td>0</td>\n",
       "      <td>1</td>\n",
       "      <td>long</td>\n",
       "    </tr>\n",
       "    <tr>\n",
       "      <th>8914</th>\n",
       "      <td>2</td>\n",
       "      <td>2023-09-05 12:03:48.107</td>\n",
       "      <td>2023-09-06 14:20:00</td>\n",
       "      <td>2</td>\n",
       "      <td>2023-09-20 16:27:43.813</td>\n",
       "      <td>2023-09-27 11:05:00</td>\n",
       "      <td>urgent</td>\n",
       "      <td>home</td>\n",
       "      <td>home</td>\n",
       "      <td>1769</td>\n",
       "      <td>7</td>\n",
       "      <td>514</td>\n",
       "      <td>514 , Z37211</td>\n",
       "      <td>0</td>\n",
       "      <td>1</td>\n",
       "      <td>mid</td>\n",
       "    </tr>\n",
       "    <tr>\n",
       "      <th>8915</th>\n",
       "      <td>1</td>\n",
       "      <td>2020-01-19 18:03:19.153</td>\n",
       "      <td>2020-01-21 13:44:00</td>\n",
       "      <td>1</td>\n",
       "      <td>2020-02-19 15:29:05.147</td>\n",
       "      <td>2020-02-24 10:25:00</td>\n",
       "      <td>urgent</td>\n",
       "      <td>home</td>\n",
       "      <td>home</td>\n",
       "      <td>7993</td>\n",
       "      <td>5</td>\n",
       "      <td>7872</td>\n",
       "      <td>7872</td>\n",
       "      <td>0</td>\n",
       "      <td>2</td>\n",
       "      <td>long</td>\n",
       "    </tr>\n",
       "    <tr>\n",
       "      <th>8916</th>\n",
       "      <td>2</td>\n",
       "      <td>2021-09-18 15:28:17.527</td>\n",
       "      <td>2021-09-26 14:15:00</td>\n",
       "      <td>2</td>\n",
       "      <td>2021-10-15 18:46:19.200</td>\n",
       "      <td>2021-10-18 17:55:00</td>\n",
       "      <td>urgent</td>\n",
       "      <td>home</td>\n",
       "      <td>institude</td>\n",
       "      <td>12681</td>\n",
       "      <td>3</td>\n",
       "      <td>5990</td>\n",
       "      <td>5990</td>\n",
       "      <td>0</td>\n",
       "      <td>8</td>\n",
       "      <td>long</td>\n",
       "    </tr>\n",
       "  </tbody>\n",
       "</table>\n",
       "<p>8915 rows × 16 columns</p>\n",
       "</div>"
      ],
      "text/plain": [
       "      unitName1    Admission_Entry_Date        Release_Date  unitName2  \\\n",
       "0             5 2021-02-16 17:33:45.570 2021-02-19 12:40:00          5   \n",
       "1             4 2022-08-07 13:27:58.780 2022-08-08 15:15:00          4   \n",
       "2             5 2023-10-27 07:34:41.013 2023-10-29 17:18:00          5   \n",
       "3             3 2020-07-29 17:00:56.863 2020-08-03 14:26:00          3   \n",
       "4             1 2021-07-03 11:42:24.973 2021-07-05 17:34:00          1   \n",
       "...         ...                     ...                 ...        ...   \n",
       "8912          3 2022-07-20 15:04:21.510 2022-07-24 14:30:00          3   \n",
       "8913          1 2023-07-22 19:36:52.480 2023-07-23 16:06:00          1   \n",
       "8914          2 2023-09-05 12:03:48.107 2023-09-06 14:20:00          2   \n",
       "8915          1 2020-01-19 18:03:19.153 2020-01-21 13:44:00          1   \n",
       "8916          2 2021-09-18 15:28:17.527 2021-09-26 14:15:00          2   \n",
       "\n",
       "       Admission_Entry_Date2       Release_Date2 Entry_Type Patient_Origin  \\\n",
       "0    2021-02-24 15:03:30.490 2021-02-25 12:38:00     urgent           home   \n",
       "1    2022-09-01 04:20:51.617 2022-09-02 16:00:00     urgent           home   \n",
       "2    2023-10-30 17:58:09.730 2023-11-01 15:33:00     urgent           home   \n",
       "3    2020-08-30 04:25:30.670 2020-09-03 13:45:00     urgent           home   \n",
       "4    2021-07-13 01:21:32.077 2021-07-15 11:48:00     urgent           home   \n",
       "...                      ...                 ...        ...            ...   \n",
       "8912 2022-08-12 11:46:11.473 2022-08-15 15:21:00     urgent           home   \n",
       "8913 2023-08-10 00:05:14.783 2023-08-14 14:32:00     urgent           home   \n",
       "8914 2023-09-20 16:27:43.813 2023-09-27 11:05:00     urgent           home   \n",
       "8915 2020-02-19 15:29:05.147 2020-02-24 10:25:00     urgent           home   \n",
       "8916 2021-10-15 18:46:19.200 2021-10-18 17:55:00     urgent           home   \n",
       "\n",
       "     Release_Type  Releasing_Doctor  Admission_Days2 Diagnosis_In_Reception  \\\n",
       "0            home             11023                1   5370 , 7872 , 78720    \n",
       "1            home             12517                1                  78060   \n",
       "2            home             11887                2                   5119   \n",
       "3            home             10525                4           2859 , 7807    \n",
       "4            home              6890                2                   7865   \n",
       "...           ...               ...              ...                    ...   \n",
       "8912    institude             10126                3                   2501   \n",
       "8913         home              6888                4                   4359   \n",
       "8914         home              1769                7                    514   \n",
       "8915         home              7993                5                   7872   \n",
       "8916    institude             12681                3                   5990   \n",
       "\n",
       "       Diagnosis_In_Release  ct  Admission_Days Period_Between_Admissions  \n",
       "0      5370 , 7872 , 78720    0               3                     short  \n",
       "1                     78060   0               1                      long  \n",
       "2               5119 , 514    0               2                     short  \n",
       "3               486 , 5990    0               5                      long  \n",
       "4                      7865   1               2                       mid  \n",
       "...                     ...  ..             ...                       ...  \n",
       "8912    0389 , 2501 , INT1    1               4                      long  \n",
       "8913                   3458   0               1                      long  \n",
       "8914          514 , Z37211    0               1                       mid  \n",
       "8915                   7872   0               2                      long  \n",
       "8916                   5990   0               8                      long  \n",
       "\n",
       "[8915 rows x 16 columns]"
      ]
     },
     "execution_count": 513,
     "metadata": {},
     "output_type": "execute_result"
    }
   ],
   "source": [
    "df_copy"
   ]
  },
  {
   "cell_type": "code",
   "execution_count": null,
   "id": "6a3198cd-ad8d-463f-9850-64b7c6aab380",
   "metadata": {},
   "outputs": [],
   "source": []
  }
 ],
 "metadata": {
  "kernelspec": {
   "display_name": "Python 3 (ipykernel)",
   "language": "python",
   "name": "python3"
  },
  "language_info": {
   "codemirror_mode": {
    "name": "ipython",
    "version": 3
   },
   "file_extension": ".py",
   "mimetype": "text/x-python",
   "name": "python",
   "nbconvert_exporter": "python",
   "pygments_lexer": "ipython3",
   "version": "3.12.4"
  }
 },
 "nbformat": 4,
 "nbformat_minor": 5
}
