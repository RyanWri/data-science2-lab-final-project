{
 "cells": [
  {
   "cell_type": "markdown",
   "id": "90b1c29d-dfcd-4ac7-8eb7-83cfd370d022",
   "metadata": {},
   "source": [
    "# ERDOCTOR EDA"
   ]
  },
  {
   "cell_type": "markdown",
   "id": "d41b4394-95c3-4fed-aeb7-30c1d8ae1cc0",
   "metadata": {},
   "source": [
    "## Imports"
   ]
  },
  {
   "cell_type": "code",
   "execution_count": 9,
   "id": "52190e8c-5ff6-456a-bc1c-4b31e78589e2",
   "metadata": {},
   "outputs": [],
   "source": [
    "import pandas as pd\n",
    "import matplotlib.pyplot as plt\n",
    "import numpy as np"
   ]
  },
  {
   "cell_type": "markdown",
   "id": "0c8dc0a6-9f51-4ca5-9a2c-c5cb7c7e4507",
   "metadata": {},
   "source": [
    "## Functions"
   ]
  },
  {
   "cell_type": "markdown",
   "id": "b246b44f-2ee4-4456-a232-9b1647ed4581",
   "metadata": {},
   "source": [
    "## Load Dataset"
   ]
  },
  {
   "cell_type": "markdown",
   "id": "552a62e4-b32e-47e0-bf78-11a3b99ce34b",
   "metadata": {},
   "source": [
    "First we load the dataset."
   ]
  },
  {
   "cell_type": "code",
   "execution_count": 14,
   "id": "48841bd4-e69a-4cfe-96ac-9f4d909d26ec",
   "metadata": {},
   "outputs": [],
   "source": [
    "df = pd.read_excel('ERDOCTOR.xlsx')"
   ]
  },
  {
   "cell_type": "markdown",
   "id": "58ca62ae-efbd-4f12-b31c-9ac335c21b99",
   "metadata": {},
   "source": [
    "Translate hebrew column names into english"
   ]
  },
  {
   "cell_type": "code",
   "execution_count": 16,
   "id": "c6591778-0e0c-425b-b683-5a776df966c7",
   "metadata": {},
   "outputs": [],
   "source": [
    "df.rename(columns={'תאריך': 'Date'}, inplace=True)\n",
    "df.rename(columns={'קוד רופא': 'Doctor_ID'}, inplace=True)\n",
    "df.rename(columns={'כמות מטופלים': 'Patient_count'}, inplace=True)"
   ]
  },
  {
   "cell_type": "code",
   "execution_count": 17,
   "id": "f2271895-1431-40cd-a9de-e6ffc2dc89fe",
   "metadata": {},
   "outputs": [
    {
     "name": "stdout",
     "output_type": "stream",
     "text": [
      "<class 'pandas.core.frame.DataFrame'>\n",
      "RangeIndex: 65988 entries, 0 to 65987\n",
      "Data columns (total 3 columns):\n",
      " #   Column         Non-Null Count  Dtype         \n",
      "---  ------         --------------  -----         \n",
      " 0   Date           65988 non-null  datetime64[ns]\n",
      " 1   Doctor_ID      65988 non-null  int64         \n",
      " 2   Patient_count  65988 non-null  int64         \n",
      "dtypes: datetime64[ns](1), int64(2)\n",
      "memory usage: 1.5 MB\n"
     ]
    }
   ],
   "source": [
    "df.info()"
   ]
  },
  {
   "cell_type": "markdown",
   "id": "6fcdea81-765b-4b70-b94c-9f15220bf59b",
   "metadata": {},
   "source": [
    "Check for null values."
   ]
  },
  {
   "cell_type": "code",
   "execution_count": 19,
   "id": "94f34c4d-88dc-4d42-9204-cb20363dcf1f",
   "metadata": {},
   "outputs": [
    {
     "data": {
      "text/plain": [
       "Date             0\n",
       "Doctor_ID        0\n",
       "Patient_count    0\n",
       "dtype: int64"
      ]
     },
     "execution_count": 19,
     "metadata": {},
     "output_type": "execute_result"
    }
   ],
   "source": [
    "np.sum(df.isnull(), axis = 0)"
   ]
  },
  {
   "cell_type": "markdown",
   "id": "0a144f80-331b-4641-b2c2-48e33efc16aa",
   "metadata": {},
   "source": [
    "We can see that there are no null values, no data completion is required."
   ]
  },
  {
   "cell_type": "code",
   "execution_count": 21,
   "id": "10569203-6c86-4c8c-b41b-f37e3a63686b",
   "metadata": {},
   "outputs": [
    {
     "data": {
      "text/plain": [
       "Doctor_ID\n",
       "9893     833\n",
       "6777     830\n",
       "11430    767\n",
       "10923    762\n",
       "6939     760\n",
       "        ... \n",
       "8072       1\n",
       "7886       1\n",
       "12166      1\n",
       "1618       1\n",
       "1619       1\n",
       "Name: count, Length: 1047, dtype: int64"
      ]
     },
     "execution_count": 21,
     "metadata": {},
     "output_type": "execute_result"
    }
   ],
   "source": [
    "days_count = df['Doctor_ID'].value_counts()\n",
    "days_count"
   ]
  },
  {
   "cell_type": "markdown",
   "id": "e0e97355-c648-4d8d-9e41-115a937dc3eb",
   "metadata": {},
   "source": [
    "We will find the number of patients for each doctor."
   ]
  },
  {
   "cell_type": "code",
   "execution_count": 23,
   "id": "950477ee-5cce-45f2-a054-430a657828b4",
   "metadata": {},
   "outputs": [
    {
     "data": {
      "text/html": [
       "<div>\n",
       "<style scoped>\n",
       "    .dataframe tbody tr th:only-of-type {\n",
       "        vertical-align: middle;\n",
       "    }\n",
       "\n",
       "    .dataframe tbody tr th {\n",
       "        vertical-align: top;\n",
       "    }\n",
       "\n",
       "    .dataframe thead th {\n",
       "        text-align: right;\n",
       "    }\n",
       "</style>\n",
       "<table border=\"1\" class=\"dataframe\">\n",
       "  <thead>\n",
       "    <tr style=\"text-align: right;\">\n",
       "      <th></th>\n",
       "      <th>Doctor_ID</th>\n",
       "      <th>Patient_count</th>\n",
       "    </tr>\n",
       "  </thead>\n",
       "  <tbody>\n",
       "    <tr>\n",
       "      <th>0</th>\n",
       "      <td>1003</td>\n",
       "      <td>35</td>\n",
       "    </tr>\n",
       "    <tr>\n",
       "      <th>1</th>\n",
       "      <td>1006</td>\n",
       "      <td>355</td>\n",
       "    </tr>\n",
       "    <tr>\n",
       "      <th>2</th>\n",
       "      <td>1007</td>\n",
       "      <td>143</td>\n",
       "    </tr>\n",
       "    <tr>\n",
       "      <th>3</th>\n",
       "      <td>1013</td>\n",
       "      <td>253</td>\n",
       "    </tr>\n",
       "    <tr>\n",
       "      <th>4</th>\n",
       "      <td>1014</td>\n",
       "      <td>104</td>\n",
       "    </tr>\n",
       "    <tr>\n",
       "      <th>...</th>\n",
       "      <td>...</td>\n",
       "      <td>...</td>\n",
       "    </tr>\n",
       "    <tr>\n",
       "      <th>1042</th>\n",
       "      <td>12931</td>\n",
       "      <td>235</td>\n",
       "    </tr>\n",
       "    <tr>\n",
       "      <th>1043</th>\n",
       "      <td>12932</td>\n",
       "      <td>711</td>\n",
       "    </tr>\n",
       "    <tr>\n",
       "      <th>1044</th>\n",
       "      <td>12933</td>\n",
       "      <td>201</td>\n",
       "    </tr>\n",
       "    <tr>\n",
       "      <th>1045</th>\n",
       "      <td>12937</td>\n",
       "      <td>68</td>\n",
       "    </tr>\n",
       "    <tr>\n",
       "      <th>1046</th>\n",
       "      <td>12940</td>\n",
       "      <td>53</td>\n",
       "    </tr>\n",
       "  </tbody>\n",
       "</table>\n",
       "<p>1047 rows × 2 columns</p>\n",
       "</div>"
      ],
      "text/plain": [
       "      Doctor_ID  Patient_count\n",
       "0          1003             35\n",
       "1          1006            355\n",
       "2          1007            143\n",
       "3          1013            253\n",
       "4          1014            104\n",
       "...         ...            ...\n",
       "1042      12931            235\n",
       "1043      12932            711\n",
       "1044      12933            201\n",
       "1045      12937             68\n",
       "1046      12940             53\n",
       "\n",
       "[1047 rows x 2 columns]"
      ]
     },
     "execution_count": 23,
     "metadata": {},
     "output_type": "execute_result"
    }
   ],
   "source": [
    "doctor_patient_totals = df.groupby('Doctor_ID')['Patient_count'].sum().reset_index()\n",
    "doctor_patient_totals"
   ]
  },
  {
   "cell_type": "markdown",
   "id": "524d28f6-04df-4dab-bd11-e60b17e7057b",
   "metadata": {},
   "source": [
    "We will now find the number of days each doctor has worked."
   ]
  },
  {
   "cell_type": "code",
   "execution_count": 25,
   "id": "de379e64-c0fe-47b7-b83b-218318eae22f",
   "metadata": {},
   "outputs": [
    {
     "data": {
      "text/html": [
       "<div>\n",
       "<style scoped>\n",
       "    .dataframe tbody tr th:only-of-type {\n",
       "        vertical-align: middle;\n",
       "    }\n",
       "\n",
       "    .dataframe tbody tr th {\n",
       "        vertical-align: top;\n",
       "    }\n",
       "\n",
       "    .dataframe thead th {\n",
       "        text-align: right;\n",
       "    }\n",
       "</style>\n",
       "<table border=\"1\" class=\"dataframe\">\n",
       "  <thead>\n",
       "    <tr style=\"text-align: right;\">\n",
       "      <th></th>\n",
       "      <th>Doctor_ID</th>\n",
       "      <th>Days_Count</th>\n",
       "      <th>Patient_count</th>\n",
       "    </tr>\n",
       "  </thead>\n",
       "  <tbody>\n",
       "    <tr>\n",
       "      <th>0</th>\n",
       "      <td>9893</td>\n",
       "      <td>833</td>\n",
       "      <td>4103</td>\n",
       "    </tr>\n",
       "    <tr>\n",
       "      <th>1</th>\n",
       "      <td>6777</td>\n",
       "      <td>830</td>\n",
       "      <td>6451</td>\n",
       "    </tr>\n",
       "    <tr>\n",
       "      <th>2</th>\n",
       "      <td>11430</td>\n",
       "      <td>767</td>\n",
       "      <td>6702</td>\n",
       "    </tr>\n",
       "    <tr>\n",
       "      <th>3</th>\n",
       "      <td>10923</td>\n",
       "      <td>762</td>\n",
       "      <td>8713</td>\n",
       "    </tr>\n",
       "    <tr>\n",
       "      <th>4</th>\n",
       "      <td>6939</td>\n",
       "      <td>760</td>\n",
       "      <td>7053</td>\n",
       "    </tr>\n",
       "    <tr>\n",
       "      <th>...</th>\n",
       "      <td>...</td>\n",
       "      <td>...</td>\n",
       "      <td>...</td>\n",
       "    </tr>\n",
       "    <tr>\n",
       "      <th>1042</th>\n",
       "      <td>8072</td>\n",
       "      <td>1</td>\n",
       "      <td>1</td>\n",
       "    </tr>\n",
       "    <tr>\n",
       "      <th>1043</th>\n",
       "      <td>7886</td>\n",
       "      <td>1</td>\n",
       "      <td>1</td>\n",
       "    </tr>\n",
       "    <tr>\n",
       "      <th>1044</th>\n",
       "      <td>12166</td>\n",
       "      <td>1</td>\n",
       "      <td>1</td>\n",
       "    </tr>\n",
       "    <tr>\n",
       "      <th>1045</th>\n",
       "      <td>1618</td>\n",
       "      <td>1</td>\n",
       "      <td>1</td>\n",
       "    </tr>\n",
       "    <tr>\n",
       "      <th>1046</th>\n",
       "      <td>1619</td>\n",
       "      <td>1</td>\n",
       "      <td>1</td>\n",
       "    </tr>\n",
       "  </tbody>\n",
       "</table>\n",
       "<p>1047 rows × 3 columns</p>\n",
       "</div>"
      ],
      "text/plain": [
       "      Doctor_ID  Days_Count  Patient_count\n",
       "0          9893         833           4103\n",
       "1          6777         830           6451\n",
       "2         11430         767           6702\n",
       "3         10923         762           8713\n",
       "4          6939         760           7053\n",
       "...         ...         ...            ...\n",
       "1042       8072           1              1\n",
       "1043       7886           1              1\n",
       "1044      12166           1              1\n",
       "1045       1618           1              1\n",
       "1046       1619           1              1\n",
       "\n",
       "[1047 rows x 3 columns]"
      ]
     },
     "execution_count": 25,
     "metadata": {},
     "output_type": "execute_result"
    }
   ],
   "source": [
    "merged = pd.merge(days_count, doctor_patient_totals, on='Doctor_ID')\n",
    "merged.rename(columns={'count': 'Days_Count'}, inplace=True)\n",
    "merged"
   ]
  },
  {
   "cell_type": "markdown",
   "id": "20fd015a-e2bc-411e-aa4e-2d14f901d1c4",
   "metadata": {},
   "source": [
    "We will find the average number of releases per day for each doctor."
   ]
  },
  {
   "cell_type": "code",
   "execution_count": 27,
   "id": "4e9b468a-3615-4cc1-9cdd-39ac743e911e",
   "metadata": {},
   "outputs": [
    {
     "data": {
      "text/html": [
       "<div>\n",
       "<style scoped>\n",
       "    .dataframe tbody tr th:only-of-type {\n",
       "        vertical-align: middle;\n",
       "    }\n",
       "\n",
       "    .dataframe tbody tr th {\n",
       "        vertical-align: top;\n",
       "    }\n",
       "\n",
       "    .dataframe thead th {\n",
       "        text-align: right;\n",
       "    }\n",
       "</style>\n",
       "<table border=\"1\" class=\"dataframe\">\n",
       "  <thead>\n",
       "    <tr style=\"text-align: right;\">\n",
       "      <th></th>\n",
       "      <th>Doctor_ID</th>\n",
       "      <th>Days_Count</th>\n",
       "      <th>Patient_count</th>\n",
       "      <th>average_releases_per_day</th>\n",
       "    </tr>\n",
       "  </thead>\n",
       "  <tbody>\n",
       "    <tr>\n",
       "      <th>0</th>\n",
       "      <td>9893</td>\n",
       "      <td>833</td>\n",
       "      <td>4103.0</td>\n",
       "      <td>4.925570</td>\n",
       "    </tr>\n",
       "    <tr>\n",
       "      <th>1</th>\n",
       "      <td>6777</td>\n",
       "      <td>830</td>\n",
       "      <td>6451.0</td>\n",
       "      <td>7.772289</td>\n",
       "    </tr>\n",
       "    <tr>\n",
       "      <th>2</th>\n",
       "      <td>11430</td>\n",
       "      <td>767</td>\n",
       "      <td>6702.0</td>\n",
       "      <td>8.737940</td>\n",
       "    </tr>\n",
       "    <tr>\n",
       "      <th>3</th>\n",
       "      <td>10923</td>\n",
       "      <td>762</td>\n",
       "      <td>8713.0</td>\n",
       "      <td>11.434383</td>\n",
       "    </tr>\n",
       "    <tr>\n",
       "      <th>4</th>\n",
       "      <td>6939</td>\n",
       "      <td>760</td>\n",
       "      <td>7053.0</td>\n",
       "      <td>9.280263</td>\n",
       "    </tr>\n",
       "    <tr>\n",
       "      <th>...</th>\n",
       "      <td>...</td>\n",
       "      <td>...</td>\n",
       "      <td>...</td>\n",
       "      <td>...</td>\n",
       "    </tr>\n",
       "    <tr>\n",
       "      <th>1042</th>\n",
       "      <td>8072</td>\n",
       "      <td>1</td>\n",
       "      <td>1.0</td>\n",
       "      <td>1.000000</td>\n",
       "    </tr>\n",
       "    <tr>\n",
       "      <th>1043</th>\n",
       "      <td>7886</td>\n",
       "      <td>1</td>\n",
       "      <td>1.0</td>\n",
       "      <td>1.000000</td>\n",
       "    </tr>\n",
       "    <tr>\n",
       "      <th>1044</th>\n",
       "      <td>12166</td>\n",
       "      <td>1</td>\n",
       "      <td>1.0</td>\n",
       "      <td>1.000000</td>\n",
       "    </tr>\n",
       "    <tr>\n",
       "      <th>1045</th>\n",
       "      <td>1618</td>\n",
       "      <td>1</td>\n",
       "      <td>1.0</td>\n",
       "      <td>1.000000</td>\n",
       "    </tr>\n",
       "    <tr>\n",
       "      <th>1046</th>\n",
       "      <td>1619</td>\n",
       "      <td>1</td>\n",
       "      <td>1.0</td>\n",
       "      <td>1.000000</td>\n",
       "    </tr>\n",
       "  </tbody>\n",
       "</table>\n",
       "<p>1047 rows × 4 columns</p>\n",
       "</div>"
      ],
      "text/plain": [
       "      Doctor_ID  Days_Count  Patient_count  average_releases_per_day\n",
       "0          9893         833         4103.0                  4.925570\n",
       "1          6777         830         6451.0                  7.772289\n",
       "2         11430         767         6702.0                  8.737940\n",
       "3         10923         762         8713.0                 11.434383\n",
       "4          6939         760         7053.0                  9.280263\n",
       "...         ...         ...            ...                       ...\n",
       "1042       8072           1            1.0                  1.000000\n",
       "1043       7886           1            1.0                  1.000000\n",
       "1044      12166           1            1.0                  1.000000\n",
       "1045       1618           1            1.0                  1.000000\n",
       "1046       1619           1            1.0                  1.000000\n",
       "\n",
       "[1047 rows x 4 columns]"
      ]
     },
     "execution_count": 27,
     "metadata": {},
     "output_type": "execute_result"
    }
   ],
   "source": [
    "merged['Patient_count'] = merged['Patient_count'].astype(float)\n",
    "merged['average_releases_per_day'] = merged['Patient_count'] / merged['Days_Count']\n",
    "merged"
   ]
  },
  {
   "cell_type": "code",
   "execution_count": 28,
   "id": "c3512028-1880-4f32-b304-1971cf6eeb0d",
   "metadata": {},
   "outputs": [],
   "source": [
    "# Round 'average_releases_per_day' to the nearest 0.1\n",
    "merged['rounded_average_releases_per_day'] = (merged['average_releases_per_day'] * 10).round() / 10"
   ]
  },
  {
   "cell_type": "code",
   "execution_count": 29,
   "id": "f53ca924-d675-446c-92f1-ab5e71c8e66a",
   "metadata": {},
   "outputs": [],
   "source": [
    "# Count the occurrences of each rounded value\n",
    "counts = merged['rounded_average_releases_per_day'].value_counts().sort_index()"
   ]
  },
  {
   "cell_type": "markdown",
   "id": "45d290d5-789a-4e29-a8c6-7423e6ac7c2d",
   "metadata": {},
   "source": [
    "We will calculate the mean and standard deviation of the average releases per day to find the doctors who were out of bounds in terms of releases."
   ]
  },
  {
   "cell_type": "code",
   "execution_count": 31,
   "id": "4c3d3786-ccb8-4656-9cad-37c96e7e46d9",
   "metadata": {},
   "outputs": [],
   "source": [
    "mean_value = merged['rounded_average_releases_per_day'].mean()\n",
    "std_dev = merged['rounded_average_releases_per_day'].std()"
   ]
  },
  {
   "cell_type": "code",
   "execution_count": 32,
   "id": "fdc5b8e3-5ace-4569-adc4-2949f4d22c9a",
   "metadata": {},
   "outputs": [],
   "source": [
    "# Define the range for N standard deviations from the mean\n",
    "N_std = 3\n",
    "lower_bound = mean_value - N_std * std_dev\n",
    "upper_bound = mean_value + N_std * std_dev"
   ]
  },
  {
   "cell_type": "code",
   "execution_count": 33,
   "id": "1ed14c0f-768e-41ca-a88c-17084db38882",
   "metadata": {},
   "outputs": [],
   "source": [
    "filtered_array = merged[(merged['rounded_average_releases_per_day'] <= lower_bound) |\n",
    "                        (merged['rounded_average_releases_per_day'] >= upper_bound)]['rounded_average_releases_per_day'].values"
   ]
  },
  {
   "cell_type": "code",
   "execution_count": 34,
   "id": "09843c80-acd5-488a-b519-82b776ee8791",
   "metadata": {},
   "outputs": [
    {
     "name": "stdout",
     "output_type": "stream",
     "text": [
      "\n",
      "Average releases per day evaluation:\n",
      "SD =  2.4173504608759613  Mean =  4.144699140401146\n",
      "lower_bound =  -3.107352242226738 \n",
      "upper_bound =  11.39675052302903\n",
      "\n",
      "Doctor Average releases per day -- outside 3 SDs (Doctor_ID: Average_Releases_Per_Day):\n",
      "{'10923': 11.4, '6773': 12.9, '10033': 12.1, '10760': 12.5, '10126': 13.1, '9095': 13.5, '7806': 13.0}\n"
     ]
    }
   ],
   "source": [
    "print(\"\\nAverage releases per day evaluation:\\nSD = \", std_dev , \" Mean = \", mean_value)\n",
    "print(\"lower_bound = \", lower_bound, \"\\nupper_bound = \",upper_bound)\n",
    "# Print the filtered array\n",
    "print(f\"\\nDoctor Average releases per day -- outside {N_std} SDs (Doctor_ID: Average_Releases_Per_Day):\")\n",
    "\n",
    "# Filter the doctor codes where 'average_releases_per_day' is above the threshold\n",
    "doctors_above_Nsd = merged[merged['average_releases_per_day'] > upper_bound]['Doctor_ID']\n",
    "doctors_above_Nsd = [str(ele) for ele in doctors_above_Nsd]\n",
    "releases_outside_of_SD_dict = dict(zip(doctors_above_Nsd, filtered_array))\n",
    "print(releases_outside_of_SD_dict)"
   ]
  },
  {
   "cell_type": "code",
   "execution_count": 35,
   "id": "890e168a-7563-417f-ab63-c1a346aaf0e3",
   "metadata": {},
   "outputs": [
    {
     "data": {
      "image/png": "[encoded data removed]",
      "text/plain": [
       "<Figure size 1800x1200 with 1 Axes>"
      ]
     },
     "metadata": {},
     "output_type": "display_data"
    }
   ],
   "source": [
    "# Plot the histogram (bar chart)\n",
    "plt.figure(figsize=(18, 12))\n",
    "plt.bar(counts.index, counts.values, width=0.2, color='skyblue')\n",
    "# only one line may be specified; full height\n",
    "plt.axvline(x = upper_bound, color = 'r', label = 'Upper Bound')\n",
    "\n",
    "# Set labels and title\n",
    "plt.xlabel('Average Releases Per Day (Rounded to Nearest 0.1)')\n",
    "plt.ylabel('Count')\n",
    "plt.title('Distribution of Rounded Average Releases Per Day')\n",
    "\n",
    "# Customize x-axis ticks\n",
    "plt.xticks(counts.index, rotation=90, ha='right')\n",
    "\n",
    "# Show grid for y-axis\n",
    "plt.grid(axis='y', linestyle='--', alpha=0.7)\n",
    "\n",
    "plt.rcParams.update({'font.size': 15})\n",
    "\n",
    "# Adjust layout for better spacing\n",
    "plt.tight_layout()\n",
    "\n",
    "plt.legend(bbox_to_anchor = (1.0, 1), loc = 'upper left')\n",
    "\n",
    "# Show the plot\n",
    "plt.show()"
   ]
  },
  {
   "cell_type": "markdown",
   "id": "75c03b8e-1a74-47d7-b288-1256a2d35b2e",
   "metadata": {},
   "source": [
    "We can see that not many doctors were above the upper bound, but there are still some doctors who released many patients on average each day, far more than most doctors. \n",
    "\n",
    "We can also see that most doctors released patients after one day of being hospitalized."
   ]
  }
 ],
 "metadata": {
  "kernelspec": {
   "display_name": "Python 3 (ipykernel)",
   "language": "python",
   "name": "python3"
  },
  "language_info": {
   "codemirror_mode": {
    "name": "ipython",
    "version": 3
   },
   "file_extension": ".py",
   "mimetype": "text/x-python",
   "name": "python",
   "nbconvert_exporter": "python",
   "pygments_lexer": "ipython3",
   "version": "3.12.4"
  }
 },
 "nbformat": 4,
 "nbformat_minor": 5
}
