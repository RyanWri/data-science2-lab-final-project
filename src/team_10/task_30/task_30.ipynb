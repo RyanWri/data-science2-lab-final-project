{
 "cells": [
  {
   "cell_type": "markdown",
   "id": "d4382aaf-2352-4684-af32-6204eb6f6d65",
   "metadata": {},
   "source": [
    "# General Data Clustering"
   ]
  },
  {
   "cell_type": "markdown",
   "id": "a76c65b2-4f40-4bc4-ac83-6dbd3d895f2c",
   "metadata": {},
   "source": [
    "## Imports"
   ]
  },
  {
   "cell_type": "code",
   "execution_count": 796,
   "id": "3626b92d-5d58-4c9b-8b22-aaa0a0c65dc5",
   "metadata": {},
   "outputs": [],
   "source": [
    "from matplotlib import pyplot as plt\n",
    "from sklearn.cluster import KMeans\n",
    "import pandas as pd\n",
    "from sklearn.preprocessing import LabelEncoder\n",
    "from sklearn.preprocessing import StandardScaler, MinMaxScaler\n",
    "from sklearn.cluster import KMeans\n",
    "import seaborn as sns\n",
    "import matplotlib.pyplot as plt\n",
    "from sklearn.decomposition import PCA\n",
    "import numpy as np\n",
    "import math"
   ]
  },
  {
   "cell_type": "markdown",
   "id": "d5c3abe8-2fee-4600-8abb-974581536a3c",
   "metadata": {},
   "source": [
    "## Functions"
   ]
  },
  {
   "cell_type": "code",
   "execution_count": 799,
   "id": "1ff1188d-cd43-4938-968e-5e48466d0267",
   "metadata": {},
   "outputs": [],
   "source": [
    "def calculate_bmi(weight, height):\n",
    "    height /= 100.0\n",
    "    return round(weight / math.pow(height, 2), 2)"
   ]
  },
  {
   "cell_type": "code",
   "execution_count": 801,
   "id": "3276cd42-2d01-45e4-b42b-ff2072b0bcc7",
   "metadata": {},
   "outputs": [],
   "source": [
    "def replace_bmi(df):\n",
    "    for i in range(len(df['BMI'])):\n",
    "        df.loc[i, 'BMI'] = calculate_bmi(df['Weight'][i].copy(), df['Height'][i].copy())"
   ]
  },
  {
   "cell_type": "markdown",
   "id": "34900091-e441-40b6-b70a-48790c13fb40",
   "metadata": {},
   "source": [
    "## Load Dataset & Initial Fix"
   ]
  },
  {
   "cell_type": "code",
   "execution_count": 804,
   "id": "344c1aee-195c-4536-82b4-d15cf259e824",
   "metadata": {},
   "outputs": [],
   "source": [
    "df = pd.read_excel('GeneralData.xlsx')"
   ]
  },
  {
   "cell_type": "markdown",
   "id": "07e441bf-3395-4069-b84d-822fd4d943ae",
   "metadata": {},
   "source": [
    "Translate the columns with hebrew names to english"
   ]
  },
  {
   "cell_type": "code",
   "execution_count": 805,
   "id": "3bcea128-050c-49e7-be64-7d1eca1cf154",
   "metadata": {},
   "outputs": [],
   "source": [
    "df.rename(columns={'גורם משלם': 'Paying institute'}, inplace=True)\n",
    "df.rename(columns={'משקל': 'Weight'}, inplace=True)\n",
    "df.rename(columns={'גובה': 'Height'}, inplace=True)\n",
    "df.rename(columns={'מחלות כרוניות': 'Chronic_diseases'}, inplace=True)\n",
    "df.rename(columns={'מספר ילדים': 'Number_of_children'}, inplace=True)\n",
    "df.rename(columns={'מצב משפחתי': 'Marital_status'}, inplace=True)\n",
    "df.rename(columns={'השכלה': 'Education'}, inplace=True)\n",
    "df.rename(columns={'תרופות קבועות': 'Regular_medications'}, inplace=True)"
   ]
  },
  {
   "cell_type": "code",
   "execution_count": 806,
   "id": "10fa84f3-549e-4ab3-89cd-b51e9de271ed",
   "metadata": {},
   "outputs": [
    {
     "name": "stdout",
     "output_type": "stream",
     "text": [
      "<class 'pandas.core.frame.DataFrame'>\n",
      "RangeIndex: 4535 entries, 0 to 4534\n",
      "Data columns (total 12 columns):\n",
      " #   Column               Non-Null Count  Dtype  \n",
      "---  ------               --------------  -----  \n",
      " 0   Patient              4535 non-null   int64  \n",
      " 1   age                  4535 non-null   int64  \n",
      " 2   Gender               4535 non-null   object \n",
      " 3   Paying institute     4524 non-null   object \n",
      " 4   Weight               3718 non-null   float64\n",
      " 5   Height               3698 non-null   float64\n",
      " 6   BMI                  3504 non-null   float64\n",
      " 7   Chronic_diseases     4535 non-null   int64  \n",
      " 8   Education            2641 non-null   object \n",
      " 9   Number_of_children   4373 non-null   object \n",
      " 10  Marital_status       4474 non-null   object \n",
      " 11  Regular_medications  4495 non-null   object \n",
      "dtypes: float64(3), int64(3), object(6)\n",
      "memory usage: 425.3+ KB\n"
     ]
    }
   ],
   "source": [
    "df.info()"
   ]
  },
  {
   "cell_type": "markdown",
   "id": "473360c3-cda9-4d30-965e-4e472b04e81e",
   "metadata": {},
   "source": [
    "Check for null values"
   ]
  },
  {
   "cell_type": "code",
   "execution_count": 807,
   "id": "d5581228-d091-4e0a-9035-cc9d958c65cc",
   "metadata": {},
   "outputs": [
    {
     "data": {
      "text/plain": [
       "Patient                   0\n",
       "age                       0\n",
       "Gender                    0\n",
       "Paying institute         11\n",
       "Weight                  817\n",
       "Height                  837\n",
       "BMI                    1031\n",
       "Chronic_diseases          0\n",
       "Education              1894\n",
       "Number_of_children      162\n",
       "Marital_status           61\n",
       "Regular_medications      40\n",
       "dtype: int64"
      ]
     },
     "execution_count": 807,
     "metadata": {},
     "output_type": "execute_result"
    }
   ],
   "source": [
    "np.sum(df.isnull(), axis = 0)"
   ]
  },
  {
   "cell_type": "markdown",
   "id": "fe215e34-b4f4-43e6-a1fe-8ac8819b33c2",
   "metadata": {},
   "source": [
    "We can see that we have some null values in a few columns. We will fill these fields.\n",
    "\n",
    "First we will fill the 'Weight' and 'Height' columns with the mean values."
   ]
  },
  {
   "cell_type": "code",
   "execution_count": 812,
   "id": "3f884762-34ac-4bf7-a8f5-7c1c7293cf69",
   "metadata": {},
   "outputs": [
    {
     "name": "stdout",
     "output_type": "stream",
     "text": [
      "Weight Mean: 75.9\n",
      "Height Mean: 165.24\n"
     ]
    }
   ],
   "source": [
    "weight_mean = round(df['Weight'].mean(), 2)\n",
    "height_mean = round(df['Height'].mean(), 2)\n",
    "print(f'Weight Mean: {weight_mean}')\n",
    "print(f'Height Mean: {height_mean}')"
   ]
  },
  {
   "cell_type": "code",
   "execution_count": 814,
   "id": "b8f27698-295a-414d-8d02-9be775679009",
   "metadata": {},
   "outputs": [],
   "source": [
    "df.fillna({'Weight': weight_mean}, inplace=True)\n",
    "df.fillna({'Height': height_mean}, inplace= True)"
   ]
  },
  {
   "cell_type": "code",
   "execution_count": 816,
   "id": "07a4f566-c5e3-4122-82f3-7d70c74c493a",
   "metadata": {},
   "outputs": [
    {
     "data": {
      "text/plain": [
       "Patient                   0\n",
       "age                       0\n",
       "Gender                    0\n",
       "Paying institute         11\n",
       "Weight                    0\n",
       "Height                    0\n",
       "BMI                    1031\n",
       "Chronic_diseases          0\n",
       "Education              1894\n",
       "Number_of_children      162\n",
       "Marital_status           61\n",
       "Regular_medications      40\n",
       "dtype: int64"
      ]
     },
     "execution_count": 816,
     "metadata": {},
     "output_type": "execute_result"
    }
   ],
   "source": [
    "np.sum(df.isnull(), axis = 0)"
   ]
  },
  {
   "cell_type": "markdown",
   "id": "9eee67ab-1e2f-41eb-9d9f-38633e749912",
   "metadata": {},
   "source": [
    "We can see that the fields were indeed filled with the mean values.\n",
    "\n",
    "From a small look into the GeneralData sheet, many values in the 'BMI' were wrong. For this reason, we decided to replace the BMI values with new values calculated according to the Height and Weight columns after filling the missing rows."
   ]
  },
  {
   "cell_type": "code",
   "execution_count": 818,
   "id": "a60677c7-9c2d-41c2-b79c-aba741a7c719",
   "metadata": {},
   "outputs": [],
   "source": [
    "replace_bmi(df)"
   ]
  },
  {
   "cell_type": "code",
   "execution_count": 819,
   "id": "985b5fbd-5be2-4422-afe6-68be865ac277",
   "metadata": {},
   "outputs": [
    {
     "data": {
      "text/plain": [
       "Patient                   0\n",
       "age                       0\n",
       "Gender                    0\n",
       "Paying institute         11\n",
       "Weight                    0\n",
       "Height                    0\n",
       "BMI                       0\n",
       "Chronic_diseases          0\n",
       "Education              1894\n",
       "Number_of_children      162\n",
       "Marital_status           61\n",
       "Regular_medications      40\n",
       "dtype: int64"
      ]
     },
     "execution_count": 819,
     "metadata": {},
     "output_type": "execute_result"
    }
   ],
   "source": [
    "np.sum(df.isnull(), axis = 0)"
   ]
  },
  {
   "cell_type": "markdown",
   "id": "09dfa4f8-987a-460b-a1ed-cd10658907c6",
   "metadata": {},
   "source": [
    "After we replaced the values in the 'BMI' column, we can now fix the 'Marital_status' column.\n",
    "\n",
    "We will fill the missing rows with the most common value in the data."
   ]
  },
  {
   "cell_type": "code",
   "execution_count": 820,
   "id": "6111b6fc-cfb7-4f8a-baf3-f93f051326b2",
   "metadata": {},
   "outputs": [
    {
     "data": {
      "text/plain": [
       "Marital_status\n",
       "נשוי    2305\n",
       "אלמן    1542\n",
       "גרוש     425\n",
       "רווק     186\n",
       "פרוד      16\n",
       "Name: count, dtype: int64"
      ]
     },
     "execution_count": 820,
     "metadata": {},
     "output_type": "execute_result"
    }
   ],
   "source": [
    "df['Marital_status'].value_counts()"
   ]
  },
  {
   "cell_type": "code",
   "execution_count": 821,
   "id": "50a79955-4de3-4b65-9e08-12051d524673",
   "metadata": {},
   "outputs": [],
   "source": [
    "df.fillna({'Marital_status': 'נשוי'}, inplace=True)"
   ]
  },
  {
   "cell_type": "code",
   "execution_count": 822,
   "id": "c326defb-2a62-4cb8-8e49-a3909eb80f40",
   "metadata": {},
   "outputs": [
    {
     "data": {
      "text/plain": [
       "Patient                   0\n",
       "age                       0\n",
       "Gender                    0\n",
       "Paying institute         11\n",
       "Weight                    0\n",
       "Height                    0\n",
       "BMI                       0\n",
       "Chronic_diseases          0\n",
       "Education              1894\n",
       "Number_of_children      162\n",
       "Marital_status            0\n",
       "Regular_medications      40\n",
       "dtype: int64"
      ]
     },
     "execution_count": 822,
     "metadata": {},
     "output_type": "execute_result"
    }
   ],
   "source": [
    "np.sum(df.isnull(), axis = 0)"
   ]
  },
  {
   "cell_type": "markdown",
   "id": "70626ac0-2ac3-4894-853d-a1a996b215a5",
   "metadata": {},
   "source": [
    "We will now attempt to fill the 'Number_of_children' column in the same way we did for 'Marital_status' column."
   ]
  },
  {
   "cell_type": "code",
   "execution_count": 823,
   "id": "295eb3b0-5297-4f4a-a3af-5aa1bbcf5641",
   "metadata": {},
   "outputs": [
    {
     "data": {
      "text/plain": [
       "Number_of_children\n",
       "3                      1216\n",
       "2                      1005\n",
       "4                       652\n",
       "1                       399\n",
       "5                       340\n",
       "0                       236\n",
       "6                       175\n",
       "7                       129\n",
       "8                        77\n",
       "9                        60\n",
       "10                       41\n",
       "11                       16\n",
       "12                       11\n",
       "13                        6\n",
       "14                        4\n",
       "1 + 2 (נפטרו)             1\n",
       "4           4             1\n",
       "2( ילדים בחוץ לארץ)       1\n",
       "15                        1\n",
       "נכדה  אחת                 1\n",
       "אין                       1\n",
       "Name: count, dtype: int64"
      ]
     },
     "execution_count": 823,
     "metadata": {},
     "output_type": "execute_result"
    }
   ],
   "source": [
    "df['Number_of_children'].value_counts()"
   ]
  },
  {
   "cell_type": "markdown",
   "id": "f5698d51-ebda-4928-834a-de5cf6c0dbd6",
   "metadata": {},
   "source": [
    "We can see that the 'Number_of_children' contain some other fields that are strings and not numbers, we will replace these fields with numbers as we can see that they each have only one row that they are filled in. "
   ]
  },
  {
   "cell_type": "code",
   "execution_count": 830,
   "id": "d531d09e-b9d2-4d82-8364-3aa0a3342714",
   "metadata": {},
   "outputs": [
    {
     "name": "stdout",
     "output_type": "stream",
     "text": [
      "(array([2467], dtype=int64),)\n",
      "(array([478], dtype=int64),)\n",
      "(array([588], dtype=int64),)\n",
      "(array([1978], dtype=int64),)\n",
      "(array([1292], dtype=int64),)\n"
     ]
    }
   ],
   "source": [
    "print(np.where(df['Number_of_children'] == 'אין'))\n",
    "print(np.where(df['Number_of_children'] == '1 + 2 (נפטרו)'))\n",
    "print(np.where(df['Number_of_children'] == '4           4'))\n",
    "print(np.where(df['Number_of_children'] == 'נכדה  אחת'))\n",
    "print(np.where(df['Number_of_children'] == '2( ילדים בחוץ לארץ)'))"
   ]
  },
  {
   "cell_type": "code",
   "execution_count": 832,
   "id": "56715093-4ae1-47f3-8210-84c1035c065c",
   "metadata": {},
   "outputs": [],
   "source": [
    "df.loc[2467, 'Number_of_children'] = 0\n",
    "df.loc[478, 'Number_of_children'] = 1\n",
    "df.loc[588, 'Number_of_children'] = 4\n",
    "df.loc[1978, 'Number_of_children'] = 1\n",
    "df.loc[1292, 'Number_of_children'] = 2"
   ]
  },
  {
   "cell_type": "code",
   "execution_count": 834,
   "id": "086bdf91-878d-467f-a34d-7cca79a526bb",
   "metadata": {},
   "outputs": [],
   "source": [
    "df['Number_of_children'] = df['Number_of_children'].astype(float)"
   ]
  },
  {
   "cell_type": "code",
   "execution_count": 836,
   "id": "6189c8a5-1283-49f9-88b1-6732fb604181",
   "metadata": {},
   "outputs": [
    {
     "data": {
      "text/plain": [
       "Number_of_children\n",
       "3.0     1216\n",
       "2.0     1006\n",
       "4.0      653\n",
       "1.0      401\n",
       "5.0      340\n",
       "0.0      237\n",
       "6.0      175\n",
       "7.0      129\n",
       "8.0       77\n",
       "9.0       60\n",
       "10.0      41\n",
       "11.0      16\n",
       "12.0      11\n",
       "13.0       6\n",
       "14.0       4\n",
       "15.0       1\n",
       "Name: count, dtype: int64"
      ]
     },
     "execution_count": 836,
     "metadata": {},
     "output_type": "execute_result"
    }
   ],
   "source": [
    "df['Number_of_children'].value_counts()"
   ]
  },
  {
   "cell_type": "code",
   "execution_count": 838,
   "id": "93a61193-ab69-4c01-bfaa-1ce13ef36f83",
   "metadata": {},
   "outputs": [],
   "source": [
    "df.fillna({'Number_of_children': 1.0}, inplace=True)"
   ]
  },
  {
   "cell_type": "code",
   "execution_count": 840,
   "id": "57d9123c-1d7a-403f-baaa-54cc9f4bc37c",
   "metadata": {},
   "outputs": [
    {
     "data": {
      "text/plain": [
       "Patient                   0\n",
       "age                       0\n",
       "Gender                    0\n",
       "Paying institute         11\n",
       "Weight                    0\n",
       "Height                    0\n",
       "BMI                       0\n",
       "Chronic_diseases          0\n",
       "Education              1894\n",
       "Number_of_children        0\n",
       "Marital_status            0\n",
       "Regular_medications      40\n",
       "dtype: int64"
      ]
     },
     "execution_count": 840,
     "metadata": {},
     "output_type": "execute_result"
    }
   ],
   "source": [
    "np.sum(df.isnull(), axis = 0)"
   ]
  },
  {
   "cell_type": "code",
   "execution_count": 842,
   "id": "df450d08-d3d4-4909-9803-b97e3803d31f",
   "metadata": {},
   "outputs": [
    {
     "data": {
      "text/plain": [
       "Number_of_children\n",
       "3.0     1216\n",
       "2.0     1006\n",
       "4.0      653\n",
       "1.0      563\n",
       "5.0      340\n",
       "0.0      237\n",
       "6.0      175\n",
       "7.0      129\n",
       "8.0       77\n",
       "9.0       60\n",
       "10.0      41\n",
       "11.0      16\n",
       "12.0      11\n",
       "13.0       6\n",
       "14.0       4\n",
       "15.0       1\n",
       "Name: count, dtype: int64"
      ]
     },
     "execution_count": 842,
     "metadata": {},
     "output_type": "execute_result"
    }
   ],
   "source": [
    "df['Number_of_children'].value_counts()"
   ]
  },
  {
   "cell_type": "code",
   "execution_count": 844,
   "id": "d58e76be-2bc2-4f78-b5d4-e80546a7e4a4",
   "metadata": {},
   "outputs": [],
   "source": [
    "df['Number_of_children'] = df['Number_of_children'].astype(int)"
   ]
  },
  {
   "cell_type": "code",
   "execution_count": 846,
   "id": "e5531357-50d4-4fe9-b99e-e87d9d964405",
   "metadata": {},
   "outputs": [
    {
     "data": {
      "text/plain": [
       "Patient                   0\n",
       "age                       0\n",
       "Gender                    0\n",
       "Paying institute         11\n",
       "Weight                    0\n",
       "Height                    0\n",
       "BMI                       0\n",
       "Chronic_diseases          0\n",
       "Education              1894\n",
       "Number_of_children        0\n",
       "Marital_status            0\n",
       "Regular_medications      40\n",
       "dtype: int64"
      ]
     },
     "execution_count": 846,
     "metadata": {},
     "output_type": "execute_result"
    }
   ],
   "source": [
    "np.sum(df.isnull(), axis = 0)"
   ]
  },
  {
   "cell_type": "code",
   "execution_count": 848,
   "id": "34dd6ea6-81ce-45a2-a5ba-252e851243e7",
   "metadata": {},
   "outputs": [],
   "source": [
    "df.fillna({'Regular_medications': -1}, inplace=True)"
   ]
  },
  {
   "cell_type": "code",
   "execution_count": 850,
   "id": "7f385ad3-e298-4360-a0ef-d444817666aa",
   "metadata": {},
   "outputs": [
    {
     "data": {
      "text/plain": [
       "Patient                   0\n",
       "age                       0\n",
       "Gender                    0\n",
       "Paying institute         11\n",
       "Weight                    0\n",
       "Height                    0\n",
       "BMI                       0\n",
       "Chronic_diseases          0\n",
       "Education              1894\n",
       "Number_of_children        0\n",
       "Marital_status            0\n",
       "Regular_medications       0\n",
       "dtype: int64"
      ]
     },
     "execution_count": 850,
     "metadata": {},
     "output_type": "execute_result"
    }
   ],
   "source": [
    "np.sum(df.isnull(), axis = 0)"
   ]
  },
  {
   "cell_type": "markdown",
   "id": "16d82f05-27d5-42f4-9e16-478ea8672c22",
   "metadata": {},
   "source": [
    "After filling the missing rows in 'Number_of_children' we will now drop the columns that are irrelevant for the research question and proceed to the clustering process."
   ]
  },
  {
   "cell_type": "code",
   "execution_count": 852,
   "id": "95baab71-669a-414b-b1f1-5e5356ba69a7",
   "metadata": {},
   "outputs": [],
   "source": [
    "df.drop(columns=['Paying institute', 'Education', 'Patient'], axis = 0, inplace=True)"
   ]
  },
  {
   "cell_type": "code",
   "execution_count": 854,
   "id": "49b34396-6f55-4997-ba0b-b6b9b9bd514e",
   "metadata": {},
   "outputs": [
    {
     "data": {
      "text/html": [
       "<div>\n",
       "<style scoped>\n",
       "    .dataframe tbody tr th:only-of-type {\n",
       "        vertical-align: middle;\n",
       "    }\n",
       "\n",
       "    .dataframe tbody tr th {\n",
       "        vertical-align: top;\n",
       "    }\n",
       "\n",
       "    .dataframe thead th {\n",
       "        text-align: right;\n",
       "    }\n",
       "</style>\n",
       "<table border=\"1\" class=\"dataframe\">\n",
       "  <thead>\n",
       "    <tr style=\"text-align: right;\">\n",
       "      <th></th>\n",
       "      <th>age</th>\n",
       "      <th>Gender</th>\n",
       "      <th>Weight</th>\n",
       "      <th>Height</th>\n",
       "      <th>BMI</th>\n",
       "      <th>Chronic_diseases</th>\n",
       "      <th>Number_of_children</th>\n",
       "      <th>Marital_status</th>\n",
       "      <th>Regular_medications</th>\n",
       "    </tr>\n",
       "  </thead>\n",
       "  <tbody>\n",
       "    <tr>\n",
       "      <th>0</th>\n",
       "      <td>84</td>\n",
       "      <td>זכר</td>\n",
       "      <td>92.0</td>\n",
       "      <td>170.0</td>\n",
       "      <td>31.83</td>\n",
       "      <td>1</td>\n",
       "      <td>3</td>\n",
       "      <td>נשוי</td>\n",
       "      <td>10815 , 11282 , 1183 , 1196 , 12758 , 13027 ,...</td>\n",
       "    </tr>\n",
       "    <tr>\n",
       "      <th>1</th>\n",
       "      <td>89</td>\n",
       "      <td>נקבה</td>\n",
       "      <td>45.0</td>\n",
       "      <td>150.0</td>\n",
       "      <td>20.00</td>\n",
       "      <td>0</td>\n",
       "      <td>1</td>\n",
       "      <td>גרוש</td>\n",
       "      <td>10337 , 1130 , 1448 , 1466 , 186 , 2482 , 290...</td>\n",
       "    </tr>\n",
       "    <tr>\n",
       "      <th>2</th>\n",
       "      <td>87</td>\n",
       "      <td>זכר</td>\n",
       "      <td>67.7</td>\n",
       "      <td>165.0</td>\n",
       "      <td>24.87</td>\n",
       "      <td>0</td>\n",
       "      <td>2</td>\n",
       "      <td>נשוי</td>\n",
       "      <td>1183 , 1310 , 2451 , 2566 , 4967 , 6718 , 672...</td>\n",
       "    </tr>\n",
       "    <tr>\n",
       "      <th>3</th>\n",
       "      <td>90</td>\n",
       "      <td>נקבה</td>\n",
       "      <td>94.0</td>\n",
       "      <td>165.0</td>\n",
       "      <td>34.53</td>\n",
       "      <td>0</td>\n",
       "      <td>1</td>\n",
       "      <td>גרוש</td>\n",
       "      <td>1100 , 1181 , 1182 , 1183 , 12757 , 1283 , 12...</td>\n",
       "    </tr>\n",
       "    <tr>\n",
       "      <th>4</th>\n",
       "      <td>87</td>\n",
       "      <td>זכר</td>\n",
       "      <td>70.0</td>\n",
       "      <td>163.0</td>\n",
       "      <td>26.35</td>\n",
       "      <td>0</td>\n",
       "      <td>3</td>\n",
       "      <td>נשוי</td>\n",
       "      <td>10214 , 1212 , 12725 , 2882 , 6737 , 7852 , 7...</td>\n",
       "    </tr>\n",
       "    <tr>\n",
       "      <th>...</th>\n",
       "      <td>...</td>\n",
       "      <td>...</td>\n",
       "      <td>...</td>\n",
       "      <td>...</td>\n",
       "      <td>...</td>\n",
       "      <td>...</td>\n",
       "      <td>...</td>\n",
       "      <td>...</td>\n",
       "      <td>...</td>\n",
       "    </tr>\n",
       "    <tr>\n",
       "      <th>4530</th>\n",
       "      <td>82</td>\n",
       "      <td>זכר</td>\n",
       "      <td>69.0</td>\n",
       "      <td>180.0</td>\n",
       "      <td>21.30</td>\n",
       "      <td>0</td>\n",
       "      <td>3</td>\n",
       "      <td>נשוי</td>\n",
       "      <td>1150 , 1682 , 2043 , 2150 , 2188 , 2566 , 260...</td>\n",
       "    </tr>\n",
       "    <tr>\n",
       "      <th>4531</th>\n",
       "      <td>79</td>\n",
       "      <td>זכר</td>\n",
       "      <td>64.0</td>\n",
       "      <td>170.0</td>\n",
       "      <td>22.15</td>\n",
       "      <td>0</td>\n",
       "      <td>4</td>\n",
       "      <td>נשוי</td>\n",
       "      <td>-1</td>\n",
       "    </tr>\n",
       "    <tr>\n",
       "      <th>4532</th>\n",
       "      <td>99</td>\n",
       "      <td>זכר</td>\n",
       "      <td>60.0</td>\n",
       "      <td>170.0</td>\n",
       "      <td>20.76</td>\n",
       "      <td>0</td>\n",
       "      <td>3</td>\n",
       "      <td>אלמן</td>\n",
       "      <td>12284 , 2384 , 2412 , 2791 , 2843 , 3211 , 32...</td>\n",
       "    </tr>\n",
       "    <tr>\n",
       "      <th>4533</th>\n",
       "      <td>75</td>\n",
       "      <td>זכר</td>\n",
       "      <td>97.0</td>\n",
       "      <td>170.0</td>\n",
       "      <td>33.56</td>\n",
       "      <td>0</td>\n",
       "      <td>3</td>\n",
       "      <td>נשוי</td>\n",
       "      <td>1183 , 12730 , 1637 , 2568 , 37 , 3724 , 4856...</td>\n",
       "    </tr>\n",
       "    <tr>\n",
       "      <th>4534</th>\n",
       "      <td>94</td>\n",
       "      <td>נקבה</td>\n",
       "      <td>65.0</td>\n",
       "      <td>165.0</td>\n",
       "      <td>23.88</td>\n",
       "      <td>0</td>\n",
       "      <td>3</td>\n",
       "      <td>אלמן</td>\n",
       "      <td>10201 , 1183 , 12722 , 1357 , 1443 , 1466 , 1...</td>\n",
       "    </tr>\n",
       "  </tbody>\n",
       "</table>\n",
       "<p>4535 rows × 9 columns</p>\n",
       "</div>"
      ],
      "text/plain": [
       "      age Gender  Weight  Height    BMI  Chronic_diseases  Number_of_children  \\\n",
       "0      84    זכר    92.0   170.0  31.83                 1                   3   \n",
       "1      89   נקבה    45.0   150.0  20.00                 0                   1   \n",
       "2      87    זכר    67.7   165.0  24.87                 0                   2   \n",
       "3      90   נקבה    94.0   165.0  34.53                 0                   1   \n",
       "4      87    זכר    70.0   163.0  26.35                 0                   3   \n",
       "...   ...    ...     ...     ...    ...               ...                 ...   \n",
       "4530   82    זכר    69.0   180.0  21.30                 0                   3   \n",
       "4531   79    זכר    64.0   170.0  22.15                 0                   4   \n",
       "4532   99    זכר    60.0   170.0  20.76                 0                   3   \n",
       "4533   75    זכר    97.0   170.0  33.56                 0                   3   \n",
       "4534   94   נקבה    65.0   165.0  23.88                 0                   3   \n",
       "\n",
       "     Marital_status                                Regular_medications  \n",
       "0              נשוי   10815 , 11282 , 1183 , 1196 , 12758 , 13027 ,...  \n",
       "1              גרוש   10337 , 1130 , 1448 , 1466 , 186 , 2482 , 290...  \n",
       "2              נשוי   1183 , 1310 , 2451 , 2566 , 4967 , 6718 , 672...  \n",
       "3              גרוש   1100 , 1181 , 1182 , 1183 , 12757 , 1283 , 12...  \n",
       "4              נשוי   10214 , 1212 , 12725 , 2882 , 6737 , 7852 , 7...  \n",
       "...             ...                                                ...  \n",
       "4530           נשוי   1150 , 1682 , 2043 , 2150 , 2188 , 2566 , 260...  \n",
       "4531           נשוי                                                 -1  \n",
       "4532           אלמן   12284 , 2384 , 2412 , 2791 , 2843 , 3211 , 32...  \n",
       "4533           נשוי   1183 , 12730 , 1637 , 2568 , 37 , 3724 , 4856...  \n",
       "4534           אלמן   10201 , 1183 , 12722 , 1357 , 1443 , 1466 , 1...  \n",
       "\n",
       "[4535 rows x 9 columns]"
      ]
     },
     "execution_count": 854,
     "metadata": {},
     "output_type": "execute_result"
    }
   ],
   "source": [
    "df"
   ]
  },
  {
   "cell_type": "code",
   "execution_count": 856,
   "id": "34dd95a4-0141-4a6d-a1de-3f7cbab0ead7",
   "metadata": {},
   "outputs": [
    {
     "data": {
      "text/plain": [
       "age                    0\n",
       "Gender                 0\n",
       "Weight                 0\n",
       "Height                 0\n",
       "BMI                    0\n",
       "Chronic_diseases       0\n",
       "Number_of_children     0\n",
       "Marital_status         0\n",
       "Regular_medications    0\n",
       "dtype: int64"
      ]
     },
     "execution_count": 856,
     "metadata": {},
     "output_type": "execute_result"
    }
   ],
   "source": [
    "np.sum(df.isnull(), axis = 0)"
   ]
  },
  {
   "cell_type": "code",
   "execution_count": 858,
   "id": "45b00f5f-1b73-473f-a7cc-4b10439982dd",
   "metadata": {},
   "outputs": [],
   "source": [
    "label_encoder = LabelEncoder()\n",
    "df['Gender'] = label_encoder.fit_transform(df['Gender'])"
   ]
  },
  {
   "cell_type": "code",
   "execution_count": 860,
   "id": "7a792cf8-54d0-4de1-ad4c-ae514f391d90",
   "metadata": {},
   "outputs": [],
   "source": [
    "df['Marital_status'] = label_encoder.fit_transform(df['Marital_status'])"
   ]
  },
  {
   "cell_type": "code",
   "execution_count": 862,
   "id": "40560dc7-993b-4037-b4f4-d1f87c271b99",
   "metadata": {},
   "outputs": [],
   "source": [
    "relevant_features = ['age', 'Gender', 'BMI', 'Chronic_diseases', 'Number_of_children', 'Marital_status']"
   ]
  },
  {
   "cell_type": "code",
   "execution_count": 864,
   "id": "89405552-a8aa-4b35-97cc-4e7a71dfa742",
   "metadata": {},
   "outputs": [],
   "source": [
    "df_relevant = df[relevant_features]\n",
    "df_relevant = df_relevant.dropna()"
   ]
  },
  {
   "cell_type": "code",
   "execution_count": 866,
   "id": "5ee9bfca-7a47-4d20-8470-c37b01d15abc",
   "metadata": {},
   "outputs": [
    {
     "data": {
      "text/plain": [
       "dtype('int32')"
      ]
     },
     "execution_count": 866,
     "metadata": {},
     "output_type": "execute_result"
    }
   ],
   "source": [
    "df_relevant['Chronic_diseases'] = df['Chronic_diseases'].astype(int)\n",
    "df_relevant['Chronic_diseases'].dtype"
   ]
  },
  {
   "cell_type": "code",
   "execution_count": 880,
   "id": "33b84ba7-c033-404b-b4b8-aa067f281012",
   "metadata": {},
   "outputs": [],
   "source": [
    "df_test = df_relevant.copy()"
   ]
  },
  {
   "cell_type": "code",
   "execution_count": 882,
   "id": "f9a2bc64-4efd-45b1-af83-1728467a21b7",
   "metadata": {},
   "outputs": [
    {
     "name": "stdout",
     "output_type": "stream",
     "text": [
      "['age', 'BMI']\n"
     ]
    }
   ],
   "source": [
    "cols_to_scale = []\n",
    "for col in df_relevant.columns:\n",
    "    if df_relevant[col].dtype == 'int64' or df_relevant[col].dtype == 'float64':\n",
    "        cols_to_scale.append(col)\n",
    "\n",
    "print(cols_to_scale)"
   ]
  },
  {
   "cell_type": "code",
   "execution_count": 884,
   "id": "58cc1c28-9b1d-49a1-a8c0-9e97dbec4287",
   "metadata": {},
   "outputs": [
    {
     "data": {
      "text/plain": [
       "age                     int64\n",
       "Gender                  int32\n",
       "BMI                   float64\n",
       "Chronic_diseases        int32\n",
       "Number_of_children      int32\n",
       "Marital_status          int32\n",
       "dtype: object"
      ]
     },
     "execution_count": 884,
     "metadata": {},
     "output_type": "execute_result"
    }
   ],
   "source": [
    "df_relevant.dtypes"
   ]
  },
  {
   "cell_type": "markdown",
   "id": "50ccedd2-8f46-4b4d-8d41-cfc979af9574",
   "metadata": {},
   "source": [
    "We will scale the numeric data before clustering so they will be on the same scale."
   ]
  },
  {
   "cell_type": "code",
   "execution_count": 886,
   "id": "e3d119d4-c024-48e2-8d5e-66813dc12ad1",
   "metadata": {},
   "outputs": [],
   "source": [
    "# Step 2: Preprocess the Data\n",
    "scaler = StandardScaler()\n",
    "df_test[['age', 'BMI']] = scaler.fit_transform(df_relevant[['age', 'BMI']])"
   ]
  },
  {
   "cell_type": "markdown",
   "id": "4d40ced2-aa27-4023-ab72-bd7567294414",
   "metadata": {},
   "source": [
    "We will perform clustering using K-Means method."
   ]
  },
  {
   "cell_type": "code",
   "execution_count": 888,
   "id": "3d4892b9-8acf-468c-9dce-2cee0243d171",
   "metadata": {},
   "outputs": [],
   "source": [
    "# Step 3: Apply K-Means Clustering\n",
    "kmeans = KMeans(n_clusters=3, random_state=42)\n",
    "label = kmeans.fit_predict(df_test)\n",
    "centroids = kmeans.cluster_centers_\n",
    "df_relevant['Cluster'] = label"
   ]
  },
  {
   "cell_type": "code",
   "execution_count": 892,
   "id": "bbba7185-a014-49a0-9607-dd0c501af959",
   "metadata": {},
   "outputs": [
    {
     "data": {
      "text/plain": [
       "0       1\n",
       "1       2\n",
       "2       2\n",
       "3       2\n",
       "4       1\n",
       "       ..\n",
       "4530    1\n",
       "4531    1\n",
       "4532    1\n",
       "4533    1\n",
       "4534    1\n",
       "Name: Cluster, Length: 4535, dtype: int32"
      ]
     },
     "execution_count": 892,
     "metadata": {},
     "output_type": "execute_result"
    }
   ],
   "source": [
    "df_relevant['Cluster']"
   ]
  },
  {
   "cell_type": "code",
   "execution_count": 894,
   "id": "dad2d3d2-5294-44ba-8fac-36db73b3c886",
   "metadata": {},
   "outputs": [
    {
     "data": {
      "image/png": "[encoded data removed]",
      "text/plain": [
       "<Figure size 800x600 with 1 Axes>"
      ]
     },
     "metadata": {},
     "output_type": "display_data"
    }
   ],
   "source": [
    "# Perform PCA to reduce dimensionality to 2 components for visualization\n",
    "pca = PCA(n_components=2)\n",
    "pca_features = pca.fit_transform(df_test)\n",
    "\n",
    "# Assuming 'label' contains the cluster assignments\n",
    "u_labels = np.unique(label)\n",
    "\n",
    "# Plotting the results in 2D using the principal components\n",
    "plt.figure(figsize=(8, 6))\n",
    "for i in u_labels:\n",
    "    plt.scatter(pca_features[label == i, 0], pca_features[label == i, 1], label=f'Cluster {i}')\n",
    "\n",
    "plt.legend()\n",
    "plt.title(\"K-Means Clustering with PCA (2D Projection)\")\n",
    "plt.xlabel(\"Principal Component 1\")\n",
    "plt.ylabel(\"Principal Component 2\")\n",
    "plt.grid(True)\n",
    "plt.show()"
   ]
  }
 ],
 "metadata": {
  "kernelspec": {
   "display_name": "Python 3 (ipykernel)",
   "language": "python",
   "name": "python3"
  },
  "language_info": {
   "codemirror_mode": {
    "name": "ipython",
    "version": 3
   },
   "file_extension": ".py",
   "mimetype": "text/x-python",
   "name": "python",
   "nbconvert_exporter": "python",
   "pygments_lexer": "ipython3",
   "version": "3.12.4"
  }
 },
 "nbformat": 4,
 "nbformat_minor": 5
}
