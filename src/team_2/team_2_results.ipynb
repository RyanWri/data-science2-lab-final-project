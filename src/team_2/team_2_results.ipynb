{
 "cells": [
  {
   "cell_type": "code",
   "execution_count": 12,
   "metadata": {},
   "outputs": [
    {
     "ename": "ImportError",
     "evalue": "cannot import name 'rename_columns' from 'task_9.task_9' (/Users/soncity2/DataScience2/data-science2-lab-final-project/src/team_2/task_9/task_9.py)",
     "output_type": "error",
     "traceback": [
      "\u001b[0;31m---------------------------------------------------------------------------\u001b[0m",
      "\u001b[0;31mImportError\u001b[0m                               Traceback (most recent call last)",
      "Cell \u001b[0;32mIn[12], line 5\u001b[0m\n\u001b[1;32m      3\u001b[0m \u001b[38;5;28;01mimport\u001b[39;00m \u001b[38;5;21;01mmatplotlib\u001b[39;00m\u001b[38;5;21;01m.\u001b[39;00m\u001b[38;5;21;01mpyplot\u001b[39;00m \u001b[38;5;28;01mas\u001b[39;00m \u001b[38;5;21;01mplt\u001b[39;00m\n\u001b[1;32m      4\u001b[0m \u001b[38;5;28;01mimport\u001b[39;00m \u001b[38;5;21;01mseaborn\u001b[39;00m \u001b[38;5;28;01mas\u001b[39;00m \u001b[38;5;21;01msns\u001b[39;00m\n\u001b[0;32m----> 5\u001b[0m \u001b[38;5;28;01mfrom\u001b[39;00m \u001b[38;5;21;01mtask_9\u001b[39;00m\u001b[38;5;21;01m.\u001b[39;00m\u001b[38;5;21;01mtask_9\u001b[39;00m \u001b[38;5;28;01mimport\u001b[39;00m EDA, read_excel_sheet, rename_columns\n",
      "\u001b[0;31mImportError\u001b[0m: cannot import name 'rename_columns' from 'task_9.task_9' (/Users/soncity2/DataScience2/data-science2-lab-final-project/src/team_2/task_9/task_9.py)"
     ]
    }
   ],
   "source": [
    "import pandas as pd\n",
    "import os\n",
    "import matplotlib.pyplot as plt\n",
    "import seaborn as sns\n",
    "from task_9.task_9 import EDA, read_excel_sheet, rename_columns"
   ]
  },
  {
   "cell_type": "code",
   "execution_count": 5,
   "metadata": {},
   "outputs": [],
   "source": [
    "# Move two directories up\n",
    "data_dir = os.path.abspath(os.path.join(os.getcwd(), \"..\", \"data\"))\n",
    "\n",
    "# Construct the full path to the file\n",
    "file_absolute_path = os.path.join(data_dir, \"rehospitalization.xlsx\")\n",
    "df = read_excel_sheet(file_absolute_path, \"hospitalization1\")"
   ]
  },
  {
   "cell_type": "code",
   "execution_count": null,
   "metadata": {},
   "outputs": [],
   "source": [
    "#mapping hebrew to english for visual improvements\n",
    "translation = {\n",
    "    \"סוג קבלה\": \"Admission_type\",\n",
    "    \"מהיכן המטופל הגיע\": \"Patient_departure\",\n",
    "    \"רופא משחרר-קוד\": \"Releasing_Dr.(code)\",\n",
    "    \"ימי אשפוז\": \"Hospitalization_duration(days)\",\n",
    "    \"אבחנות בקבלה\": \"Admission_diagnoses\",\n",
    "    \"אבחנות בשחרור\": \"Release_diagnoses\"\n",
    "}\n",
    "\n",
    "df = rename_columns(df,translation)"
   ]
  },
  {
   "cell_type": "code",
   "execution_count": 6,
   "metadata": {},
   "outputs": [],
   "source": [
    "hospitilazation1 = EDA(df)"
   ]
  },
  {
   "cell_type": "code",
   "execution_count": 7,
   "metadata": {},
   "outputs": [
    {
     "name": "stdout",
     "output_type": "stream",
     "text": [
      "First 5 indexes:\n",
      "   Patient  unitName1  Admission_Medical_Record    Admission_Entry_Date  \\\n",
      "0    62051          1                   5207766 2021-09-04 22:21:04.440   \n",
      "1   951769          2                   5605505 2022-02-15 14:39:02.220   \n",
      "2   863707          2                   6755794 2023-05-15 04:21:09.137   \n",
      "3   884200          3                   6964052 2023-07-27 08:16:48.640   \n",
      "4   936226          4                   7023187 2023-08-20 19:44:35.410   \n",
      "\n",
      "         Release_Date סוג קבלה מהיכן המטופל הגיע Release_Type  רופא משחרר-קוד  \\\n",
      "0 2021-09-08 14:43:00     דחוף             מביתו  שוחרר לביתו          6878.0   \n",
      "1 2022-02-16 13:37:00     דחוף               אחר  שוחרר לביתו         12615.0   \n",
      "2 2023-05-15 15:59:00     דחוף             מביתו  שוחרר לביתו         12599.0   \n",
      "3 2023-07-28 17:34:00     דחוף             ממוסד  שוחרר לביתו         11582.0   \n",
      "4 2023-08-21 15:47:00     דחוף             מביתו  שוחרר לביתו         12359.0   \n",
      "\n",
      "   ימי אשפוז אבחנות בקבלה            אבחנות בשחרור  \n",
      "0          4        42731                    42731  \n",
      "1          1       Z3601                    Z3601   \n",
      "2          0         7895                     7895  \n",
      "3          1        78609            4919 , 78609   \n",
      "4          1        78609   78609 , 81203 , 83100   \n",
      "Last 5 indexes:\n",
      "      Patient  unitName1  Admission_Medical_Record    Admission_Entry_Date  \\\n",
      "7028   811996          2                   4397539 2020-09-20 18:14:15.510   \n",
      "7029   704975          5                   5502064 2022-01-05 00:50:18.290   \n",
      "7030    82650          1                   6017726 2022-07-12 11:31:37.723   \n",
      "7031   431801          3                   6918212 2023-07-10 00:36:32.307   \n",
      "7032   143851          3                   7229378 2023-11-21 16:22:11.033   \n",
      "\n",
      "            Release_Date סוג קבלה מהיכן המטופל הגיע Release_Type  \\\n",
      "7028 2020-09-22 19:51:00      NaN             ממוסד  שוחרר לביתו   \n",
      "7029 2022-01-05 14:00:00     דחוף             מביתו  שוחרר לביתו   \n",
      "7030 2022-07-14 17:13:00     דחוף             ממוסד  שוחרר לביתו   \n",
      "7031 2023-07-24 14:43:00     דחוף             ממוסד  שוחרר לביתו   \n",
      "7032 2023-11-22 14:09:00     דחוף             מביתו  שוחרר לביתו   \n",
      "\n",
      "      רופא משחרר-קוד  ימי אשפוז     אבחנות בקבלה     אבחנות בשחרור  \n",
      "7028         10615.0          2     7824 , 7905       7824 , 7905   \n",
      "7029         11437.0          0             3381              3381  \n",
      "7030         11178.0          2   78060 , 79091                478  \n",
      "7031         12639.0         14            78703   079.84 , O8889   \n",
      "7032         11582.0          1            78609       2859 , 514   \n",
      "Column types:\n",
      "Patient                              int64\n",
      "unitName1                            int64\n",
      "Admission_Medical_Record             int64\n",
      "Admission_Entry_Date        datetime64[ns]\n",
      "Release_Date                datetime64[ns]\n",
      "סוג קבלה                            object\n",
      "מהיכן המטופל הגיע                   object\n",
      "Release_Type                        object\n",
      "רופא משחרר-קוד                     float64\n",
      "ימי אשפוז                            int64\n",
      "אבחנות בקבלה                        object\n",
      "אבחנות בשחרור                       object\n",
      "dtype: object\n",
      "Dataframe summary:\n",
      "<class 'pandas.core.frame.DataFrame'>\n",
      "RangeIndex: 7033 entries, 0 to 7032\n",
      "Data columns (total 12 columns):\n",
      " #   Column                    Non-Null Count  Dtype         \n",
      "---  ------                    --------------  -----         \n",
      " 0   Patient                   7033 non-null   int64         \n",
      " 1   unitName1                 7033 non-null   int64         \n",
      " 2   Admission_Medical_Record  7033 non-null   int64         \n",
      " 3   Admission_Entry_Date      7033 non-null   datetime64[ns]\n",
      " 4   Release_Date              7033 non-null   datetime64[ns]\n",
      " 5   סוג קבלה                  6969 non-null   object        \n",
      " 6   מהיכן המטופל הגיע         7033 non-null   object        \n",
      " 7   Release_Type              7033 non-null   object        \n",
      " 8   רופא משחרר-קוד            6919 non-null   float64       \n",
      " 9   ימי אשפוז                 7033 non-null   int64         \n",
      " 10  אבחנות בקבלה              6572 non-null   object        \n",
      " 11  אבחנות בשחרור             7004 non-null   object        \n",
      "dtypes: datetime64[ns](2), float64(1), int64(4), object(5)\n",
      "memory usage: 659.5+ KB\n",
      "None\n",
      "            Patient    unitName1  Admission_Medical_Record  רופא משחרר-קוד  \\\n",
      "count  7.033000e+03  7033.000000              7.033000e+03     6919.000000   \n",
      "mean   3.321263e+05     2.940708              5.668914e+06    10169.482295   \n",
      "std    3.178396e+05     1.411208              1.036855e+06     2925.033899   \n",
      "min    3.100000e+01     1.000000              3.873037e+06     1052.000000   \n",
      "25%    7.352200e+04     2.000000              4.780833e+06    10112.000000   \n",
      "50%    2.059390e+05     3.000000              5.736045e+06    11119.000000   \n",
      "75%    5.566750e+05     4.000000              6.594632e+06    11833.000000   \n",
      "max    1.171452e+06     5.000000              7.333694e+06    12916.000000   \n",
      "\n",
      "         ימי אשפוז  \n",
      "count  7033.000000  \n",
      "mean      3.198777  \n",
      "std       3.710708  \n",
      "min      -1.000000  \n",
      "25%       1.000000  \n",
      "50%       2.000000  \n",
      "75%       4.000000  \n",
      "max      50.000000  \n",
      "Missing values:\n",
      "Patient                       0\n",
      "unitName1                     0\n",
      "Admission_Medical_Record      0\n",
      "Admission_Entry_Date          0\n",
      "Release_Date                  0\n",
      "סוג קבלה                     64\n",
      "מהיכן המטופל הגיע             0\n",
      "Release_Type                  0\n",
      "רופא משחרר-קוד              114\n",
      "ימי אשפוז                     0\n",
      "אבחנות בקבלה                461\n",
      "אבחנות בשחרור                29\n",
      "dtype: int64\n"
     ]
    }
   ],
   "source": [
    "hospitilazation1.stats()"
   ]
  },
  {
   "cell_type": "code",
   "execution_count": 8,
   "metadata": {},
   "outputs": [
    {
     "ename": "TypeError",
     "evalue": "rename_columns() takes 2 positional arguments but 3 were given",
     "output_type": "error",
     "traceback": [
      "\u001b[0;31m---------------------------------------------------------------------------\u001b[0m",
      "\u001b[0;31mTypeError\u001b[0m                                 Traceback (most recent call last)",
      "Cell \u001b[0;32mIn[8], line 11\u001b[0m\n\u001b[1;32m      1\u001b[0m \u001b[38;5;66;03m#mapping hebrew to english for visual improvements\u001b[39;00m\n\u001b[1;32m      2\u001b[0m translation \u001b[38;5;241m=\u001b[39m {\n\u001b[1;32m      3\u001b[0m     \u001b[38;5;124m\"\u001b[39m\u001b[38;5;124mסוג קבלה\u001b[39m\u001b[38;5;124m\"\u001b[39m: \u001b[38;5;124m\"\u001b[39m\u001b[38;5;124mAdmission_type\u001b[39m\u001b[38;5;124m\"\u001b[39m,\n\u001b[1;32m      4\u001b[0m     \u001b[38;5;124m\"\u001b[39m\u001b[38;5;124mמהיכן המטופל הגיע\u001b[39m\u001b[38;5;124m\"\u001b[39m: \u001b[38;5;124m\"\u001b[39m\u001b[38;5;124mPatient_departure\u001b[39m\u001b[38;5;124m\"\u001b[39m,\n\u001b[0;32m   (...)\u001b[0m\n\u001b[1;32m      8\u001b[0m     \u001b[38;5;124m\"\u001b[39m\u001b[38;5;124mאבחנות בשחרור\u001b[39m\u001b[38;5;124m\"\u001b[39m: \u001b[38;5;124m\"\u001b[39m\u001b[38;5;124mRelease_diagnoses\u001b[39m\u001b[38;5;124m\"\u001b[39m\n\u001b[1;32m      9\u001b[0m }\n\u001b[0;32m---> 11\u001b[0m \u001b[43mhospitilazation1\u001b[49m\u001b[38;5;241;43m.\u001b[39;49m\u001b[43mrename_columns\u001b[49m\u001b[43m(\u001b[49m\u001b[43mdf\u001b[49m\u001b[43m,\u001b[49m\u001b[43mtranslation\u001b[49m\u001b[43m)\u001b[49m\n\u001b[1;32m     12\u001b[0m hospitilazation1\u001b[38;5;241m.\u001b[39mstats\n",
      "\u001b[0;31mTypeError\u001b[0m: rename_columns() takes 2 positional arguments but 3 were given"
     ]
    }
   ],
   "source": []
  }
 ],
 "metadata": {
  "kernelspec": {
   "display_name": ".venv",
   "language": "python",
   "name": "python3"
  },
  "language_info": {
   "codemirror_mode": {
    "name": "ipython",
    "version": 3
   },
   "file_extension": ".py",
   "mimetype": "text/x-python",
   "name": "python",
   "nbconvert_exporter": "python",
   "pygments_lexer": "ipython3",
   "version": "3.9.6"
  }
 },
 "nbformat": 4,
 "nbformat_minor": 2
}
