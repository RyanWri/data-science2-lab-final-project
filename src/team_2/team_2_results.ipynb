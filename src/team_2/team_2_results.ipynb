{
 "cells": [
  {
   "cell_type": "code",
   "execution_count": 1,
   "metadata": {},
   "outputs": [],
   "source": [
    "import pandas as pd\n",
    "import os\n",
    "import matplotlib.pyplot as plt\n",
    "import seaborn as sns\n",
    "from task_9.task_9 import EDA, read_excel_sheet"
   ]
  },
  {
   "cell_type": "code",
   "execution_count": 2,
   "metadata": {},
   "outputs": [
    {
     "name": "stdout",
     "output_type": "stream",
     "text": [
      "Error: Missing optional dependency 'openpyxl'.  Use pip or conda to install openpyxl.\n"
     ]
    }
   ],
   "source": [
    "# Move two directories up\n",
    "data_dir = os.path.abspath(os.path.join(os.getcwd(), \"..\", \"data\"))\n",
    "\n",
    "# Construct the full path to the file\n",
    "file_absolute_path = os.path.join(data_dir, \"rehospitalization.xlsx\")\n",
    "df = read_excel_sheet(file_absolute_path, \"hospitalization1\")"
   ]
  }
 ],
 "metadata": {
  "kernelspec": {
   "display_name": ".venv",
   "language": "python",
   "name": "python3"
  },
  "language_info": {
   "codemirror_mode": {
    "name": "ipython",
    "version": 3
   },
   "file_extension": ".py",
   "mimetype": "text/x-python",
   "name": "python",
   "nbconvert_exporter": "python",
   "pygments_lexer": "ipython3",
   "version": "3.9.6"
  }
 },
 "nbformat": 4,
 "nbformat_minor": 2
}
