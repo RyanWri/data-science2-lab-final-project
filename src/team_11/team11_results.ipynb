{
 "cells": [
  {
   "metadata": {},
   "cell_type": "markdown",
   "source": [
    "# Data Science 2 - final project results - team 11: Barack Samuni & Barak Yaakov\n",
    "***"
   ],
   "id": "f9ecbf1a8d0d2cfd"
  },
  {
   "metadata": {
    "ExecuteTime": {
     "end_time": "2024-09-26T01:13:56.851377Z",
     "start_time": "2024-09-26T01:13:54.914828Z"
    }
   },
   "cell_type": "code",
   "source": [
    "import os\n",
    "import pandas as pd\n",
    "from src.team_11.task7.task7 import extract_hebrew_content\n",
    "from task7.task7 import translate_dataframe\n",
    "from src.team_1.hospital_models.generic_torch_model import ClassificationPipeline,ClassificationVisualization\n",
    "from task21.task21 import *\n",
    "import seaborn as sns\n",
    "from src.team_1.task_9.generic_eda import GenericEDA\n",
    "import torch"
   ],
   "id": "c9b440a01ab8da1c",
   "outputs": [],
   "execution_count": 1
  },
  {
   "metadata": {},
   "cell_type": "markdown",
   "source": [
    "## Task 7: Data cleaning and completion for table: hospitalization2\n",
    "***"
   ],
   "id": "94ec4e164bdd3a33"
  },
  {
   "metadata": {},
   "cell_type": "markdown",
   "source": [
    "first, let's view the data:\n",
    "\n"
   ],
   "id": "c4cfe67faa423eff"
  },
  {
   "metadata": {
    "ExecuteTime": {
     "end_time": "2024-09-26T01:13:58.234731Z",
     "start_time": "2024-09-26T01:13:56.867510Z"
    }
   },
   "cell_type": "code",
   "source": [
    "# The data is present in the data folder two directories up\n",
    "data_dir = os.path.abspath(os.path.join(os.getcwd(),\"..\",\"data\"))\n",
    "dataset_path = os.path.join(data_dir, \"rehospitalization.xlsx\")\n",
    "\n",
    "# read the Excel file \n",
    "hospitalization_df = pd.read_excel(dataset_path,sheet_name='hospitalization2')\n",
    "hospitalization_df.head()"
   ],
   "id": "65cc7ba252ecedf1",
   "outputs": [
    {
     "data": {
      "text/plain": [
       "   Patient  unitName1  Admission_Medical_Record    Admission_Entry_Date  \\\n",
       "0   430047          5                   4727327 2021-02-16 17:33:45.570   \n",
       "1   447962          4                   6084166 2022-08-07 13:27:58.780   \n",
       "2   214558          5                   7164813 2023-10-27 07:34:41.013   \n",
       "3    71277          3                   4295329 2020-07-29 17:00:56.863   \n",
       "4   112016          1                   5052676 2021-07-03 11:42:24.973   \n",
       "\n",
       "         Release_Date  unitName2  Admission_Medical_Record2  \\\n",
       "0 2021-02-19 12:40:00          5                    4745943   \n",
       "1 2022-08-08 15:15:00          4                    6137129   \n",
       "2 2023-10-29 17:18:00          5                    7172678   \n",
       "3 2020-08-03 14:26:00          3                    4354333   \n",
       "4 2021-07-05 17:34:00          1                    5078317   \n",
       "\n",
       "    Admission_Entry_Date2       Release_Date2 סוג קבלה מהיכן המטופל הגיע  \\\n",
       "0 2021-02-24 15:03:30.490 2021-02-25 12:38:00     דחוף             מביתו   \n",
       "1 2022-09-01 04:20:51.617 2022-09-02 16:00:00     דחוף             מביתו   \n",
       "2 2023-10-30 17:58:09.730 2023-11-01 15:33:00     דחוף             מביתו   \n",
       "3 2020-08-30 04:25:30.670 2020-09-03 13:45:00     דחוף             מביתו   \n",
       "4 2021-07-13 01:21:32.077 2021-07-15 11:48:00     דחוף             מביתו   \n",
       "\n",
       "  Release_Type  רופא משחרר  ימי אשפוז           אבחנות בקבלה  \\\n",
       "0  שוחרר לביתו     11023.0          1   5370 , 7872 , 78720    \n",
       "1  שוחרר לביתו     12517.0          1                  78060   \n",
       "2  שוחרר לביתו     11887.0          2                   5119   \n",
       "3  שוחרר לביתו     10525.0          4           2859 , 7807    \n",
       "4  שוחרר לביתו      6890.0          2                   7865   \n",
       "\n",
       "           אבחנות בשחרור                       מחלקות מייעצות  ct  \n",
       "0   5370 , 7872 , 78720                                   NaN   0  \n",
       "1                  78060                        ריפוי בעיסוק    0  \n",
       "2            5119 , 514                          שירות דיאטה    0  \n",
       "3            486 , 5990    .שרות לפיזיותרפיה , מערך אורתופדי    0  \n",
       "4                   7865    קרדיולוגיה- יעוצים , שירות דיאטה    1  "
      ],
      "text/html": [
       "<div>\n",
       "<style scoped>\n",
       "    .dataframe tbody tr th:only-of-type {\n",
       "        vertical-align: middle;\n",
       "    }\n",
       "\n",
       "    .dataframe tbody tr th {\n",
       "        vertical-align: top;\n",
       "    }\n",
       "\n",
       "    .dataframe thead th {\n",
       "        text-align: right;\n",
       "    }\n",
       "</style>\n",
       "<table border=\"1\" class=\"dataframe\">\n",
       "  <thead>\n",
       "    <tr style=\"text-align: right;\">\n",
       "      <th></th>\n",
       "      <th>Patient</th>\n",
       "      <th>unitName1</th>\n",
       "      <th>Admission_Medical_Record</th>\n",
       "      <th>Admission_Entry_Date</th>\n",
       "      <th>Release_Date</th>\n",
       "      <th>unitName2</th>\n",
       "      <th>Admission_Medical_Record2</th>\n",
       "      <th>Admission_Entry_Date2</th>\n",
       "      <th>Release_Date2</th>\n",
       "      <th>סוג קבלה</th>\n",
       "      <th>מהיכן המטופל הגיע</th>\n",
       "      <th>Release_Type</th>\n",
       "      <th>רופא משחרר</th>\n",
       "      <th>ימי אשפוז</th>\n",
       "      <th>אבחנות בקבלה</th>\n",
       "      <th>אבחנות בשחרור</th>\n",
       "      <th>מחלקות מייעצות</th>\n",
       "      <th>ct</th>\n",
       "    </tr>\n",
       "  </thead>\n",
       "  <tbody>\n",
       "    <tr>\n",
       "      <th>0</th>\n",
       "      <td>430047</td>\n",
       "      <td>5</td>\n",
       "      <td>4727327</td>\n",
       "      <td>2021-02-16 17:33:45.570</td>\n",
       "      <td>2021-02-19 12:40:00</td>\n",
       "      <td>5</td>\n",
       "      <td>4745943</td>\n",
       "      <td>2021-02-24 15:03:30.490</td>\n",
       "      <td>2021-02-25 12:38:00</td>\n",
       "      <td>דחוף</td>\n",
       "      <td>מביתו</td>\n",
       "      <td>שוחרר לביתו</td>\n",
       "      <td>11023.0</td>\n",
       "      <td>1</td>\n",
       "      <td>5370 , 7872 , 78720</td>\n",
       "      <td>5370 , 7872 , 78720</td>\n",
       "      <td>NaN</td>\n",
       "      <td>0</td>\n",
       "    </tr>\n",
       "    <tr>\n",
       "      <th>1</th>\n",
       "      <td>447962</td>\n",
       "      <td>4</td>\n",
       "      <td>6084166</td>\n",
       "      <td>2022-08-07 13:27:58.780</td>\n",
       "      <td>2022-08-08 15:15:00</td>\n",
       "      <td>4</td>\n",
       "      <td>6137129</td>\n",
       "      <td>2022-09-01 04:20:51.617</td>\n",
       "      <td>2022-09-02 16:00:00</td>\n",
       "      <td>דחוף</td>\n",
       "      <td>מביתו</td>\n",
       "      <td>שוחרר לביתו</td>\n",
       "      <td>12517.0</td>\n",
       "      <td>1</td>\n",
       "      <td>78060</td>\n",
       "      <td>78060</td>\n",
       "      <td>ריפוי בעיסוק</td>\n",
       "      <td>0</td>\n",
       "    </tr>\n",
       "    <tr>\n",
       "      <th>2</th>\n",
       "      <td>214558</td>\n",
       "      <td>5</td>\n",
       "      <td>7164813</td>\n",
       "      <td>2023-10-27 07:34:41.013</td>\n",
       "      <td>2023-10-29 17:18:00</td>\n",
       "      <td>5</td>\n",
       "      <td>7172678</td>\n",
       "      <td>2023-10-30 17:58:09.730</td>\n",
       "      <td>2023-11-01 15:33:00</td>\n",
       "      <td>דחוף</td>\n",
       "      <td>מביתו</td>\n",
       "      <td>שוחרר לביתו</td>\n",
       "      <td>11887.0</td>\n",
       "      <td>2</td>\n",
       "      <td>5119</td>\n",
       "      <td>5119 , 514</td>\n",
       "      <td>שירות דיאטה</td>\n",
       "      <td>0</td>\n",
       "    </tr>\n",
       "    <tr>\n",
       "      <th>3</th>\n",
       "      <td>71277</td>\n",
       "      <td>3</td>\n",
       "      <td>4295329</td>\n",
       "      <td>2020-07-29 17:00:56.863</td>\n",
       "      <td>2020-08-03 14:26:00</td>\n",
       "      <td>3</td>\n",
       "      <td>4354333</td>\n",
       "      <td>2020-08-30 04:25:30.670</td>\n",
       "      <td>2020-09-03 13:45:00</td>\n",
       "      <td>דחוף</td>\n",
       "      <td>מביתו</td>\n",
       "      <td>שוחרר לביתו</td>\n",
       "      <td>10525.0</td>\n",
       "      <td>4</td>\n",
       "      <td>2859 , 7807</td>\n",
       "      <td>486 , 5990</td>\n",
       "      <td>.שרות לפיזיותרפיה , מערך אורתופדי</td>\n",
       "      <td>0</td>\n",
       "    </tr>\n",
       "    <tr>\n",
       "      <th>4</th>\n",
       "      <td>112016</td>\n",
       "      <td>1</td>\n",
       "      <td>5052676</td>\n",
       "      <td>2021-07-03 11:42:24.973</td>\n",
       "      <td>2021-07-05 17:34:00</td>\n",
       "      <td>1</td>\n",
       "      <td>5078317</td>\n",
       "      <td>2021-07-13 01:21:32.077</td>\n",
       "      <td>2021-07-15 11:48:00</td>\n",
       "      <td>דחוף</td>\n",
       "      <td>מביתו</td>\n",
       "      <td>שוחרר לביתו</td>\n",
       "      <td>6890.0</td>\n",
       "      <td>2</td>\n",
       "      <td>7865</td>\n",
       "      <td>7865</td>\n",
       "      <td>קרדיולוגיה- יעוצים , שירות דיאטה</td>\n",
       "      <td>1</td>\n",
       "    </tr>\n",
       "  </tbody>\n",
       "</table>\n",
       "</div>"
      ]
     },
     "execution_count": 2,
     "metadata": {},
     "output_type": "execute_result"
    }
   ],
   "execution_count": 2
  },
  {
   "metadata": {},
   "cell_type": "markdown",
   "source": "let's check for missing values:",
   "id": "466b441ca73f2161"
  },
  {
   "metadata": {
    "ExecuteTime": {
     "end_time": "2024-09-26T01:13:58.428030Z",
     "start_time": "2024-09-26T01:13:58.412733Z"
    }
   },
   "cell_type": "code",
   "source": "hospitalization_df[hospitalization_df.isna().any(axis=1)]",
   "id": "77b4702c758af2b2",
   "outputs": [
    {
     "data": {
      "text/plain": [
       "      Patient  unitName1  Admission_Medical_Record    Admission_Entry_Date  \\\n",
       "0      430047          5                   4727327 2021-02-16 17:33:45.570   \n",
       "7      184878          2                   6918151 2023-07-09 23:35:15.747   \n",
       "10     357262          1                   3883573 2020-01-06 17:15:08.367   \n",
       "13     873826          2                   6565058 2023-02-22 22:11:22.987   \n",
       "17     664036          2                   6956039 2023-07-24 10:33:56.947   \n",
       "...       ...        ...                       ...                     ...   \n",
       "8896    71734          5                   5336066 2021-10-31 20:00:03.300   \n",
       "8897   185319          1                   4521799 2020-11-18 22:15:47.687   \n",
       "8898   706750          4                   4701708 2021-02-06 15:17:41.530   \n",
       "8907      951          5                   5011100 2021-06-16 20:07:56.080   \n",
       "8914   191393          2                   7052449 2023-09-05 12:03:48.107   \n",
       "\n",
       "            Release_Date  unitName2  Admission_Medical_Record2  \\\n",
       "0    2021-02-19 12:40:00          5                    4745943   \n",
       "7    2023-07-10 14:59:00          2                    6986186   \n",
       "10   2020-01-12 14:31:00          1                    3949224   \n",
       "13   2023-02-24 15:02:00          2                    6572876   \n",
       "17   2023-07-25 09:15:00          2                    7007093   \n",
       "...                  ...        ...                        ...   \n",
       "8896 2021-11-05 14:26:00          5                    5396084   \n",
       "8897 2020-11-22 16:41:00          1                    4537552   \n",
       "8898 2021-02-08 13:34:00          4                    4716334   \n",
       "8907 2021-06-17 16:35:00          5                    5089310   \n",
       "8914 2023-09-06 14:20:00          2                    7091821   \n",
       "\n",
       "       Admission_Entry_Date2       Release_Date2 סוג קבלה מהיכן המטופל הגיע  \\\n",
       "0    2021-02-24 15:03:30.490 2021-02-25 12:38:00     דחוף             מביתו   \n",
       "7    2023-08-05 18:31:45.557 2023-08-06 17:08:00     דחוף             מביתו   \n",
       "10   2020-02-03 20:39:27.760 2020-02-05 14:20:00     דחוף             מביתו   \n",
       "13   2023-02-26 15:50:32.377 2023-02-27 11:57:00     דחוף             מביתו   \n",
       "17   2023-08-13 17:05:14.897 2023-08-15 14:30:00     דחוף               אחר   \n",
       "...                      ...                 ...      ...               ...   \n",
       "8896 2021-11-23 19:43:21.260 2021-12-03 13:10:00     דחוף             מביתו   \n",
       "8897 2020-11-25 14:15:30.023 2020-11-27 14:00:00     דחוף             מביתו   \n",
       "8898 2021-02-11 18:55:10.857 2021-02-13 17:30:00     דחוף             מביתו   \n",
       "8907 2021-07-16 20:04:44.397 2021-07-18 14:24:00     דחוף             מביתו   \n",
       "8914 2023-09-20 16:27:43.813 2023-09-27 11:05:00     דחוף             מביתו   \n",
       "\n",
       "     Release_Type  רופא משחרר  ימי אשפוז           אבחנות בקבלה  \\\n",
       "0     שוחרר לביתו     11023.0          1   5370 , 7872 , 78720    \n",
       "7     שוחרר לביתו     11360.0          1           2761 , 4019    \n",
       "10    שוחרר לביתו     10762.0          2                  78060   \n",
       "13    שוחרר לביתו         NaN          1                   7807   \n",
       "17    שוחרר לביתו     11233.0          2                    NaN   \n",
       "...           ...         ...        ...                    ...   \n",
       "8896  שוחרר למוסד         NaN         10     4280 , 514 , 7802    \n",
       "8897  שוחרר לביתו     11178.0          2                   4280   \n",
       "8898  שוחרר למוסד     10989.0          2                   2859   \n",
       "8907  שוחרר לביתו     10946.0          2                    486   \n",
       "8914  שוחרר לביתו      1769.0          7                    514   \n",
       "\n",
       "               אבחנות בשחרור  \\\n",
       "0       5370 , 7872 , 78720    \n",
       "7               2761 , 4019    \n",
       "10            27651 , 78060    \n",
       "13                      7807   \n",
       "17                    376010   \n",
       "...                      ...   \n",
       "8896    , 4280 , 514 , 7802    \n",
       "8897            4280 , 5119    \n",
       "8898                    4280   \n",
       "8907                     486   \n",
       "8914           514 , Z37211    \n",
       "\n",
       "                                         מחלקות מייעצות  ct  \n",
       "0                                                   NaN   0  \n",
       "7                                                   NaN   0  \n",
       "10                                                  NaN   0  \n",
       "13                                      המטואונקולוגיה    0  \n",
       "17                          מיון עיניים , מכון דיאליזה    0  \n",
       "...                                                 ...  ..  \n",
       "8896   .שרות לפיזיותרפיה , פנימית ו , שירות דיאטה , ...   0  \n",
       "8897                                                NaN   0  \n",
       "8898                                                NaN   0  \n",
       "8907                                                NaN   0  \n",
       "8914                                                NaN   0  \n",
       "\n",
       "[4605 rows x 18 columns]"
      ],
      "text/html": [
       "<div>\n",
       "<style scoped>\n",
       "    .dataframe tbody tr th:only-of-type {\n",
       "        vertical-align: middle;\n",
       "    }\n",
       "\n",
       "    .dataframe tbody tr th {\n",
       "        vertical-align: top;\n",
       "    }\n",
       "\n",
       "    .dataframe thead th {\n",
       "        text-align: right;\n",
       "    }\n",
       "</style>\n",
       "<table border=\"1\" class=\"dataframe\">\n",
       "  <thead>\n",
       "    <tr style=\"text-align: right;\">\n",
       "      <th></th>\n",
       "      <th>Patient</th>\n",
       "      <th>unitName1</th>\n",
       "      <th>Admission_Medical_Record</th>\n",
       "      <th>Admission_Entry_Date</th>\n",
       "      <th>Release_Date</th>\n",
       "      <th>unitName2</th>\n",
       "      <th>Admission_Medical_Record2</th>\n",
       "      <th>Admission_Entry_Date2</th>\n",
       "      <th>Release_Date2</th>\n",
       "      <th>סוג קבלה</th>\n",
       "      <th>מהיכן המטופל הגיע</th>\n",
       "      <th>Release_Type</th>\n",
       "      <th>רופא משחרר</th>\n",
       "      <th>ימי אשפוז</th>\n",
       "      <th>אבחנות בקבלה</th>\n",
       "      <th>אבחנות בשחרור</th>\n",
       "      <th>מחלקות מייעצות</th>\n",
       "      <th>ct</th>\n",
       "    </tr>\n",
       "  </thead>\n",
       "  <tbody>\n",
       "    <tr>\n",
       "      <th>0</th>\n",
       "      <td>430047</td>\n",
       "      <td>5</td>\n",
       "      <td>4727327</td>\n",
       "      <td>2021-02-16 17:33:45.570</td>\n",
       "      <td>2021-02-19 12:40:00</td>\n",
       "      <td>5</td>\n",
       "      <td>4745943</td>\n",
       "      <td>2021-02-24 15:03:30.490</td>\n",
       "      <td>2021-02-25 12:38:00</td>\n",
       "      <td>דחוף</td>\n",
       "      <td>מביתו</td>\n",
       "      <td>שוחרר לביתו</td>\n",
       "      <td>11023.0</td>\n",
       "      <td>1</td>\n",
       "      <td>5370 , 7872 , 78720</td>\n",
       "      <td>5370 , 7872 , 78720</td>\n",
       "      <td>NaN</td>\n",
       "      <td>0</td>\n",
       "    </tr>\n",
       "    <tr>\n",
       "      <th>7</th>\n",
       "      <td>184878</td>\n",
       "      <td>2</td>\n",
       "      <td>6918151</td>\n",
       "      <td>2023-07-09 23:35:15.747</td>\n",
       "      <td>2023-07-10 14:59:00</td>\n",
       "      <td>2</td>\n",
       "      <td>6986186</td>\n",
       "      <td>2023-08-05 18:31:45.557</td>\n",
       "      <td>2023-08-06 17:08:00</td>\n",
       "      <td>דחוף</td>\n",
       "      <td>מביתו</td>\n",
       "      <td>שוחרר לביתו</td>\n",
       "      <td>11360.0</td>\n",
       "      <td>1</td>\n",
       "      <td>2761 , 4019</td>\n",
       "      <td>2761 , 4019</td>\n",
       "      <td>NaN</td>\n",
       "      <td>0</td>\n",
       "    </tr>\n",
       "    <tr>\n",
       "      <th>10</th>\n",
       "      <td>357262</td>\n",
       "      <td>1</td>\n",
       "      <td>3883573</td>\n",
       "      <td>2020-01-06 17:15:08.367</td>\n",
       "      <td>2020-01-12 14:31:00</td>\n",
       "      <td>1</td>\n",
       "      <td>3949224</td>\n",
       "      <td>2020-02-03 20:39:27.760</td>\n",
       "      <td>2020-02-05 14:20:00</td>\n",
       "      <td>דחוף</td>\n",
       "      <td>מביתו</td>\n",
       "      <td>שוחרר לביתו</td>\n",
       "      <td>10762.0</td>\n",
       "      <td>2</td>\n",
       "      <td>78060</td>\n",
       "      <td>27651 , 78060</td>\n",
       "      <td>NaN</td>\n",
       "      <td>0</td>\n",
       "    </tr>\n",
       "    <tr>\n",
       "      <th>13</th>\n",
       "      <td>873826</td>\n",
       "      <td>2</td>\n",
       "      <td>6565058</td>\n",
       "      <td>2023-02-22 22:11:22.987</td>\n",
       "      <td>2023-02-24 15:02:00</td>\n",
       "      <td>2</td>\n",
       "      <td>6572876</td>\n",
       "      <td>2023-02-26 15:50:32.377</td>\n",
       "      <td>2023-02-27 11:57:00</td>\n",
       "      <td>דחוף</td>\n",
       "      <td>מביתו</td>\n",
       "      <td>שוחרר לביתו</td>\n",
       "      <td>NaN</td>\n",
       "      <td>1</td>\n",
       "      <td>7807</td>\n",
       "      <td>7807</td>\n",
       "      <td>המטואונקולוגיה</td>\n",
       "      <td>0</td>\n",
       "    </tr>\n",
       "    <tr>\n",
       "      <th>17</th>\n",
       "      <td>664036</td>\n",
       "      <td>2</td>\n",
       "      <td>6956039</td>\n",
       "      <td>2023-07-24 10:33:56.947</td>\n",
       "      <td>2023-07-25 09:15:00</td>\n",
       "      <td>2</td>\n",
       "      <td>7007093</td>\n",
       "      <td>2023-08-13 17:05:14.897</td>\n",
       "      <td>2023-08-15 14:30:00</td>\n",
       "      <td>דחוף</td>\n",
       "      <td>אחר</td>\n",
       "      <td>שוחרר לביתו</td>\n",
       "      <td>11233.0</td>\n",
       "      <td>2</td>\n",
       "      <td>NaN</td>\n",
       "      <td>376010</td>\n",
       "      <td>מיון עיניים , מכון דיאליזה</td>\n",
       "      <td>0</td>\n",
       "    </tr>\n",
       "    <tr>\n",
       "      <th>...</th>\n",
       "      <td>...</td>\n",
       "      <td>...</td>\n",
       "      <td>...</td>\n",
       "      <td>...</td>\n",
       "      <td>...</td>\n",
       "      <td>...</td>\n",
       "      <td>...</td>\n",
       "      <td>...</td>\n",
       "      <td>...</td>\n",
       "      <td>...</td>\n",
       "      <td>...</td>\n",
       "      <td>...</td>\n",
       "      <td>...</td>\n",
       "      <td>...</td>\n",
       "      <td>...</td>\n",
       "      <td>...</td>\n",
       "      <td>...</td>\n",
       "      <td>...</td>\n",
       "    </tr>\n",
       "    <tr>\n",
       "      <th>8896</th>\n",
       "      <td>71734</td>\n",
       "      <td>5</td>\n",
       "      <td>5336066</td>\n",
       "      <td>2021-10-31 20:00:03.300</td>\n",
       "      <td>2021-11-05 14:26:00</td>\n",
       "      <td>5</td>\n",
       "      <td>5396084</td>\n",
       "      <td>2021-11-23 19:43:21.260</td>\n",
       "      <td>2021-12-03 13:10:00</td>\n",
       "      <td>דחוף</td>\n",
       "      <td>מביתו</td>\n",
       "      <td>שוחרר למוסד</td>\n",
       "      <td>NaN</td>\n",
       "      <td>10</td>\n",
       "      <td>4280 , 514 , 7802</td>\n",
       "      <td>, 4280 , 514 , 7802</td>\n",
       "      <td>.שרות לפיזיותרפיה , פנימית ו , שירות דיאטה , ...</td>\n",
       "      <td>0</td>\n",
       "    </tr>\n",
       "    <tr>\n",
       "      <th>8897</th>\n",
       "      <td>185319</td>\n",
       "      <td>1</td>\n",
       "      <td>4521799</td>\n",
       "      <td>2020-11-18 22:15:47.687</td>\n",
       "      <td>2020-11-22 16:41:00</td>\n",
       "      <td>1</td>\n",
       "      <td>4537552</td>\n",
       "      <td>2020-11-25 14:15:30.023</td>\n",
       "      <td>2020-11-27 14:00:00</td>\n",
       "      <td>דחוף</td>\n",
       "      <td>מביתו</td>\n",
       "      <td>שוחרר לביתו</td>\n",
       "      <td>11178.0</td>\n",
       "      <td>2</td>\n",
       "      <td>4280</td>\n",
       "      <td>4280 , 5119</td>\n",
       "      <td>NaN</td>\n",
       "      <td>0</td>\n",
       "    </tr>\n",
       "    <tr>\n",
       "      <th>8898</th>\n",
       "      <td>706750</td>\n",
       "      <td>4</td>\n",
       "      <td>4701708</td>\n",
       "      <td>2021-02-06 15:17:41.530</td>\n",
       "      <td>2021-02-08 13:34:00</td>\n",
       "      <td>4</td>\n",
       "      <td>4716334</td>\n",
       "      <td>2021-02-11 18:55:10.857</td>\n",
       "      <td>2021-02-13 17:30:00</td>\n",
       "      <td>דחוף</td>\n",
       "      <td>מביתו</td>\n",
       "      <td>שוחרר למוסד</td>\n",
       "      <td>10989.0</td>\n",
       "      <td>2</td>\n",
       "      <td>2859</td>\n",
       "      <td>4280</td>\n",
       "      <td>NaN</td>\n",
       "      <td>0</td>\n",
       "    </tr>\n",
       "    <tr>\n",
       "      <th>8907</th>\n",
       "      <td>951</td>\n",
       "      <td>5</td>\n",
       "      <td>5011100</td>\n",
       "      <td>2021-06-16 20:07:56.080</td>\n",
       "      <td>2021-06-17 16:35:00</td>\n",
       "      <td>5</td>\n",
       "      <td>5089310</td>\n",
       "      <td>2021-07-16 20:04:44.397</td>\n",
       "      <td>2021-07-18 14:24:00</td>\n",
       "      <td>דחוף</td>\n",
       "      <td>מביתו</td>\n",
       "      <td>שוחרר לביתו</td>\n",
       "      <td>10946.0</td>\n",
       "      <td>2</td>\n",
       "      <td>486</td>\n",
       "      <td>486</td>\n",
       "      <td>NaN</td>\n",
       "      <td>0</td>\n",
       "    </tr>\n",
       "    <tr>\n",
       "      <th>8914</th>\n",
       "      <td>191393</td>\n",
       "      <td>2</td>\n",
       "      <td>7052449</td>\n",
       "      <td>2023-09-05 12:03:48.107</td>\n",
       "      <td>2023-09-06 14:20:00</td>\n",
       "      <td>2</td>\n",
       "      <td>7091821</td>\n",
       "      <td>2023-09-20 16:27:43.813</td>\n",
       "      <td>2023-09-27 11:05:00</td>\n",
       "      <td>דחוף</td>\n",
       "      <td>מביתו</td>\n",
       "      <td>שוחרר לביתו</td>\n",
       "      <td>1769.0</td>\n",
       "      <td>7</td>\n",
       "      <td>514</td>\n",
       "      <td>514 , Z37211</td>\n",
       "      <td>NaN</td>\n",
       "      <td>0</td>\n",
       "    </tr>\n",
       "  </tbody>\n",
       "</table>\n",
       "<p>4605 rows × 18 columns</p>\n",
       "</div>"
      ]
     },
     "execution_count": 3,
     "metadata": {},
     "output_type": "execute_result"
    }
   ],
   "execution_count": 3
  },
  {
   "metadata": {},
   "cell_type": "markdown",
   "source": "we can see that we have missing values. For example, in מחלקות מעייצות let's see what percentage of the data is missing, and also let's check what columns are missing. Before that, it would be nice to know what are the data types of the columns:\n",
   "id": "c9b1f43f074510c5"
  },
  {
   "metadata": {
    "ExecuteTime": {
     "end_time": "2024-09-26T01:13:58.524199Z",
     "start_time": "2024-09-26T01:13:58.520230Z"
    }
   },
   "cell_type": "code",
   "source": "hospitalization_df.dtypes",
   "id": "263928d62db95423",
   "outputs": [
    {
     "data": {
      "text/plain": [
       "Patient                               int64\n",
       "unitName1                             int64\n",
       "Admission_Medical_Record              int64\n",
       "Admission_Entry_Date         datetime64[ns]\n",
       "Release_Date                 datetime64[ns]\n",
       "unitName2                             int64\n",
       "Admission_Medical_Record2             int64\n",
       "Admission_Entry_Date2        datetime64[ns]\n",
       "Release_Date2                datetime64[ns]\n",
       "סוג קבלה                             object\n",
       "מהיכן המטופל הגיע                    object\n",
       "Release_Type                         object\n",
       "רופא משחרר                          float64\n",
       "ימי אשפוז                             int64\n",
       "אבחנות בקבלה                         object\n",
       "אבחנות בשחרור                        object\n",
       "מחלקות מייעצות                       object\n",
       "ct                                    int64\n",
       "dtype: object"
      ]
     },
     "execution_count": 4,
     "metadata": {},
     "output_type": "execute_result"
    }
   ],
   "execution_count": 4
  },
  {
   "metadata": {
    "ExecuteTime": {
     "end_time": "2024-09-26T01:13:58.693165Z",
     "start_time": "2024-09-26T01:13:58.684842Z"
    }
   },
   "cell_type": "code",
   "source": "hospitalization_df.isna().sum()",
   "id": "ab72d3abb502a5a8",
   "outputs": [
    {
     "data": {
      "text/plain": [
       "Patient                         0\n",
       "unitName1                       0\n",
       "Admission_Medical_Record        0\n",
       "Admission_Entry_Date            0\n",
       "Release_Date                    0\n",
       "unitName2                       0\n",
       "Admission_Medical_Record2       0\n",
       "Admission_Entry_Date2           0\n",
       "Release_Date2                   0\n",
       "סוג קבלה                       68\n",
       "מהיכן המטופל הגיע               0\n",
       "Release_Type                    0\n",
       "רופא משחרר                     88\n",
       "ימי אשפוז                       0\n",
       "אבחנות בקבלה                  802\n",
       "אבחנות בשחרור                 233\n",
       "מחלקות מייעצות               4176\n",
       "ct                              0\n",
       "dtype: int64"
      ]
     },
     "execution_count": 5,
     "metadata": {},
     "output_type": "execute_result"
    }
   ],
   "execution_count": 5
  },
  {
   "metadata": {},
   "cell_type": "markdown",
   "source": "we can see that we have missing values in \"סוג קבלה\" which is an object (categorical variable), in רופא משחרר (float64, numerical variable) in אבחנות בקבלה and אבחנות בשחרור (both are objects, categorical variables) and in מחלקות מייעצות (also a categorical variable). let's check what percentage of the data is missing:",
   "id": "31c8c7f6093452dd"
  },
  {
   "metadata": {
    "ExecuteTime": {
     "end_time": "2024-09-26T01:13:58.893420Z",
     "start_time": "2024-09-26T01:13:58.885463Z"
    }
   },
   "cell_type": "code",
   "source": "print(f'{hospitalization_df.isna().sum().sum() / hospitalization_df.size * 100:.2f} % of the data is missing')",
   "id": "2a3f75063973b70e",
   "outputs": [
    {
     "name": "stdout",
     "output_type": "stream",
     "text": [
      "3.34 % of the data is missing\n"
     ]
    }
   ],
   "execution_count": 6
  },
  {
   "metadata": {},
   "cell_type": "markdown",
   "source": "Well, after giving it much thought, we decided to drop the missing values. The reason behind that is that any way to impute these values would lead to critical misinformation that might skew the model's predictions into making hazardous false decisions regarding the patient. Since less than 5% of the data is missing, we feel free to drop it without the risk of underfitting the model.",
   "id": "1efd4d2f2ab304f8"
  },
  {
   "metadata": {
    "ExecuteTime": {
     "end_time": "2024-09-26T01:13:59.077940Z",
     "start_time": "2024-09-26T01:13:59.066203Z"
    }
   },
   "cell_type": "code",
   "source": [
    "hospitalization_df_clean = hospitalization_df.dropna()\n",
    "hospitalization_df_clean.isna().sum()"
   ],
   "id": "333407c26052a6c9",
   "outputs": [
    {
     "data": {
      "text/plain": [
       "Patient                      0\n",
       "unitName1                    0\n",
       "Admission_Medical_Record     0\n",
       "Admission_Entry_Date         0\n",
       "Release_Date                 0\n",
       "unitName2                    0\n",
       "Admission_Medical_Record2    0\n",
       "Admission_Entry_Date2        0\n",
       "Release_Date2                0\n",
       "סוג קבלה                     0\n",
       "מהיכן המטופל הגיע            0\n",
       "Release_Type                 0\n",
       "רופא משחרר                   0\n",
       "ימי אשפוז                    0\n",
       "אבחנות בקבלה                 0\n",
       "אבחנות בשחרור                0\n",
       "מחלקות מייעצות               0\n",
       "ct                           0\n",
       "dtype: int64"
      ]
     },
     "execution_count": 7,
     "metadata": {},
     "output_type": "execute_result"
    }
   ],
   "execution_count": 7
  },
  {
   "metadata": {},
   "cell_type": "markdown",
   "source": "Now let's translate the dataframe to english, first let's check where we have hebrew:",
   "id": "3d4f45c62af54da9"
  },
  {
   "metadata": {
    "ExecuteTime": {
     "end_time": "2024-09-26T01:13:59.292136Z",
     "start_time": "2024-09-26T01:13:59.204055Z"
    }
   },
   "cell_type": "code",
   "source": [
    "hebrew_dict = extract_hebrew_content(hospitalization_df_clean)\n",
    "print(f'{hebrew_dict}')"
   ],
   "id": "1c08a013ab9c8f30",
   "outputs": [
    {
     "name": "stdout",
     "output_type": "stream",
     "text": [
      "{'columns': ['סוג קבלה', 'מהיכן המטופל הגיע', 'רופא משחרר', 'ימי אשפוז', 'אבחנות בקבלה', 'אבחנות בשחרור', 'מחלקות מייעצות'], 'content': ['דחוף', 'מוזמן', 'אשפוז יום', 'מביתו', 'ממוסד', 'אחר', 'מבית חולים אחר', 'ממרפאה', 'שוחרר לביתו', 'שוחרר למוסד', 'ריפוי בעיסוק', 'שירות דיאטה', 'שרות לפיזיותרפיה', 'מערך אורתופדי', 'קרדיולוגיה- יעוצים', 'קרדיולוגיה הפרעות קצב', 'טיפול נמרץ כללי-יעוצים', 'שרות פסיכיאטריה', 'גסטרואנטרולוגיה מכון', 'מחלות זיהומיות', 'המטואונקולוגיה', 'ניתוחי עמוד שדרה', 'אחות ריאות', 'כירורגית א', 'מחלקת ריאות', 'מכון לתפקודי ריאה', 'מיון עיניים', 'פסיכיאטריה', 'מיון כירורגי', 'מכון דיאליזה', 'כירורגית ב', 'מחלקת אף אוזן גרון', 'שירות לעבודה סוציאלית', 'קלינאי תקשורת', 'מחלקת נוירולוגיה', 'שירותי רוקחות', 'מכון אנדוקרינולוגי', 'טיפול נמרץ נשימתי', 'מכון EEG', 'וועדת וויסות', 'פנימית ו', 'טיפול נמרץ', 'קרדיולוגיה-קוצבים', 'פיזיותרפיה וסטיבולרי - יעוצים', 'מכון אונקולוגי-יעוץ-לא פעיל', 'מרפאה אונקולוגית', 'מרפאת ראומטולוגיה', 'מתאמת פצעים', 'הרדמה', 'מרפאת עור', 'מחלקת אורולוגיה', 'מרפאת ריאות', 'כירורגיה פלסטית', 'כירורגית כלי דם', 'מתאמת סוכרת/מומחית קלינית בסוכרת', 'קרדיולוגיה-אי ספיקת לב', 'טיפול פליאטיבי', 'מרפאת כאב', 'מיון נשים', 'מערך פסיכולוגי', 'מרפאת אלרגיה', 'מכון אנגיוגרפיה', 'דיאליזה ציפקית', 'מיון אורתופדי', 'מערך סוציאלי', 'פרוקטולוגיה כירורגית ב', 'כירורגית פה ולסת', 'מרפאת עיניים- נוירו-אופתלמולוגיה', 'פנימית ג', 'פנימית ד', 'יעוץ גריאטרי - לא פעיל', 'יעוץ גריאטרי מלרד', 'מתאמת כאב']}\n"
     ]
    }
   ],
   "execution_count": 8
  },
  {
   "metadata": {},
   "cell_type": "markdown",
   "source": "Now let's translate the dataset:",
   "id": "9a5799f7b1d2c332"
  },
  {
   "metadata": {
    "ExecuteTime": {
     "end_time": "2024-09-26T01:14:00.800329Z",
     "start_time": "2024-09-26T01:13:59.344313Z"
    }
   },
   "cell_type": "code",
   "source": [
    "hospitalization_df_clean_translated = translate_dataframe(hospitalization_df_clean)\n",
    "hospitalization_df_clean_translated.to_excel(r'task7/hospitalization2_translated_clean.xlsx',sheet_name='hospitalization2')"
   ],
   "id": "c5bb225e0a15bf9e",
   "outputs": [],
   "execution_count": 9
  },
  {
   "metadata": {},
   "cell_type": "markdown",
   "source": [
    "## Task21- finding a relationship between discharging department and rehospitalization\n",
    "***"
   ],
   "id": "e871aeb779876d4f"
  },
  {
   "metadata": {
    "ExecuteTime": {
     "end_time": "2024-09-26T01:14:00.844229Z",
     "start_time": "2024-09-26T01:14:00.816338Z"
    }
   },
   "cell_type": "code",
   "source": [
    "## Load the clean hospitalization dataset\n",
    "clean_hospitazation2_dir = os.path.abspath(os.path.join(os.getcwd(),\"..\",\"data\"))\n",
    "clean_hospitazation2_path = os.path.join(clean_hospitazation2_dir,\"hospitalization2_Team_10.csv\")\n",
    "clean_hospitazation2_df = pd.read_csv(clean_hospitazation2_path)\n",
    "clean_hospitazation2_df.head()"
   ],
   "id": "e3b37a87da3a9d1d",
   "outputs": [
    {
     "data": {
      "text/plain": [
       "   unitName1     Admission_Entry_Date         Release_Date  unitName2  \\\n",
       "0          5  2021-02-16 17:33:45.570  2021-02-19 12:40:00          5   \n",
       "1          4  2022-08-07 13:27:58.780  2022-08-08 15:15:00          4   \n",
       "2          5  2023-10-27 07:34:41.013  2023-10-29 17:18:00          5   \n",
       "3          3  2020-07-29 17:00:56.863  2020-08-03 14:26:00          3   \n",
       "4          1  2021-07-03 11:42:24.973  2021-07-05 17:34:00          1   \n",
       "\n",
       "     Admission_Entry_Date2        Release_Date2 Entry_Type Patient_Origin  \\\n",
       "0  2021-02-24 15:03:30.490  2021-02-25 12:38:00     urgent           home   \n",
       "1  2022-09-01 04:20:51.617  2022-09-02 16:00:00     urgent           home   \n",
       "2  2023-10-30 17:58:09.730  2023-11-01 15:33:00     urgent           home   \n",
       "3  2020-08-30 04:25:30.670  2020-09-03 13:45:00     urgent           home   \n",
       "4  2021-07-13 01:21:32.077  2021-07-15 11:48:00     urgent           home   \n",
       "\n",
       "  Release_Type  Releasing_Doctor  Admission_Days2 Diagnosis_In_Reception  \\\n",
       "0         home             11023                1   5370 , 7872 , 78720    \n",
       "1         home             12517                1                  78060   \n",
       "2         home             11887                2                   5119   \n",
       "3         home             10525                4           2859 , 7807    \n",
       "4         home              6890                2                   7865   \n",
       "\n",
       "    Diagnosis_In_Release  ct  Admission_Days Period_Between_Admissions  \n",
       "0   5370 , 7872 , 78720    0               3                     short  \n",
       "1                  78060   0               1                      long  \n",
       "2            5119 , 514    0               2                     short  \n",
       "3            486 , 5990    0               5                      long  \n",
       "4                   7865   1               2                       mid  "
      ],
      "text/html": [
       "<div>\n",
       "<style scoped>\n",
       "    .dataframe tbody tr th:only-of-type {\n",
       "        vertical-align: middle;\n",
       "    }\n",
       "\n",
       "    .dataframe tbody tr th {\n",
       "        vertical-align: top;\n",
       "    }\n",
       "\n",
       "    .dataframe thead th {\n",
       "        text-align: right;\n",
       "    }\n",
       "</style>\n",
       "<table border=\"1\" class=\"dataframe\">\n",
       "  <thead>\n",
       "    <tr style=\"text-align: right;\">\n",
       "      <th></th>\n",
       "      <th>unitName1</th>\n",
       "      <th>Admission_Entry_Date</th>\n",
       "      <th>Release_Date</th>\n",
       "      <th>unitName2</th>\n",
       "      <th>Admission_Entry_Date2</th>\n",
       "      <th>Release_Date2</th>\n",
       "      <th>Entry_Type</th>\n",
       "      <th>Patient_Origin</th>\n",
       "      <th>Release_Type</th>\n",
       "      <th>Releasing_Doctor</th>\n",
       "      <th>Admission_Days2</th>\n",
       "      <th>Diagnosis_In_Reception</th>\n",
       "      <th>Diagnosis_In_Release</th>\n",
       "      <th>ct</th>\n",
       "      <th>Admission_Days</th>\n",
       "      <th>Period_Between_Admissions</th>\n",
       "    </tr>\n",
       "  </thead>\n",
       "  <tbody>\n",
       "    <tr>\n",
       "      <th>0</th>\n",
       "      <td>5</td>\n",
       "      <td>2021-02-16 17:33:45.570</td>\n",
       "      <td>2021-02-19 12:40:00</td>\n",
       "      <td>5</td>\n",
       "      <td>2021-02-24 15:03:30.490</td>\n",
       "      <td>2021-02-25 12:38:00</td>\n",
       "      <td>urgent</td>\n",
       "      <td>home</td>\n",
       "      <td>home</td>\n",
       "      <td>11023</td>\n",
       "      <td>1</td>\n",
       "      <td>5370 , 7872 , 78720</td>\n",
       "      <td>5370 , 7872 , 78720</td>\n",
       "      <td>0</td>\n",
       "      <td>3</td>\n",
       "      <td>short</td>\n",
       "    </tr>\n",
       "    <tr>\n",
       "      <th>1</th>\n",
       "      <td>4</td>\n",
       "      <td>2022-08-07 13:27:58.780</td>\n",
       "      <td>2022-08-08 15:15:00</td>\n",
       "      <td>4</td>\n",
       "      <td>2022-09-01 04:20:51.617</td>\n",
       "      <td>2022-09-02 16:00:00</td>\n",
       "      <td>urgent</td>\n",
       "      <td>home</td>\n",
       "      <td>home</td>\n",
       "      <td>12517</td>\n",
       "      <td>1</td>\n",
       "      <td>78060</td>\n",
       "      <td>78060</td>\n",
       "      <td>0</td>\n",
       "      <td>1</td>\n",
       "      <td>long</td>\n",
       "    </tr>\n",
       "    <tr>\n",
       "      <th>2</th>\n",
       "      <td>5</td>\n",
       "      <td>2023-10-27 07:34:41.013</td>\n",
       "      <td>2023-10-29 17:18:00</td>\n",
       "      <td>5</td>\n",
       "      <td>2023-10-30 17:58:09.730</td>\n",
       "      <td>2023-11-01 15:33:00</td>\n",
       "      <td>urgent</td>\n",
       "      <td>home</td>\n",
       "      <td>home</td>\n",
       "      <td>11887</td>\n",
       "      <td>2</td>\n",
       "      <td>5119</td>\n",
       "      <td>5119 , 514</td>\n",
       "      <td>0</td>\n",
       "      <td>2</td>\n",
       "      <td>short</td>\n",
       "    </tr>\n",
       "    <tr>\n",
       "      <th>3</th>\n",
       "      <td>3</td>\n",
       "      <td>2020-07-29 17:00:56.863</td>\n",
       "      <td>2020-08-03 14:26:00</td>\n",
       "      <td>3</td>\n",
       "      <td>2020-08-30 04:25:30.670</td>\n",
       "      <td>2020-09-03 13:45:00</td>\n",
       "      <td>urgent</td>\n",
       "      <td>home</td>\n",
       "      <td>home</td>\n",
       "      <td>10525</td>\n",
       "      <td>4</td>\n",
       "      <td>2859 , 7807</td>\n",
       "      <td>486 , 5990</td>\n",
       "      <td>0</td>\n",
       "      <td>5</td>\n",
       "      <td>long</td>\n",
       "    </tr>\n",
       "    <tr>\n",
       "      <th>4</th>\n",
       "      <td>1</td>\n",
       "      <td>2021-07-03 11:42:24.973</td>\n",
       "      <td>2021-07-05 17:34:00</td>\n",
       "      <td>1</td>\n",
       "      <td>2021-07-13 01:21:32.077</td>\n",
       "      <td>2021-07-15 11:48:00</td>\n",
       "      <td>urgent</td>\n",
       "      <td>home</td>\n",
       "      <td>home</td>\n",
       "      <td>6890</td>\n",
       "      <td>2</td>\n",
       "      <td>7865</td>\n",
       "      <td>7865</td>\n",
       "      <td>1</td>\n",
       "      <td>2</td>\n",
       "      <td>mid</td>\n",
       "    </tr>\n",
       "  </tbody>\n",
       "</table>\n",
       "</div>"
      ]
     },
     "execution_count": 10,
     "metadata": {},
     "output_type": "execute_result"
    }
   ],
   "execution_count": 10
  },
  {
   "metadata": {},
   "cell_type": "markdown",
   "source": "first, let's find the time elapsed from the first hospitalization to the 2nd one. In order to determine how long it took for a patient to be re-hospitalized, we will calculate the difference between the Release_Date (from the first hospitalization) to the Admission_Entry_Date2 (when the patient entered the hospital once again for hospitalization) and add it as a column called \"Days_To_Rehospitalization\":",
   "id": "cea5b1044756ac48"
  },
  {
   "metadata": {
    "ExecuteTime": {
     "end_time": "2024-09-26T01:14:00.900921Z",
     "start_time": "2024-09-26T01:14:00.883859Z"
    }
   },
   "cell_type": "code",
   "source": [
    "clean_hospitazation2_df_with_rehospitalization_time = clean_hospitazation2_df.copy()\n",
    "release_date = clean_hospitazation2_df_with_rehospitalization_time['Release_Date']\n",
    "admission_date_2 = clean_hospitazation2_df_with_rehospitalization_time['Admission_Entry_Date2']\n",
    "clean_hospitazation2_df_with_rehospitalization_time['Days_To_Rehospitalization'] = Task21.calculate_time_differences_between_columns(column1=release_date, column2=admission_date_2)\n",
    "clean_hospitazation2_df_with_rehospitalization_time.head()"
   ],
   "id": "5397f118fb8098ae",
   "outputs": [
    {
     "data": {
      "text/plain": [
       "   unitName1     Admission_Entry_Date         Release_Date  unitName2  \\\n",
       "0          5  2021-02-16 17:33:45.570  2021-02-19 12:40:00          5   \n",
       "1          4  2022-08-07 13:27:58.780  2022-08-08 15:15:00          4   \n",
       "2          5  2023-10-27 07:34:41.013  2023-10-29 17:18:00          5   \n",
       "3          3  2020-07-29 17:00:56.863  2020-08-03 14:26:00          3   \n",
       "4          1  2021-07-03 11:42:24.973  2021-07-05 17:34:00          1   \n",
       "\n",
       "     Admission_Entry_Date2        Release_Date2 Entry_Type Patient_Origin  \\\n",
       "0  2021-02-24 15:03:30.490  2021-02-25 12:38:00     urgent           home   \n",
       "1  2022-09-01 04:20:51.617  2022-09-02 16:00:00     urgent           home   \n",
       "2  2023-10-30 17:58:09.730  2023-11-01 15:33:00     urgent           home   \n",
       "3  2020-08-30 04:25:30.670  2020-09-03 13:45:00     urgent           home   \n",
       "4  2021-07-13 01:21:32.077  2021-07-15 11:48:00     urgent           home   \n",
       "\n",
       "  Release_Type  Releasing_Doctor  Admission_Days2 Diagnosis_In_Reception  \\\n",
       "0         home             11023                1   5370 , 7872 , 78720    \n",
       "1         home             12517                1                  78060   \n",
       "2         home             11887                2                   5119   \n",
       "3         home             10525                4           2859 , 7807    \n",
       "4         home              6890                2                   7865   \n",
       "\n",
       "    Diagnosis_In_Release  ct  Admission_Days Period_Between_Admissions  \\\n",
       "0   5370 , 7872 , 78720    0               3                     short   \n",
       "1                  78060   0               1                      long   \n",
       "2            5119 , 514    0               2                     short   \n",
       "3            486 , 5990    0               5                      long   \n",
       "4                   7865   1               2                       mid   \n",
       "\n",
       "   Days_To_Rehospitalization  \n",
       "0                   5.099658  \n",
       "1                  23.545736  \n",
       "2                   1.027890  \n",
       "3                  26.582994  \n",
       "4                   7.324677  "
      ],
      "text/html": [
       "<div>\n",
       "<style scoped>\n",
       "    .dataframe tbody tr th:only-of-type {\n",
       "        vertical-align: middle;\n",
       "    }\n",
       "\n",
       "    .dataframe tbody tr th {\n",
       "        vertical-align: top;\n",
       "    }\n",
       "\n",
       "    .dataframe thead th {\n",
       "        text-align: right;\n",
       "    }\n",
       "</style>\n",
       "<table border=\"1\" class=\"dataframe\">\n",
       "  <thead>\n",
       "    <tr style=\"text-align: right;\">\n",
       "      <th></th>\n",
       "      <th>unitName1</th>\n",
       "      <th>Admission_Entry_Date</th>\n",
       "      <th>Release_Date</th>\n",
       "      <th>unitName2</th>\n",
       "      <th>Admission_Entry_Date2</th>\n",
       "      <th>Release_Date2</th>\n",
       "      <th>Entry_Type</th>\n",
       "      <th>Patient_Origin</th>\n",
       "      <th>Release_Type</th>\n",
       "      <th>Releasing_Doctor</th>\n",
       "      <th>Admission_Days2</th>\n",
       "      <th>Diagnosis_In_Reception</th>\n",
       "      <th>Diagnosis_In_Release</th>\n",
       "      <th>ct</th>\n",
       "      <th>Admission_Days</th>\n",
       "      <th>Period_Between_Admissions</th>\n",
       "      <th>Days_To_Rehospitalization</th>\n",
       "    </tr>\n",
       "  </thead>\n",
       "  <tbody>\n",
       "    <tr>\n",
       "      <th>0</th>\n",
       "      <td>5</td>\n",
       "      <td>2021-02-16 17:33:45.570</td>\n",
       "      <td>2021-02-19 12:40:00</td>\n",
       "      <td>5</td>\n",
       "      <td>2021-02-24 15:03:30.490</td>\n",
       "      <td>2021-02-25 12:38:00</td>\n",
       "      <td>urgent</td>\n",
       "      <td>home</td>\n",
       "      <td>home</td>\n",
       "      <td>11023</td>\n",
       "      <td>1</td>\n",
       "      <td>5370 , 7872 , 78720</td>\n",
       "      <td>5370 , 7872 , 78720</td>\n",
       "      <td>0</td>\n",
       "      <td>3</td>\n",
       "      <td>short</td>\n",
       "      <td>5.099658</td>\n",
       "    </tr>\n",
       "    <tr>\n",
       "      <th>1</th>\n",
       "      <td>4</td>\n",
       "      <td>2022-08-07 13:27:58.780</td>\n",
       "      <td>2022-08-08 15:15:00</td>\n",
       "      <td>4</td>\n",
       "      <td>2022-09-01 04:20:51.617</td>\n",
       "      <td>2022-09-02 16:00:00</td>\n",
       "      <td>urgent</td>\n",
       "      <td>home</td>\n",
       "      <td>home</td>\n",
       "      <td>12517</td>\n",
       "      <td>1</td>\n",
       "      <td>78060</td>\n",
       "      <td>78060</td>\n",
       "      <td>0</td>\n",
       "      <td>1</td>\n",
       "      <td>long</td>\n",
       "      <td>23.545736</td>\n",
       "    </tr>\n",
       "    <tr>\n",
       "      <th>2</th>\n",
       "      <td>5</td>\n",
       "      <td>2023-10-27 07:34:41.013</td>\n",
       "      <td>2023-10-29 17:18:00</td>\n",
       "      <td>5</td>\n",
       "      <td>2023-10-30 17:58:09.730</td>\n",
       "      <td>2023-11-01 15:33:00</td>\n",
       "      <td>urgent</td>\n",
       "      <td>home</td>\n",
       "      <td>home</td>\n",
       "      <td>11887</td>\n",
       "      <td>2</td>\n",
       "      <td>5119</td>\n",
       "      <td>5119 , 514</td>\n",
       "      <td>0</td>\n",
       "      <td>2</td>\n",
       "      <td>short</td>\n",
       "      <td>1.027890</td>\n",
       "    </tr>\n",
       "    <tr>\n",
       "      <th>3</th>\n",
       "      <td>3</td>\n",
       "      <td>2020-07-29 17:00:56.863</td>\n",
       "      <td>2020-08-03 14:26:00</td>\n",
       "      <td>3</td>\n",
       "      <td>2020-08-30 04:25:30.670</td>\n",
       "      <td>2020-09-03 13:45:00</td>\n",
       "      <td>urgent</td>\n",
       "      <td>home</td>\n",
       "      <td>home</td>\n",
       "      <td>10525</td>\n",
       "      <td>4</td>\n",
       "      <td>2859 , 7807</td>\n",
       "      <td>486 , 5990</td>\n",
       "      <td>0</td>\n",
       "      <td>5</td>\n",
       "      <td>long</td>\n",
       "      <td>26.582994</td>\n",
       "    </tr>\n",
       "    <tr>\n",
       "      <th>4</th>\n",
       "      <td>1</td>\n",
       "      <td>2021-07-03 11:42:24.973</td>\n",
       "      <td>2021-07-05 17:34:00</td>\n",
       "      <td>1</td>\n",
       "      <td>2021-07-13 01:21:32.077</td>\n",
       "      <td>2021-07-15 11:48:00</td>\n",
       "      <td>urgent</td>\n",
       "      <td>home</td>\n",
       "      <td>home</td>\n",
       "      <td>6890</td>\n",
       "      <td>2</td>\n",
       "      <td>7865</td>\n",
       "      <td>7865</td>\n",
       "      <td>1</td>\n",
       "      <td>2</td>\n",
       "      <td>mid</td>\n",
       "      <td>7.324677</td>\n",
       "    </tr>\n",
       "  </tbody>\n",
       "</table>\n",
       "</div>"
      ]
     },
     "execution_count": 11,
     "metadata": {},
     "output_type": "execute_result"
    }
   ],
   "execution_count": 11
  },
  {
   "metadata": {},
   "cell_type": "markdown",
   "source": "let's check if that calculation did not accidentally create some missing values:",
   "id": "b21fa1dcbbab8feb"
  },
  {
   "metadata": {
    "ExecuteTime": {
     "end_time": "2024-09-26T01:14:01.038271Z",
     "start_time": "2024-09-26T01:14:01.026746Z"
    }
   },
   "cell_type": "code",
   "source": "clean_hospitazation2_df_with_rehospitalization_time.isna().sum()",
   "id": "4d2d99ba90cf9f6",
   "outputs": [
    {
     "data": {
      "text/plain": [
       "unitName1                    0\n",
       "Admission_Entry_Date         0\n",
       "Release_Date                 0\n",
       "unitName2                    0\n",
       "Admission_Entry_Date2        0\n",
       "Release_Date2                0\n",
       "Entry_Type                   0\n",
       "Patient_Origin               0\n",
       "Release_Type                 0\n",
       "Releasing_Doctor             0\n",
       "Admission_Days2              0\n",
       "Diagnosis_In_Reception       0\n",
       "Diagnosis_In_Release         0\n",
       "ct                           0\n",
       "Admission_Days               0\n",
       "Period_Between_Admissions    0\n",
       "Days_To_Rehospitalization    0\n",
       "dtype: int64"
      ]
     },
     "execution_count": 12,
     "metadata": {},
     "output_type": "execute_result"
    }
   ],
   "execution_count": 12
  },
  {
   "metadata": {},
   "cell_type": "markdown",
   "source": "let's save it as a csv:",
   "id": "316db4fb72315435"
  },
  {
   "metadata": {
    "ExecuteTime": {
     "end_time": "2024-09-26T01:14:01.264295Z",
     "start_time": "2024-09-26T01:14:01.218561Z"
    }
   },
   "cell_type": "code",
   "source": "clean_hospitazation2_df_with_rehospitalization_time.to_csv(r'task21/hospitalization2_translated_clean_with_reshospitalization_time.csv',index=False)",
   "id": "ee2341d03b11cfc2",
   "outputs": [],
   "execution_count": 13
  },
  {
   "metadata": {},
   "cell_type": "markdown",
   "source": "we need to build a classifier that classifies the time it is going to take for patient to be re-hospitalized according to the unit he has released from. We see that we have UnitName and UnitName2. Let's check if they are identical, and if they do, we will merge them into one column called 'Discharging Unit':",
   "id": "3272cc5707b2bd51"
  },
  {
   "metadata": {
    "ExecuteTime": {
     "end_time": "2024-09-26T01:14:01.380589Z",
     "start_time": "2024-09-26T01:14:01.332586Z"
    }
   },
   "cell_type": "code",
   "source": [
    "clean_hospitazation2_df_with_rehospitalization_time_discharging_unit_combined = clean_hospitazation2_df_with_rehospitalization_time.copy()\n",
    "Task21.merge_two_columns_if_identical(df=clean_hospitazation2_df_with_rehospitalization_time_discharging_unit_combined, column1='unitName1', column2='unitName2',target_column='Discharging Unit')\n",
    "clean_hospitazation2_df_with_rehospitalization_time_discharging_unit_combined.to_csv(r'task21/hospitalization2_translated_clean_with_reshospitalization_time_discharging_unit_combined.csv',index=False)\n",
    "clean_hospitazation2_df_with_rehospitalization_time_discharging_unit_combined.head()\n"
   ],
   "id": "c4174eeeb91f3358",
   "outputs": [
    {
     "data": {
      "text/plain": [
       "   Discharging Unit     Admission_Entry_Date         Release_Date  \\\n",
       "0                 5  2021-02-16 17:33:45.570  2021-02-19 12:40:00   \n",
       "1                 4  2022-08-07 13:27:58.780  2022-08-08 15:15:00   \n",
       "2                 5  2023-10-27 07:34:41.013  2023-10-29 17:18:00   \n",
       "3                 3  2020-07-29 17:00:56.863  2020-08-03 14:26:00   \n",
       "4                 1  2021-07-03 11:42:24.973  2021-07-05 17:34:00   \n",
       "\n",
       "     Admission_Entry_Date2        Release_Date2 Entry_Type Patient_Origin  \\\n",
       "0  2021-02-24 15:03:30.490  2021-02-25 12:38:00     urgent           home   \n",
       "1  2022-09-01 04:20:51.617  2022-09-02 16:00:00     urgent           home   \n",
       "2  2023-10-30 17:58:09.730  2023-11-01 15:33:00     urgent           home   \n",
       "3  2020-08-30 04:25:30.670  2020-09-03 13:45:00     urgent           home   \n",
       "4  2021-07-13 01:21:32.077  2021-07-15 11:48:00     urgent           home   \n",
       "\n",
       "  Release_Type  Releasing_Doctor  Admission_Days2 Diagnosis_In_Reception  \\\n",
       "0         home             11023                1   5370 , 7872 , 78720    \n",
       "1         home             12517                1                  78060   \n",
       "2         home             11887                2                   5119   \n",
       "3         home             10525                4           2859 , 7807    \n",
       "4         home              6890                2                   7865   \n",
       "\n",
       "    Diagnosis_In_Release  ct  Admission_Days Period_Between_Admissions  \\\n",
       "0   5370 , 7872 , 78720    0               3                     short   \n",
       "1                  78060   0               1                      long   \n",
       "2            5119 , 514    0               2                     short   \n",
       "3            486 , 5990    0               5                      long   \n",
       "4                   7865   1               2                       mid   \n",
       "\n",
       "   Days_To_Rehospitalization  \n",
       "0                   5.099658  \n",
       "1                  23.545736  \n",
       "2                   1.027890  \n",
       "3                  26.582994  \n",
       "4                   7.324677  "
      ],
      "text/html": [
       "<div>\n",
       "<style scoped>\n",
       "    .dataframe tbody tr th:only-of-type {\n",
       "        vertical-align: middle;\n",
       "    }\n",
       "\n",
       "    .dataframe tbody tr th {\n",
       "        vertical-align: top;\n",
       "    }\n",
       "\n",
       "    .dataframe thead th {\n",
       "        text-align: right;\n",
       "    }\n",
       "</style>\n",
       "<table border=\"1\" class=\"dataframe\">\n",
       "  <thead>\n",
       "    <tr style=\"text-align: right;\">\n",
       "      <th></th>\n",
       "      <th>Discharging Unit</th>\n",
       "      <th>Admission_Entry_Date</th>\n",
       "      <th>Release_Date</th>\n",
       "      <th>Admission_Entry_Date2</th>\n",
       "      <th>Release_Date2</th>\n",
       "      <th>Entry_Type</th>\n",
       "      <th>Patient_Origin</th>\n",
       "      <th>Release_Type</th>\n",
       "      <th>Releasing_Doctor</th>\n",
       "      <th>Admission_Days2</th>\n",
       "      <th>Diagnosis_In_Reception</th>\n",
       "      <th>Diagnosis_In_Release</th>\n",
       "      <th>ct</th>\n",
       "      <th>Admission_Days</th>\n",
       "      <th>Period_Between_Admissions</th>\n",
       "      <th>Days_To_Rehospitalization</th>\n",
       "    </tr>\n",
       "  </thead>\n",
       "  <tbody>\n",
       "    <tr>\n",
       "      <th>0</th>\n",
       "      <td>5</td>\n",
       "      <td>2021-02-16 17:33:45.570</td>\n",
       "      <td>2021-02-19 12:40:00</td>\n",
       "      <td>2021-02-24 15:03:30.490</td>\n",
       "      <td>2021-02-25 12:38:00</td>\n",
       "      <td>urgent</td>\n",
       "      <td>home</td>\n",
       "      <td>home</td>\n",
       "      <td>11023</td>\n",
       "      <td>1</td>\n",
       "      <td>5370 , 7872 , 78720</td>\n",
       "      <td>5370 , 7872 , 78720</td>\n",
       "      <td>0</td>\n",
       "      <td>3</td>\n",
       "      <td>short</td>\n",
       "      <td>5.099658</td>\n",
       "    </tr>\n",
       "    <tr>\n",
       "      <th>1</th>\n",
       "      <td>4</td>\n",
       "      <td>2022-08-07 13:27:58.780</td>\n",
       "      <td>2022-08-08 15:15:00</td>\n",
       "      <td>2022-09-01 04:20:51.617</td>\n",
       "      <td>2022-09-02 16:00:00</td>\n",
       "      <td>urgent</td>\n",
       "      <td>home</td>\n",
       "      <td>home</td>\n",
       "      <td>12517</td>\n",
       "      <td>1</td>\n",
       "      <td>78060</td>\n",
       "      <td>78060</td>\n",
       "      <td>0</td>\n",
       "      <td>1</td>\n",
       "      <td>long</td>\n",
       "      <td>23.545736</td>\n",
       "    </tr>\n",
       "    <tr>\n",
       "      <th>2</th>\n",
       "      <td>5</td>\n",
       "      <td>2023-10-27 07:34:41.013</td>\n",
       "      <td>2023-10-29 17:18:00</td>\n",
       "      <td>2023-10-30 17:58:09.730</td>\n",
       "      <td>2023-11-01 15:33:00</td>\n",
       "      <td>urgent</td>\n",
       "      <td>home</td>\n",
       "      <td>home</td>\n",
       "      <td>11887</td>\n",
       "      <td>2</td>\n",
       "      <td>5119</td>\n",
       "      <td>5119 , 514</td>\n",
       "      <td>0</td>\n",
       "      <td>2</td>\n",
       "      <td>short</td>\n",
       "      <td>1.027890</td>\n",
       "    </tr>\n",
       "    <tr>\n",
       "      <th>3</th>\n",
       "      <td>3</td>\n",
       "      <td>2020-07-29 17:00:56.863</td>\n",
       "      <td>2020-08-03 14:26:00</td>\n",
       "      <td>2020-08-30 04:25:30.670</td>\n",
       "      <td>2020-09-03 13:45:00</td>\n",
       "      <td>urgent</td>\n",
       "      <td>home</td>\n",
       "      <td>home</td>\n",
       "      <td>10525</td>\n",
       "      <td>4</td>\n",
       "      <td>2859 , 7807</td>\n",
       "      <td>486 , 5990</td>\n",
       "      <td>0</td>\n",
       "      <td>5</td>\n",
       "      <td>long</td>\n",
       "      <td>26.582994</td>\n",
       "    </tr>\n",
       "    <tr>\n",
       "      <th>4</th>\n",
       "      <td>1</td>\n",
       "      <td>2021-07-03 11:42:24.973</td>\n",
       "      <td>2021-07-05 17:34:00</td>\n",
       "      <td>2021-07-13 01:21:32.077</td>\n",
       "      <td>2021-07-15 11:48:00</td>\n",
       "      <td>urgent</td>\n",
       "      <td>home</td>\n",
       "      <td>home</td>\n",
       "      <td>6890</td>\n",
       "      <td>2</td>\n",
       "      <td>7865</td>\n",
       "      <td>7865</td>\n",
       "      <td>1</td>\n",
       "      <td>2</td>\n",
       "      <td>mid</td>\n",
       "      <td>7.324677</td>\n",
       "    </tr>\n",
       "  </tbody>\n",
       "</table>\n",
       "</div>"
      ]
     },
     "execution_count": 14,
     "metadata": {},
     "output_type": "execute_result"
    }
   ],
   "execution_count": 14
  },
  {
   "metadata": {},
   "cell_type": "markdown",
   "source": "Now, let's divide the time deltas into classes, first let's try to boxplot our target variable (Days_To_Rehospitalization) to see what we're dealing with)",
   "id": "febe8a6f3f65b98c"
  },
  {
   "metadata": {
    "ExecuteTime": {
     "end_time": "2024-09-26T01:14:01.545172Z",
     "start_time": "2024-09-26T01:14:01.459371Z"
    }
   },
   "cell_type": "code",
   "source": "sns.boxplot(x=clean_hospitazation2_df_with_rehospitalization_time_discharging_unit_combined['Days_To_Rehospitalization']);",
   "id": "40ca1b284e0d166e",
   "outputs": [
    {
     "data": {
      "text/plain": [
       "<Figure size 640x480 with 1 Axes>"
      ],
      "image/png": "[encoded data removed]"
     },
     "metadata": {},
     "output_type": "display_data"
    }
   ],
   "execution_count": 15
  },
  {
   "metadata": {},
   "cell_type": "markdown",
   "source": "ok, so we can see that our median is approximately 12, the 25th quartile is at 5, and the 75th quartile is at approximately 18. Also, we have no outliers (which is great!). However, we are trying to label the data into 3 classes as even as possible, so we would like to divide the data into 3 quartiles:\n",
   "id": "addb2789f9c1d842"
  },
  {
   "metadata": {
    "ExecuteTime": {
     "end_time": "2024-09-26T01:14:01.674098Z",
     "start_time": "2024-09-26T01:14:01.666812Z"
    }
   },
   "cell_type": "code",
   "source": [
    "target_for_discharging_unit = clean_hospitazation2_df_with_rehospitalization_time_discharging_unit_combined['Days_To_Rehospitalization']\n",
    "print(f'33th quantile is: {target_for_discharging_unit.quantile(1 / 3)}\\n')\n",
    "print(f'66th quantile is: {target_for_discharging_unit.quantile(2 / 3)}\\n')\n",
    "print(f'99th quantile is: {target_for_discharging_unit.quantile(1)}\\n')\n"
   ],
   "id": "b2e682d1f0337343",
   "outputs": [
    {
     "name": "stdout",
     "output_type": "stream",
     "text": [
      "33th quantile is: 6.894788491512345\n",
      "\n",
      "66th quantile is: 16.37814055941358\n",
      "\n",
      "99th quantile is: 29.9977434375\n",
      "\n"
     ]
    }
   ],
   "execution_count": 16
  },
  {
   "metadata": {},
   "cell_type": "markdown",
   "source": "we can use these stats in order to label our target:\n",
   "id": "f528fa43b13a3eb1"
  },
  {
   "metadata": {
    "ExecuteTime": {
     "end_time": "2024-09-26T01:14:04.454171Z",
     "start_time": "2024-09-26T01:14:01.775964Z"
    }
   },
   "cell_type": "code",
   "source": [
    "clean_hospitazation2_df_with_rehospitalization_time_discharging_unit_combined_labeled =  Task21.label_data(df=clean_hospitazation2_df_with_rehospitalization_time_discharging_unit_combined, column_to_label='Days_To_Rehospitalization', labels=['Short', 'Medium', 'Long'])\n",
    "clean_hospitazation2_df_with_rehospitalization_time_discharging_unit_combined_labeled.to_csv(r'task21/hospitalization2_translated_clean_with_reshospitalization_time_discharging_unit_combined_labeled.csv',index=False)\n",
    "clean_hospitazation2_df_with_rehospitalization_time_discharging_unit_combined_labeled.head()"
   ],
   "id": "31a468cc8bd5231e",
   "outputs": [
    {
     "data": {
      "text/plain": [
       "   Discharging Unit     Admission_Entry_Date         Release_Date  \\\n",
       "0                 5  2021-02-16 17:33:45.570  2021-02-19 12:40:00   \n",
       "1                 4  2022-08-07 13:27:58.780  2022-08-08 15:15:00   \n",
       "2                 5  2023-10-27 07:34:41.013  2023-10-29 17:18:00   \n",
       "3                 3  2020-07-29 17:00:56.863  2020-08-03 14:26:00   \n",
       "4                 1  2021-07-03 11:42:24.973  2021-07-05 17:34:00   \n",
       "\n",
       "     Admission_Entry_Date2        Release_Date2 Entry_Type Patient_Origin  \\\n",
       "0  2021-02-24 15:03:30.490  2021-02-25 12:38:00     urgent           home   \n",
       "1  2022-09-01 04:20:51.617  2022-09-02 16:00:00     urgent           home   \n",
       "2  2023-10-30 17:58:09.730  2023-11-01 15:33:00     urgent           home   \n",
       "3  2020-08-30 04:25:30.670  2020-09-03 13:45:00     urgent           home   \n",
       "4  2021-07-13 01:21:32.077  2021-07-15 11:48:00     urgent           home   \n",
       "\n",
       "  Release_Type  Releasing_Doctor  Admission_Days2 Diagnosis_In_Reception  \\\n",
       "0         home             11023                1   5370 , 7872 , 78720    \n",
       "1         home             12517                1                  78060   \n",
       "2         home             11887                2                   5119   \n",
       "3         home             10525                4           2859 , 7807    \n",
       "4         home              6890                2                   7865   \n",
       "\n",
       "    Diagnosis_In_Release  ct  Admission_Days Period_Between_Admissions  \\\n",
       "0   5370 , 7872 , 78720    0               3                     short   \n",
       "1                  78060   0               1                      long   \n",
       "2            5119 , 514    0               2                     short   \n",
       "3            486 , 5990    0               5                      long   \n",
       "4                   7865   1               2                       mid   \n",
       "\n",
       "  Days_To_Rehospitalization  \n",
       "0                     Short  \n",
       "1                      Long  \n",
       "2                     Short  \n",
       "3                      Long  \n",
       "4                    Medium  "
      ],
      "text/html": [
       "<div>\n",
       "<style scoped>\n",
       "    .dataframe tbody tr th:only-of-type {\n",
       "        vertical-align: middle;\n",
       "    }\n",
       "\n",
       "    .dataframe tbody tr th {\n",
       "        vertical-align: top;\n",
       "    }\n",
       "\n",
       "    .dataframe thead th {\n",
       "        text-align: right;\n",
       "    }\n",
       "</style>\n",
       "<table border=\"1\" class=\"dataframe\">\n",
       "  <thead>\n",
       "    <tr style=\"text-align: right;\">\n",
       "      <th></th>\n",
       "      <th>Discharging Unit</th>\n",
       "      <th>Admission_Entry_Date</th>\n",
       "      <th>Release_Date</th>\n",
       "      <th>Admission_Entry_Date2</th>\n",
       "      <th>Release_Date2</th>\n",
       "      <th>Entry_Type</th>\n",
       "      <th>Patient_Origin</th>\n",
       "      <th>Release_Type</th>\n",
       "      <th>Releasing_Doctor</th>\n",
       "      <th>Admission_Days2</th>\n",
       "      <th>Diagnosis_In_Reception</th>\n",
       "      <th>Diagnosis_In_Release</th>\n",
       "      <th>ct</th>\n",
       "      <th>Admission_Days</th>\n",
       "      <th>Period_Between_Admissions</th>\n",
       "      <th>Days_To_Rehospitalization</th>\n",
       "    </tr>\n",
       "  </thead>\n",
       "  <tbody>\n",
       "    <tr>\n",
       "      <th>0</th>\n",
       "      <td>5</td>\n",
       "      <td>2021-02-16 17:33:45.570</td>\n",
       "      <td>2021-02-19 12:40:00</td>\n",
       "      <td>2021-02-24 15:03:30.490</td>\n",
       "      <td>2021-02-25 12:38:00</td>\n",
       "      <td>urgent</td>\n",
       "      <td>home</td>\n",
       "      <td>home</td>\n",
       "      <td>11023</td>\n",
       "      <td>1</td>\n",
       "      <td>5370 , 7872 , 78720</td>\n",
       "      <td>5370 , 7872 , 78720</td>\n",
       "      <td>0</td>\n",
       "      <td>3</td>\n",
       "      <td>short</td>\n",
       "      <td>Short</td>\n",
       "    </tr>\n",
       "    <tr>\n",
       "      <th>1</th>\n",
       "      <td>4</td>\n",
       "      <td>2022-08-07 13:27:58.780</td>\n",
       "      <td>2022-08-08 15:15:00</td>\n",
       "      <td>2022-09-01 04:20:51.617</td>\n",
       "      <td>2022-09-02 16:00:00</td>\n",
       "      <td>urgent</td>\n",
       "      <td>home</td>\n",
       "      <td>home</td>\n",
       "      <td>12517</td>\n",
       "      <td>1</td>\n",
       "      <td>78060</td>\n",
       "      <td>78060</td>\n",
       "      <td>0</td>\n",
       "      <td>1</td>\n",
       "      <td>long</td>\n",
       "      <td>Long</td>\n",
       "    </tr>\n",
       "    <tr>\n",
       "      <th>2</th>\n",
       "      <td>5</td>\n",
       "      <td>2023-10-27 07:34:41.013</td>\n",
       "      <td>2023-10-29 17:18:00</td>\n",
       "      <td>2023-10-30 17:58:09.730</td>\n",
       "      <td>2023-11-01 15:33:00</td>\n",
       "      <td>urgent</td>\n",
       "      <td>home</td>\n",
       "      <td>home</td>\n",
       "      <td>11887</td>\n",
       "      <td>2</td>\n",
       "      <td>5119</td>\n",
       "      <td>5119 , 514</td>\n",
       "      <td>0</td>\n",
       "      <td>2</td>\n",
       "      <td>short</td>\n",
       "      <td>Short</td>\n",
       "    </tr>\n",
       "    <tr>\n",
       "      <th>3</th>\n",
       "      <td>3</td>\n",
       "      <td>2020-07-29 17:00:56.863</td>\n",
       "      <td>2020-08-03 14:26:00</td>\n",
       "      <td>2020-08-30 04:25:30.670</td>\n",
       "      <td>2020-09-03 13:45:00</td>\n",
       "      <td>urgent</td>\n",
       "      <td>home</td>\n",
       "      <td>home</td>\n",
       "      <td>10525</td>\n",
       "      <td>4</td>\n",
       "      <td>2859 , 7807</td>\n",
       "      <td>486 , 5990</td>\n",
       "      <td>0</td>\n",
       "      <td>5</td>\n",
       "      <td>long</td>\n",
       "      <td>Long</td>\n",
       "    </tr>\n",
       "    <tr>\n",
       "      <th>4</th>\n",
       "      <td>1</td>\n",
       "      <td>2021-07-03 11:42:24.973</td>\n",
       "      <td>2021-07-05 17:34:00</td>\n",
       "      <td>2021-07-13 01:21:32.077</td>\n",
       "      <td>2021-07-15 11:48:00</td>\n",
       "      <td>urgent</td>\n",
       "      <td>home</td>\n",
       "      <td>home</td>\n",
       "      <td>6890</td>\n",
       "      <td>2</td>\n",
       "      <td>7865</td>\n",
       "      <td>7865</td>\n",
       "      <td>1</td>\n",
       "      <td>2</td>\n",
       "      <td>mid</td>\n",
       "      <td>Medium</td>\n",
       "    </tr>\n",
       "  </tbody>\n",
       "</table>\n",
       "</div>"
      ]
     },
     "execution_count": 17,
     "metadata": {},
     "output_type": "execute_result"
    }
   ],
   "execution_count": 17
  },
  {
   "metadata": {},
   "cell_type": "markdown",
   "source": "let's check the histogram of our categorical column:",
   "id": "58ecb0683d1b7b19"
  },
  {
   "metadata": {
    "ExecuteTime": {
     "end_time": "2024-09-26T01:14:04.593385Z",
     "start_time": "2024-09-26T01:14:04.499053Z"
    }
   },
   "cell_type": "code",
   "source": [
    "time_for_rehospitalization_eda = GenericEDA(clean_hospitazation2_df_with_rehospitalization_time_discharging_unit_combined_labeled)\n",
    "time_for_rehospitalization_eda.plot_categorical_frequency('Days_To_Rehospitalization')"
   ],
   "id": "b5805a72772ca036",
   "outputs": [
    {
     "data": {
      "text/plain": [
       "<Figure size 800x600 with 1 Axes>"
      ],
      "image/png": "[encoded data removed]"
     },
     "metadata": {},
     "output_type": "display_data"
    }
   ],
   "execution_count": 18
  },
  {
   "metadata": {},
   "cell_type": "markdown",
   "source": [
    "we can see, that we got even groups as we wanted :)\n",
    "Now let's check the correlation matrix for this dataset:"
   ],
   "id": "1598704acc22cbae"
  },
  {
   "metadata": {
    "ExecuteTime": {
     "end_time": "2024-09-26T01:14:04.649784Z",
     "start_time": "2024-09-26T01:14:04.636763Z"
    }
   },
   "cell_type": "code",
   "source": [
    "clean_hospitazation2_df_with_rehospitalization_time_discharging_unit_combined_labeled_encoded = clean_hospitazation2_df_with_rehospitalization_time_discharging_unit_combined_labeled.copy()\n",
    "classification_report_for_rehospitalization = ClassificationPipeline(df=clean_hospitazation2_df_with_rehospitalization_time_discharging_unit_combined_labeled_encoded,features=['Discharging Unit'], target='Days_To_Rehospitalization')\n",
    "clean_hospitazation2_df_with_rehospitalization_time_discharging_unit_combined_labeled_encoded['Days_To_Rehospitalization'] = classification_report_for_rehospitalization.encode_target()\n",
    "clean_hospitazation2_df_with_rehospitalization_time_discharging_unit_combined_labeled_encoded.head()"
   ],
   "id": "5c7bffccc9c5a3c1",
   "outputs": [
    {
     "data": {
      "text/plain": [
       "   Discharging Unit     Admission_Entry_Date         Release_Date  \\\n",
       "0                 5  2021-02-16 17:33:45.570  2021-02-19 12:40:00   \n",
       "1                 4  2022-08-07 13:27:58.780  2022-08-08 15:15:00   \n",
       "2                 5  2023-10-27 07:34:41.013  2023-10-29 17:18:00   \n",
       "3                 3  2020-07-29 17:00:56.863  2020-08-03 14:26:00   \n",
       "4                 1  2021-07-03 11:42:24.973  2021-07-05 17:34:00   \n",
       "\n",
       "     Admission_Entry_Date2        Release_Date2 Entry_Type Patient_Origin  \\\n",
       "0  2021-02-24 15:03:30.490  2021-02-25 12:38:00     urgent           home   \n",
       "1  2022-09-01 04:20:51.617  2022-09-02 16:00:00     urgent           home   \n",
       "2  2023-10-30 17:58:09.730  2023-11-01 15:33:00     urgent           home   \n",
       "3  2020-08-30 04:25:30.670  2020-09-03 13:45:00     urgent           home   \n",
       "4  2021-07-13 01:21:32.077  2021-07-15 11:48:00     urgent           home   \n",
       "\n",
       "  Release_Type  Releasing_Doctor  Admission_Days2 Diagnosis_In_Reception  \\\n",
       "0         home             11023                1   5370 , 7872 , 78720    \n",
       "1         home             12517                1                  78060   \n",
       "2         home             11887                2                   5119   \n",
       "3         home             10525                4           2859 , 7807    \n",
       "4         home              6890                2                   7865   \n",
       "\n",
       "    Diagnosis_In_Release  ct  Admission_Days Period_Between_Admissions  \\\n",
       "0   5370 , 7872 , 78720    0               3                     short   \n",
       "1                  78060   0               1                      long   \n",
       "2            5119 , 514    0               2                     short   \n",
       "3            486 , 5990    0               5                      long   \n",
       "4                   7865   1               2                       mid   \n",
       "\n",
       "   Days_To_Rehospitalization  \n",
       "0                          2  \n",
       "1                          0  \n",
       "2                          2  \n",
       "3                          0  \n",
       "4                          1  "
      ],
      "text/html": [
       "<div>\n",
       "<style scoped>\n",
       "    .dataframe tbody tr th:only-of-type {\n",
       "        vertical-align: middle;\n",
       "    }\n",
       "\n",
       "    .dataframe tbody tr th {\n",
       "        vertical-align: top;\n",
       "    }\n",
       "\n",
       "    .dataframe thead th {\n",
       "        text-align: right;\n",
       "    }\n",
       "</style>\n",
       "<table border=\"1\" class=\"dataframe\">\n",
       "  <thead>\n",
       "    <tr style=\"text-align: right;\">\n",
       "      <th></th>\n",
       "      <th>Discharging Unit</th>\n",
       "      <th>Admission_Entry_Date</th>\n",
       "      <th>Release_Date</th>\n",
       "      <th>Admission_Entry_Date2</th>\n",
       "      <th>Release_Date2</th>\n",
       "      <th>Entry_Type</th>\n",
       "      <th>Patient_Origin</th>\n",
       "      <th>Release_Type</th>\n",
       "      <th>Releasing_Doctor</th>\n",
       "      <th>Admission_Days2</th>\n",
       "      <th>Diagnosis_In_Reception</th>\n",
       "      <th>Diagnosis_In_Release</th>\n",
       "      <th>ct</th>\n",
       "      <th>Admission_Days</th>\n",
       "      <th>Period_Between_Admissions</th>\n",
       "      <th>Days_To_Rehospitalization</th>\n",
       "    </tr>\n",
       "  </thead>\n",
       "  <tbody>\n",
       "    <tr>\n",
       "      <th>0</th>\n",
       "      <td>5</td>\n",
       "      <td>2021-02-16 17:33:45.570</td>\n",
       "      <td>2021-02-19 12:40:00</td>\n",
       "      <td>2021-02-24 15:03:30.490</td>\n",
       "      <td>2021-02-25 12:38:00</td>\n",
       "      <td>urgent</td>\n",
       "      <td>home</td>\n",
       "      <td>home</td>\n",
       "      <td>11023</td>\n",
       "      <td>1</td>\n",
       "      <td>5370 , 7872 , 78720</td>\n",
       "      <td>5370 , 7872 , 78720</td>\n",
       "      <td>0</td>\n",
       "      <td>3</td>\n",
       "      <td>short</td>\n",
       "      <td>2</td>\n",
       "    </tr>\n",
       "    <tr>\n",
       "      <th>1</th>\n",
       "      <td>4</td>\n",
       "      <td>2022-08-07 13:27:58.780</td>\n",
       "      <td>2022-08-08 15:15:00</td>\n",
       "      <td>2022-09-01 04:20:51.617</td>\n",
       "      <td>2022-09-02 16:00:00</td>\n",
       "      <td>urgent</td>\n",
       "      <td>home</td>\n",
       "      <td>home</td>\n",
       "      <td>12517</td>\n",
       "      <td>1</td>\n",
       "      <td>78060</td>\n",
       "      <td>78060</td>\n",
       "      <td>0</td>\n",
       "      <td>1</td>\n",
       "      <td>long</td>\n",
       "      <td>0</td>\n",
       "    </tr>\n",
       "    <tr>\n",
       "      <th>2</th>\n",
       "      <td>5</td>\n",
       "      <td>2023-10-27 07:34:41.013</td>\n",
       "      <td>2023-10-29 17:18:00</td>\n",
       "      <td>2023-10-30 17:58:09.730</td>\n",
       "      <td>2023-11-01 15:33:00</td>\n",
       "      <td>urgent</td>\n",
       "      <td>home</td>\n",
       "      <td>home</td>\n",
       "      <td>11887</td>\n",
       "      <td>2</td>\n",
       "      <td>5119</td>\n",
       "      <td>5119 , 514</td>\n",
       "      <td>0</td>\n",
       "      <td>2</td>\n",
       "      <td>short</td>\n",
       "      <td>2</td>\n",
       "    </tr>\n",
       "    <tr>\n",
       "      <th>3</th>\n",
       "      <td>3</td>\n",
       "      <td>2020-07-29 17:00:56.863</td>\n",
       "      <td>2020-08-03 14:26:00</td>\n",
       "      <td>2020-08-30 04:25:30.670</td>\n",
       "      <td>2020-09-03 13:45:00</td>\n",
       "      <td>urgent</td>\n",
       "      <td>home</td>\n",
       "      <td>home</td>\n",
       "      <td>10525</td>\n",
       "      <td>4</td>\n",
       "      <td>2859 , 7807</td>\n",
       "      <td>486 , 5990</td>\n",
       "      <td>0</td>\n",
       "      <td>5</td>\n",
       "      <td>long</td>\n",
       "      <td>0</td>\n",
       "    </tr>\n",
       "    <tr>\n",
       "      <th>4</th>\n",
       "      <td>1</td>\n",
       "      <td>2021-07-03 11:42:24.973</td>\n",
       "      <td>2021-07-05 17:34:00</td>\n",
       "      <td>2021-07-13 01:21:32.077</td>\n",
       "      <td>2021-07-15 11:48:00</td>\n",
       "      <td>urgent</td>\n",
       "      <td>home</td>\n",
       "      <td>home</td>\n",
       "      <td>6890</td>\n",
       "      <td>2</td>\n",
       "      <td>7865</td>\n",
       "      <td>7865</td>\n",
       "      <td>1</td>\n",
       "      <td>2</td>\n",
       "      <td>mid</td>\n",
       "      <td>1</td>\n",
       "    </tr>\n",
       "  </tbody>\n",
       "</table>\n",
       "</div>"
      ]
     },
     "execution_count": 19,
     "metadata": {},
     "output_type": "execute_result"
    }
   ],
   "execution_count": 19
  },
  {
   "metadata": {},
   "cell_type": "markdown",
   "source": [
    "The data was encoded that way: \n",
    "* 2 = short\n",
    "* 1 = Medium\n",
    "* 0 = Long\n",
    "\n",
    "Since our target represents elapsed time, it makes sense to encode it in an ordinal way (since Long is further from Short than from Medium).Now let's plot a correlation matrix for our target:"
   ],
   "id": "f961f8dce56bbfdc"
  },
  {
   "metadata": {
    "ExecuteTime": {
     "end_time": "2024-09-26T01:14:04.876444Z",
     "start_time": "2024-09-26T01:14:04.716289Z"
    }
   },
   "cell_type": "code",
   "source": [
    "discharging_unit_vs_rehospitalization_time_eda = GenericEDA(df= clean_hospitazation2_df_with_rehospitalization_time_discharging_unit_combined_labeled_encoded)\n",
    "discharging_unit_vs_rehospitalization_time_eda.plot_correlation_matrix()"
   ],
   "id": "591c316efba56c12",
   "outputs": [
    {
     "name": "stderr",
     "output_type": "stream",
     "text": [
      "C:\\DS2-final_project\\data-science2-lab-final-project\\src\\team_1\\task_9\\generic_eda.py:100: FutureWarning: The default value of numeric_only in DataFrame.corr is deprecated. In a future version, it will default to False. Select only valid columns or specify the value of numeric_only to silence this warning.\n",
      "  corr_matrix = self.df.corr()\n"
     ]
    },
    {
     "data": {
      "text/plain": [
       "<Figure size 1200x800 with 2 Axes>"
      ],
      "image/png": "[encoded data removed]"
     },
     "metadata": {},
     "output_type": "display_data"
    }
   ],
   "execution_count": 20
  },
  {
   "metadata": {},
   "cell_type": "markdown",
   "source": "We can see that all of our features have an extremely weak correlation to our target... It might suggest that a linear model (MLP) might not be the best choice to describe the relationship between the discharging unit and Days_To_Rehospitalization. Let's try that linear model (MLP) to see how bad it performs. The network will contain an input Linear layer, RelU activation function, and an output Linear layer. It will also contain hidden layers in the size of 10 , and will train to minimize the cross entropy loss function, and it will use an ADAM optimizer. it will train on 100 epochs with a learning rate of 0.01 . We will also compare it to other models:\n",
   "id": "67caea75f8571732"
  },
  {
   "metadata": {},
   "cell_type": "markdown",
   "source": [
    "### Linear model \n",
    "***"
   ],
   "id": "29bb3a01a18034d"
  },
  {
   "metadata": {
    "ExecuteTime": {
     "end_time": "2024-09-26T01:14:05.138695Z",
     "start_time": "2024-09-26T01:14:04.929381Z"
    }
   },
   "cell_type": "code",
   "source": [
    "discharging_unit_train,discharging_unit_test, rehospitalization_time_train , rehospitalization_time_test = classification_report_for_rehospitalization.prepare_data()   # train - test split\n",
    "linear_model = classification_report_for_rehospitalization.train_model(X_train=discharging_unit_train, y_train =rehospitalization_time_train, input_size=1, num_classes=3)  # linear model\n",
    "classification_report_for_rehospitalization.evaluate_model(model=linear_model, X_test=discharging_unit_test, y_test=rehospitalization_time_test)"
   ],
   "id": "e42a3509aa67107e",
   "outputs": [
    {
     "name": "stdout",
     "output_type": "stream",
     "text": [
      "Epoch [10/100], Loss: 1.0992\n",
      "Epoch [20/100], Loss: 1.0997\n",
      "Epoch [30/100], Loss: 1.0984\n",
      "Epoch [40/100], Loss: 1.0985\n",
      "Epoch [50/100], Loss: 1.0983\n",
      "Epoch [60/100], Loss: 1.0983\n",
      "Epoch [70/100], Loss: 1.0982\n",
      "Epoch [80/100], Loss: 1.0982\n",
      "Epoch [90/100], Loss: 1.0982\n",
      "Epoch [100/100], Loss: 1.0981\n",
      "              precision    recall  f1-score   support\n",
      "\n",
      "           0       0.00      0.00      0.00       873\n",
      "           1       0.34      0.41      0.37       895\n",
      "           2       0.35      0.62      0.44       907\n",
      "\n",
      "    accuracy                           0.35      2675\n",
      "   macro avg       0.23      0.34      0.27      2675\n",
      "weighted avg       0.23      0.35      0.28      2675\n",
      "\n"
     ]
    },
    {
     "name": "stderr",
     "output_type": "stream",
     "text": [
      "C:\\DS2-final_project\\data-science2-lab-final-project\\venv\\Lib\\site-packages\\sklearn\\metrics\\_classification.py:1344: UndefinedMetricWarning: Precision and F-score are ill-defined and being set to 0.0 in labels with no predicted samples. Use `zero_division` parameter to control this behavior.\n",
      "  _warn_prf(average, modifier, msg_start, len(result))\n",
      "C:\\DS2-final_project\\data-science2-lab-final-project\\venv\\Lib\\site-packages\\sklearn\\metrics\\_classification.py:1344: UndefinedMetricWarning: Precision and F-score are ill-defined and being set to 0.0 in labels with no predicted samples. Use `zero_division` parameter to control this behavior.\n",
      "  _warn_prf(average, modifier, msg_start, len(result))\n",
      "C:\\DS2-final_project\\data-science2-lab-final-project\\venv\\Lib\\site-packages\\sklearn\\metrics\\_classification.py:1344: UndefinedMetricWarning: Precision and F-score are ill-defined and being set to 0.0 in labels with no predicted samples. Use `zero_division` parameter to control this behavior.\n",
      "  _warn_prf(average, modifier, msg_start, len(result))\n"
     ]
    }
   ],
   "execution_count": 21
  },
  {
   "metadata": {},
   "cell_type": "markdown",
   "source": "We can see that we got accuracy of 33% (which is equivalent to just randomly assign a class to an observation, since we have 3 classes. So, as expected, the linear model performed poorly. Now, let's try another approach. \n",
   "id": "a8b0c0df8590ea75"
  },
  {
   "metadata": {},
   "cell_type": "markdown",
   "source": [
    "### Logistic classifier\n",
    "***"
   ],
   "id": "73688660cb0c95fc"
  },
  {
   "metadata": {},
   "cell_type": "markdown",
   "source": "Next thing we tried is a logistic classifier. It is similar to the MLP we used earlier. only that he has an extra softmax layer after the output layer. The training procedure and parameters remain the same.",
   "id": "fed56be37f8fb500"
  },
  {
   "metadata": {
    "ExecuteTime": {
     "end_time": "2024-09-26T01:14:05.373517Z",
     "start_time": "2024-09-26T01:14:05.157727Z"
    }
   },
   "cell_type": "code",
   "source": [
    "logistic_classification_report = LogisticClassificationPipeline(df=clean_hospitazation2_df_with_rehospitalization_time_discharging_unit_combined_labeled_encoded,features=['Discharging Unit'], target='Days_To_Rehospitalization')\n",
    "logistic_model = logistic_classification_report.train_model(X_train=discharging_unit_train, y_train=rehospitalization_time_train, input_size=1, num_classes=3)\n",
    "logistic_classification_report.evaluate_model(model=logistic_model, X_test=discharging_unit_test, y_test=rehospitalization_time_test)"
   ],
   "id": "fe73c83749128937",
   "outputs": [
    {
     "name": "stdout",
     "output_type": "stream",
     "text": [
      "Epoch [10/100], Loss: 1.0986\n",
      "Epoch [20/100], Loss: 1.0981\n",
      "Epoch [30/100], Loss: 1.0980\n",
      "Epoch [40/100], Loss: 1.0979\n",
      "Epoch [50/100], Loss: 1.0979\n",
      "Epoch [60/100], Loss: 1.0978\n",
      "Epoch [70/100], Loss: 1.0978\n",
      "Epoch [80/100], Loss: 1.0978\n",
      "Epoch [90/100], Loss: 1.0977\n",
      "Epoch [100/100], Loss: 1.0977\n",
      "              precision    recall  f1-score   support\n",
      "\n",
      "           0       0.33      0.40      0.36       873\n",
      "           1       0.30      0.21      0.25       895\n",
      "           2       0.33      0.36      0.35       907\n",
      "\n",
      "    accuracy                           0.32      2675\n",
      "   macro avg       0.32      0.33      0.32      2675\n",
      "weighted avg       0.32      0.32      0.32      2675\n",
      "\n"
     ]
    }
   ],
   "execution_count": 22
  },
  {
   "metadata": {},
   "cell_type": "markdown",
   "source": "we can see that the softmax function did not change much... Let's try Resnet:",
   "id": "241311851471691e"
  },
  {
   "metadata": {
    "ExecuteTime": {
     "end_time": "2024-09-26T01:14:05.684029Z",
     "start_time": "2024-09-26T01:14:05.405076Z"
    }
   },
   "cell_type": "code",
   "source": [
    "resnet_classification_report = ResnetClassificationPipeline(df=clean_hospitazation2_df_with_rehospitalization_time_discharging_unit_combined_labeled_encoded,features=['Discharging Unit'], target='Days_To_Rehospitalization')\n",
    "resnet_model = resnet_classification_report.train_model(X_train=discharging_unit_train, y_train=rehospitalization_time_train, input_size=1, num_classes=3)\n",
    "resnet_classification_report.evaluate_model(model=resnet_model, X_test=discharging_unit_test, y_test=rehospitalization_time_test)"
   ],
   "id": "734a0f016d407d08",
   "outputs": [
    {
     "name": "stdout",
     "output_type": "stream",
     "text": [
      "Epoch [10/100], Loss: 1.1162\n",
      "Epoch [20/100], Loss: 1.1044\n",
      "Epoch [30/100], Loss: 1.1020\n",
      "Epoch [40/100], Loss: 1.1004\n",
      "Epoch [50/100], Loss: 1.0997\n",
      "Epoch [60/100], Loss: 1.0991\n",
      "Epoch [70/100], Loss: 1.0986\n",
      "Epoch [80/100], Loss: 1.0983\n",
      "Epoch [90/100], Loss: 1.0981\n",
      "Epoch [100/100], Loss: 1.0980\n",
      "              precision    recall  f1-score   support\n",
      "\n",
      "           0       0.33      0.40      0.36       873\n",
      "           1       0.32      0.41      0.36       895\n",
      "           2       0.33      0.17      0.22       907\n",
      "\n",
      "    accuracy                           0.33      2675\n",
      "   macro avg       0.33      0.33      0.32      2675\n",
      "weighted avg       0.33      0.33      0.32      2675\n",
      "\n"
     ]
    }
   ],
   "execution_count": 23
  },
  {
   "metadata": {},
   "cell_type": "markdown",
   "source": "We can see that even with Resnet we don't get good results, So it could be that the model is simply suffering from underfitting and needs to be trained on more features in order to produce good results. we will try to add a feature from 'unitsAdmissions' table. We will calculate the releasing rate of each unit per each date (number of releases divided by the number of Admissions). First, we will need to translate this dataframe:",
   "id": "97362cb2599a79bb"
  },
  {
   "metadata": {
    "ExecuteTime": {
     "end_time": "2024-09-26T01:14:06.330195Z",
     "start_time": "2024-09-26T01:14:05.714803Z"
    }
   },
   "cell_type": "code",
   "source": [
    "rehospitalization_dir = os.path.abspath(os.path.join(os.getcwd(),\"..\",\"data\"))\n",
    "rehospitalization_path = os.path.join(clean_hospitazation2_dir,\"rehospitalization.xlsx\")\n",
    "unitsAdmissions_df = pd.read_excel(rehospitalization_path,sheet_name='unitsAdmissions')\n",
    "unitsAdmissions_df.head()"
   ],
   "id": "46ed33b7d8921d14",
   "outputs": [
    {
     "data": {
      "text/plain": [
       "       תאריך  מחלקה  כמות קבלות\n",
       "0 2020-01-01      4           7\n",
       "1 2020-01-02      4          10\n",
       "2 2020-01-03      4           9\n",
       "3 2020-01-04      4          13\n",
       "4 2020-01-05      4          15"
      ],
      "text/html": [
       "<div>\n",
       "<style scoped>\n",
       "    .dataframe tbody tr th:only-of-type {\n",
       "        vertical-align: middle;\n",
       "    }\n",
       "\n",
       "    .dataframe tbody tr th {\n",
       "        vertical-align: top;\n",
       "    }\n",
       "\n",
       "    .dataframe thead th {\n",
       "        text-align: right;\n",
       "    }\n",
       "</style>\n",
       "<table border=\"1\" class=\"dataframe\">\n",
       "  <thead>\n",
       "    <tr style=\"text-align: right;\">\n",
       "      <th></th>\n",
       "      <th>תאריך</th>\n",
       "      <th>מחלקה</th>\n",
       "      <th>כמות קבלות</th>\n",
       "    </tr>\n",
       "  </thead>\n",
       "  <tbody>\n",
       "    <tr>\n",
       "      <th>0</th>\n",
       "      <td>2020-01-01</td>\n",
       "      <td>4</td>\n",
       "      <td>7</td>\n",
       "    </tr>\n",
       "    <tr>\n",
       "      <th>1</th>\n",
       "      <td>2020-01-02</td>\n",
       "      <td>4</td>\n",
       "      <td>10</td>\n",
       "    </tr>\n",
       "    <tr>\n",
       "      <th>2</th>\n",
       "      <td>2020-01-03</td>\n",
       "      <td>4</td>\n",
       "      <td>9</td>\n",
       "    </tr>\n",
       "    <tr>\n",
       "      <th>3</th>\n",
       "      <td>2020-01-04</td>\n",
       "      <td>4</td>\n",
       "      <td>13</td>\n",
       "    </tr>\n",
       "    <tr>\n",
       "      <th>4</th>\n",
       "      <td>2020-01-05</td>\n",
       "      <td>4</td>\n",
       "      <td>15</td>\n",
       "    </tr>\n",
       "  </tbody>\n",
       "</table>\n",
       "</div>"
      ]
     },
     "execution_count": 24,
     "metadata": {},
     "output_type": "execute_result"
    }
   ],
   "execution_count": 24
  },
  {
   "metadata": {},
   "cell_type": "markdown",
   "source": "The table contains hebrew content, let's extract and translate it:",
   "id": "e27bb6e86002eaa"
  },
  {
   "metadata": {
    "ExecuteTime": {
     "end_time": "2024-09-26T01:14:06.404630Z",
     "start_time": "2024-09-26T01:14:06.380927Z"
    }
   },
   "cell_type": "code",
   "source": "extract_hebrew_content(unitsAdmissions_df)",
   "id": "99410022c85481f5",
   "outputs": [
    {
     "data": {
      "text/plain": [
       "{'columns': ['תאריך', 'מחלקה', 'כמות קבלות'], 'content': []}"
      ]
     },
     "execution_count": 25,
     "metadata": {},
     "output_type": "execute_result"
    }
   ],
   "execution_count": 25
  },
  {
   "metadata": {
    "ExecuteTime": {
     "end_time": "2024-09-26T01:14:06.485407Z",
     "start_time": "2024-09-26T01:14:06.460815Z"
    }
   },
   "cell_type": "code",
   "source": [
    "unitsAdmissions_df_translated = translate_dataframe(dataframe=unitsAdmissions_df,translation_dict=Task21.Translator)\n",
    "unitsAdmissions_df_translated.to_csv(os.path.join(rehospitalization_dir,\"unitsAdmissions_df_translated.csv\"),index=False)\n",
    "unitsAdmissions_df_translated.head()"
   ],
   "id": "4790398b23d6095",
   "outputs": [
    {
     "data": {
      "text/plain": [
       "        Date  Unit  Amount Of Admissions\n",
       "0 2020-01-01     4                     7\n",
       "1 2020-01-02     4                    10\n",
       "2 2020-01-03     4                     9\n",
       "3 2020-01-04     4                    13\n",
       "4 2020-01-05     4                    15"
      ],
      "text/html": [
       "<div>\n",
       "<style scoped>\n",
       "    .dataframe tbody tr th:only-of-type {\n",
       "        vertical-align: middle;\n",
       "    }\n",
       "\n",
       "    .dataframe tbody tr th {\n",
       "        vertical-align: top;\n",
       "    }\n",
       "\n",
       "    .dataframe thead th {\n",
       "        text-align: right;\n",
       "    }\n",
       "</style>\n",
       "<table border=\"1\" class=\"dataframe\">\n",
       "  <thead>\n",
       "    <tr style=\"text-align: right;\">\n",
       "      <th></th>\n",
       "      <th>Date</th>\n",
       "      <th>Unit</th>\n",
       "      <th>Amount Of Admissions</th>\n",
       "    </tr>\n",
       "  </thead>\n",
       "  <tbody>\n",
       "    <tr>\n",
       "      <th>0</th>\n",
       "      <td>2020-01-01</td>\n",
       "      <td>4</td>\n",
       "      <td>7</td>\n",
       "    </tr>\n",
       "    <tr>\n",
       "      <th>1</th>\n",
       "      <td>2020-01-02</td>\n",
       "      <td>4</td>\n",
       "      <td>10</td>\n",
       "    </tr>\n",
       "    <tr>\n",
       "      <th>2</th>\n",
       "      <td>2020-01-03</td>\n",
       "      <td>4</td>\n",
       "      <td>9</td>\n",
       "    </tr>\n",
       "    <tr>\n",
       "      <th>3</th>\n",
       "      <td>2020-01-04</td>\n",
       "      <td>4</td>\n",
       "      <td>13</td>\n",
       "    </tr>\n",
       "    <tr>\n",
       "      <th>4</th>\n",
       "      <td>2020-01-05</td>\n",
       "      <td>4</td>\n",
       "      <td>15</td>\n",
       "    </tr>\n",
       "  </tbody>\n",
       "</table>\n",
       "</div>"
      ]
     },
     "execution_count": 26,
     "metadata": {},
     "output_type": "execute_result"
    }
   ],
   "execution_count": 26
  },
  {
   "metadata": {},
   "cell_type": "markdown",
   "source": "let's check this table for missing values:",
   "id": "7ed3bfdaea53a3c1"
  },
  {
   "metadata": {
    "ExecuteTime": {
     "end_time": "2024-09-26T01:14:06.543850Z",
     "start_time": "2024-09-26T01:14:06.539878Z"
    }
   },
   "cell_type": "code",
   "source": "unitsAdmissions_df_translated.isna().sum().sum()",
   "id": "f100c41a35d29a36",
   "outputs": [
    {
     "data": {
      "text/plain": [
       "0"
      ]
     },
     "execution_count": 27,
     "metadata": {},
     "output_type": "execute_result"
    }
   ],
   "execution_count": 27
  },
  {
   "metadata": {},
   "cell_type": "markdown",
   "source": "Now that the dataframe is translated we can create that extra feature:",
   "id": "bbb25091ef90ea2f"
  },
  {
   "metadata": {
    "ExecuteTime": {
     "end_time": "2024-09-26T01:14:06.751482Z",
     "start_time": "2024-09-26T01:14:06.630158Z"
    }
   },
   "cell_type": "code",
   "source": [
    "clean_hospitazation2_df_encoded_with_release_rate = Task21.add_release_rate_column(hospitalization_df=clean_hospitazation2_df_with_rehospitalization_time_discharging_unit_combined_labeled_encoded, admissions_df=unitsAdmissions_df_translated, discharging_unit_col='Discharging Unit', release_date_cols=['Release_Date','Release_Date2'])\n",
    "clean_hospitazation2_df_encoded_with_release_rate.head()"
   ],
   "id": "41da83c5959bfee2",
   "outputs": [
    {
     "data": {
      "text/plain": [
       "   Discharging Unit  Release_Rate     Admission_Entry_Date Release_Date  \\\n",
       "0                 5          0.22  2021-02-16 17:33:45.570   2021-02-19   \n",
       "1                 4          0.17  2022-08-07 13:27:58.780   2022-08-08   \n",
       "2                 5          0.14  2023-10-27 07:34:41.013   2023-10-29   \n",
       "3                 3          0.38  2020-07-29 17:00:56.863   2020-08-03   \n",
       "4                 1          0.10  2021-07-03 11:42:24.973   2021-07-05   \n",
       "\n",
       "     Admission_Entry_Date2 Release_Date2 Entry_Type Patient_Origin  \\\n",
       "0  2021-02-24 15:03:30.490    2021-02-25     urgent           home   \n",
       "1  2022-09-01 04:20:51.617    2022-09-02     urgent           home   \n",
       "2  2023-10-30 17:58:09.730    2023-11-01     urgent           home   \n",
       "3  2020-08-30 04:25:30.670    2020-09-03     urgent           home   \n",
       "4  2021-07-13 01:21:32.077    2021-07-15     urgent           home   \n",
       "\n",
       "  Release_Type  Releasing_Doctor  Admission_Days2 Diagnosis_In_Reception  \\\n",
       "0         home             11023                1   5370 , 7872 , 78720    \n",
       "1         home             12517                1                  78060   \n",
       "2         home             11887                2                   5119   \n",
       "3         home             10525                4           2859 , 7807    \n",
       "4         home              6890                2                   7865   \n",
       "\n",
       "    Diagnosis_In_Release  ct  Admission_Days Period_Between_Admissions  \\\n",
       "0   5370 , 7872 , 78720    0               3                     short   \n",
       "1                  78060   0               1                      long   \n",
       "2            5119 , 514    0               2                     short   \n",
       "3            486 , 5990    0               5                      long   \n",
       "4                   7865   1               2                       mid   \n",
       "\n",
       "   Days_To_Rehospitalization  \n",
       "0                          2  \n",
       "1                          0  \n",
       "2                          2  \n",
       "3                          0  \n",
       "4                          1  "
      ],
      "text/html": [
       "<div>\n",
       "<style scoped>\n",
       "    .dataframe tbody tr th:only-of-type {\n",
       "        vertical-align: middle;\n",
       "    }\n",
       "\n",
       "    .dataframe tbody tr th {\n",
       "        vertical-align: top;\n",
       "    }\n",
       "\n",
       "    .dataframe thead th {\n",
       "        text-align: right;\n",
       "    }\n",
       "</style>\n",
       "<table border=\"1\" class=\"dataframe\">\n",
       "  <thead>\n",
       "    <tr style=\"text-align: right;\">\n",
       "      <th></th>\n",
       "      <th>Discharging Unit</th>\n",
       "      <th>Release_Rate</th>\n",
       "      <th>Admission_Entry_Date</th>\n",
       "      <th>Release_Date</th>\n",
       "      <th>Admission_Entry_Date2</th>\n",
       "      <th>Release_Date2</th>\n",
       "      <th>Entry_Type</th>\n",
       "      <th>Patient_Origin</th>\n",
       "      <th>Release_Type</th>\n",
       "      <th>Releasing_Doctor</th>\n",
       "      <th>Admission_Days2</th>\n",
       "      <th>Diagnosis_In_Reception</th>\n",
       "      <th>Diagnosis_In_Release</th>\n",
       "      <th>ct</th>\n",
       "      <th>Admission_Days</th>\n",
       "      <th>Period_Between_Admissions</th>\n",
       "      <th>Days_To_Rehospitalization</th>\n",
       "    </tr>\n",
       "  </thead>\n",
       "  <tbody>\n",
       "    <tr>\n",
       "      <th>0</th>\n",
       "      <td>5</td>\n",
       "      <td>0.22</td>\n",
       "      <td>2021-02-16 17:33:45.570</td>\n",
       "      <td>2021-02-19</td>\n",
       "      <td>2021-02-24 15:03:30.490</td>\n",
       "      <td>2021-02-25</td>\n",
       "      <td>urgent</td>\n",
       "      <td>home</td>\n",
       "      <td>home</td>\n",
       "      <td>11023</td>\n",
       "      <td>1</td>\n",
       "      <td>5370 , 7872 , 78720</td>\n",
       "      <td>5370 , 7872 , 78720</td>\n",
       "      <td>0</td>\n",
       "      <td>3</td>\n",
       "      <td>short</td>\n",
       "      <td>2</td>\n",
       "    </tr>\n",
       "    <tr>\n",
       "      <th>1</th>\n",
       "      <td>4</td>\n",
       "      <td>0.17</td>\n",
       "      <td>2022-08-07 13:27:58.780</td>\n",
       "      <td>2022-08-08</td>\n",
       "      <td>2022-09-01 04:20:51.617</td>\n",
       "      <td>2022-09-02</td>\n",
       "      <td>urgent</td>\n",
       "      <td>home</td>\n",
       "      <td>home</td>\n",
       "      <td>12517</td>\n",
       "      <td>1</td>\n",
       "      <td>78060</td>\n",
       "      <td>78060</td>\n",
       "      <td>0</td>\n",
       "      <td>1</td>\n",
       "      <td>long</td>\n",
       "      <td>0</td>\n",
       "    </tr>\n",
       "    <tr>\n",
       "      <th>2</th>\n",
       "      <td>5</td>\n",
       "      <td>0.14</td>\n",
       "      <td>2023-10-27 07:34:41.013</td>\n",
       "      <td>2023-10-29</td>\n",
       "      <td>2023-10-30 17:58:09.730</td>\n",
       "      <td>2023-11-01</td>\n",
       "      <td>urgent</td>\n",
       "      <td>home</td>\n",
       "      <td>home</td>\n",
       "      <td>11887</td>\n",
       "      <td>2</td>\n",
       "      <td>5119</td>\n",
       "      <td>5119 , 514</td>\n",
       "      <td>0</td>\n",
       "      <td>2</td>\n",
       "      <td>short</td>\n",
       "      <td>2</td>\n",
       "    </tr>\n",
       "    <tr>\n",
       "      <th>3</th>\n",
       "      <td>3</td>\n",
       "      <td>0.38</td>\n",
       "      <td>2020-07-29 17:00:56.863</td>\n",
       "      <td>2020-08-03</td>\n",
       "      <td>2020-08-30 04:25:30.670</td>\n",
       "      <td>2020-09-03</td>\n",
       "      <td>urgent</td>\n",
       "      <td>home</td>\n",
       "      <td>home</td>\n",
       "      <td>10525</td>\n",
       "      <td>4</td>\n",
       "      <td>2859 , 7807</td>\n",
       "      <td>486 , 5990</td>\n",
       "      <td>0</td>\n",
       "      <td>5</td>\n",
       "      <td>long</td>\n",
       "      <td>0</td>\n",
       "    </tr>\n",
       "    <tr>\n",
       "      <th>4</th>\n",
       "      <td>1</td>\n",
       "      <td>0.10</td>\n",
       "      <td>2021-07-03 11:42:24.973</td>\n",
       "      <td>2021-07-05</td>\n",
       "      <td>2021-07-13 01:21:32.077</td>\n",
       "      <td>2021-07-15</td>\n",
       "      <td>urgent</td>\n",
       "      <td>home</td>\n",
       "      <td>home</td>\n",
       "      <td>6890</td>\n",
       "      <td>2</td>\n",
       "      <td>7865</td>\n",
       "      <td>7865</td>\n",
       "      <td>1</td>\n",
       "      <td>2</td>\n",
       "      <td>mid</td>\n",
       "      <td>1</td>\n",
       "    </tr>\n",
       "  </tbody>\n",
       "</table>\n",
       "</div>"
      ]
     },
     "execution_count": 28,
     "metadata": {},
     "output_type": "execute_result"
    }
   ],
   "execution_count": 28
  },
  {
   "metadata": {},
   "cell_type": "markdown",
   "source": "let's check for missing values again:",
   "id": "8623372eeaa127b3"
  },
  {
   "metadata": {
    "ExecuteTime": {
     "end_time": "2024-09-26T01:14:06.788828Z",
     "start_time": "2024-09-26T01:14:06.780361Z"
    }
   },
   "cell_type": "code",
   "source": "clean_hospitazation2_df_encoded_with_release_rate.isna().sum().sum()",
   "id": "762f7b3cffafd21c",
   "outputs": [
    {
     "data": {
      "text/plain": [
       "0"
      ]
     },
     "execution_count": 29,
     "metadata": {},
     "output_type": "execute_result"
    }
   ],
   "execution_count": 29
  },
  {
   "metadata": {},
   "cell_type": "markdown",
   "source": "let's check for correlation between this new feature and our target:",
   "id": "b00d72f03c1e8fa9"
  },
  {
   "metadata": {
    "ExecuteTime": {
     "end_time": "2024-09-26T01:14:07.029206Z",
     "start_time": "2024-09-26T01:14:06.861935Z"
    }
   },
   "cell_type": "code",
   "source": [
    "discharging_unit_vs_rehospitalization_time_including_release_rate_eda = GenericEDA(df=clean_hospitazation2_df_encoded_with_release_rate)\n",
    "discharging_unit_vs_rehospitalization_time_including_release_rate_eda.plot_correlation_matrix()"
   ],
   "id": "db794bf9b3f96e80",
   "outputs": [
    {
     "name": "stderr",
     "output_type": "stream",
     "text": [
      "C:\\DS2-final_project\\data-science2-lab-final-project\\src\\team_1\\task_9\\generic_eda.py:100: FutureWarning: The default value of numeric_only in DataFrame.corr is deprecated. In a future version, it will default to False. Select only valid columns or specify the value of numeric_only to silence this warning.\n",
      "  corr_matrix = self.df.corr()\n"
     ]
    },
    {
     "data": {
      "text/plain": [
       "<Figure size 1200x800 with 2 Axes>"
      ],
      "image/png": "[encoded data removed]"
     },
     "metadata": {},
     "output_type": "display_data"
    }
   ],
   "execution_count": 30
  },
  {
   "metadata": {},
   "cell_type": "markdown",
   "source": "The correlation is still very weak... So, let's also add an occupation_rate based on the unitsOccupancyRate table. First, let's translate it:",
   "id": "8cb3014723ec6fe4"
  },
  {
   "metadata": {
    "ExecuteTime": {
     "end_time": "2024-09-26T01:14:07.716342Z",
     "start_time": "2024-09-26T01:14:07.074756Z"
    }
   },
   "cell_type": "code",
   "source": [
    "units_occupation_df = pd.read_excel(rehospitalization_path,sheet_name='unitsOccupancyRate')\n",
    "units_occupation_df.head()"
   ],
   "id": "e1ed0ae43f869099",
   "outputs": [
    {
     "data": {
      "text/plain": [
       "                תאריך  מחלקה  כמות שוהים  שיעור תפוסה\n",
       "0 2020-01-01 07:00:00      4          31        0.775\n",
       "1 2020-01-01 07:00:00      2          30        0.750\n",
       "2 2020-01-01 07:00:00      5          40        1.000\n",
       "3 2020-01-01 07:00:00      1          32        0.800\n",
       "4 2020-01-01 07:00:00      3          37        0.925"
      ],
      "text/html": [
       "<div>\n",
       "<style scoped>\n",
       "    .dataframe tbody tr th:only-of-type {\n",
       "        vertical-align: middle;\n",
       "    }\n",
       "\n",
       "    .dataframe tbody tr th {\n",
       "        vertical-align: top;\n",
       "    }\n",
       "\n",
       "    .dataframe thead th {\n",
       "        text-align: right;\n",
       "    }\n",
       "</style>\n",
       "<table border=\"1\" class=\"dataframe\">\n",
       "  <thead>\n",
       "    <tr style=\"text-align: right;\">\n",
       "      <th></th>\n",
       "      <th>תאריך</th>\n",
       "      <th>מחלקה</th>\n",
       "      <th>כמות שוהים</th>\n",
       "      <th>שיעור תפוסה</th>\n",
       "    </tr>\n",
       "  </thead>\n",
       "  <tbody>\n",
       "    <tr>\n",
       "      <th>0</th>\n",
       "      <td>2020-01-01 07:00:00</td>\n",
       "      <td>4</td>\n",
       "      <td>31</td>\n",
       "      <td>0.775</td>\n",
       "    </tr>\n",
       "    <tr>\n",
       "      <th>1</th>\n",
       "      <td>2020-01-01 07:00:00</td>\n",
       "      <td>2</td>\n",
       "      <td>30</td>\n",
       "      <td>0.750</td>\n",
       "    </tr>\n",
       "    <tr>\n",
       "      <th>2</th>\n",
       "      <td>2020-01-01 07:00:00</td>\n",
       "      <td>5</td>\n",
       "      <td>40</td>\n",
       "      <td>1.000</td>\n",
       "    </tr>\n",
       "    <tr>\n",
       "      <th>3</th>\n",
       "      <td>2020-01-01 07:00:00</td>\n",
       "      <td>1</td>\n",
       "      <td>32</td>\n",
       "      <td>0.800</td>\n",
       "    </tr>\n",
       "    <tr>\n",
       "      <th>4</th>\n",
       "      <td>2020-01-01 07:00:00</td>\n",
       "      <td>3</td>\n",
       "      <td>37</td>\n",
       "      <td>0.925</td>\n",
       "    </tr>\n",
       "  </tbody>\n",
       "</table>\n",
       "</div>"
      ]
     },
     "execution_count": 31,
     "metadata": {},
     "output_type": "execute_result"
    }
   ],
   "execution_count": 31
  },
  {
   "metadata": {
    "ExecuteTime": {
     "end_time": "2024-09-26T01:14:07.798415Z",
     "start_time": "2024-09-26T01:14:07.771625Z"
    }
   },
   "cell_type": "code",
   "source": "extract_hebrew_content(units_occupation_df)",
   "id": "7680a200ac2cff95",
   "outputs": [
    {
     "data": {
      "text/plain": [
       "{'columns': ['תאריך', 'מחלקה', 'כמות שוהים', 'שיעור תפוסה'], 'content': []}"
      ]
     },
     "execution_count": 32,
     "metadata": {},
     "output_type": "execute_result"
    }
   ],
   "execution_count": 32
  },
  {
   "metadata": {
    "ExecuteTime": {
     "end_time": "2024-09-26T01:14:07.881077Z",
     "start_time": "2024-09-26T01:14:07.848947Z"
    }
   },
   "cell_type": "code",
   "source": [
    "units_occupation_df_translated = translate_dataframe(dataframe=units_occupation_df, translation_dict=Task21.Translator)\n",
    "units_occupation_df_translated.to_csv(os.path.join(rehospitalization_dir,\"units_occupation_df_translated.csv\"),index=False)\n",
    "units_occupation_df_translated.head()"
   ],
   "id": "af66f9cbe0728f56",
   "outputs": [
    {
     "data": {
      "text/plain": [
       "                 Date  Unit  Amount Of Patients  Occupation Rate\n",
       "0 2020-01-01 07:00:00     4                  31            0.775\n",
       "1 2020-01-01 07:00:00     2                  30            0.750\n",
       "2 2020-01-01 07:00:00     5                  40            1.000\n",
       "3 2020-01-01 07:00:00     1                  32            0.800\n",
       "4 2020-01-01 07:00:00     3                  37            0.925"
      ],
      "text/html": [
       "<div>\n",
       "<style scoped>\n",
       "    .dataframe tbody tr th:only-of-type {\n",
       "        vertical-align: middle;\n",
       "    }\n",
       "\n",
       "    .dataframe tbody tr th {\n",
       "        vertical-align: top;\n",
       "    }\n",
       "\n",
       "    .dataframe thead th {\n",
       "        text-align: right;\n",
       "    }\n",
       "</style>\n",
       "<table border=\"1\" class=\"dataframe\">\n",
       "  <thead>\n",
       "    <tr style=\"text-align: right;\">\n",
       "      <th></th>\n",
       "      <th>Date</th>\n",
       "      <th>Unit</th>\n",
       "      <th>Amount Of Patients</th>\n",
       "      <th>Occupation Rate</th>\n",
       "    </tr>\n",
       "  </thead>\n",
       "  <tbody>\n",
       "    <tr>\n",
       "      <th>0</th>\n",
       "      <td>2020-01-01 07:00:00</td>\n",
       "      <td>4</td>\n",
       "      <td>31</td>\n",
       "      <td>0.775</td>\n",
       "    </tr>\n",
       "    <tr>\n",
       "      <th>1</th>\n",
       "      <td>2020-01-01 07:00:00</td>\n",
       "      <td>2</td>\n",
       "      <td>30</td>\n",
       "      <td>0.750</td>\n",
       "    </tr>\n",
       "    <tr>\n",
       "      <th>2</th>\n",
       "      <td>2020-01-01 07:00:00</td>\n",
       "      <td>5</td>\n",
       "      <td>40</td>\n",
       "      <td>1.000</td>\n",
       "    </tr>\n",
       "    <tr>\n",
       "      <th>3</th>\n",
       "      <td>2020-01-01 07:00:00</td>\n",
       "      <td>1</td>\n",
       "      <td>32</td>\n",
       "      <td>0.800</td>\n",
       "    </tr>\n",
       "    <tr>\n",
       "      <th>4</th>\n",
       "      <td>2020-01-01 07:00:00</td>\n",
       "      <td>3</td>\n",
       "      <td>37</td>\n",
       "      <td>0.925</td>\n",
       "    </tr>\n",
       "  </tbody>\n",
       "</table>\n",
       "</div>"
      ]
     },
     "execution_count": 33,
     "metadata": {},
     "output_type": "execute_result"
    }
   ],
   "execution_count": 33
  },
  {
   "metadata": {},
   "cell_type": "markdown",
   "source": "Now let's add these column of Amount Of Patients and Occupation Rate per Unit and date to the dataset:",
   "id": "7e06aa98f9675ac"
  },
  {
   "metadata": {
    "ExecuteTime": {
     "end_time": "2024-09-26T01:14:08.190504Z",
     "start_time": "2024-09-26T01:14:07.961620Z"
    }
   },
   "cell_type": "code",
   "source": [
    "clean_hospitalization2_df_encoded_with_release_rate_and_occupation = Task21.add_occupation_and_patient_columns(hospitalization_df=clean_hospitazation2_df_encoded_with_release_rate, occupancy_df=units_occupation_df_translated, discharging_unit_col='Discharging Unit', release_date_cols=['Release_Date','Release_Date2'], occupancy_unit_col='Unit', occupancy_rate_col='Occupation Rate', occupancy_date_col='Date', amount_patients_col='Amount Of Patients')\n",
    "clean_hospitalization2_df_encoded_with_release_rate_and_occupation.to_csv(os.path.join(rehospitalization_dir,\"clean_hospitalization2_df_encoded_with_release_rate_and_occupation.csv\"),index=False)\n",
    "clean_hospitalization2_df_encoded_with_release_rate_and_occupation.head()"
   ],
   "id": "c2852f71a9831039",
   "outputs": [
    {
     "data": {
      "text/plain": [
       "   Discharging Unit  Occupation_Rate  Amount of Patients  Release_Rate  \\\n",
       "0                 5             0.80                  32          0.22   \n",
       "1                 4             0.68                  27          0.17   \n",
       "2                 5             0.85                  34          0.14   \n",
       "3                 3             0.97                  39          0.38   \n",
       "4                 1             0.85                  34          0.10   \n",
       "\n",
       "      Admission_Entry_Date Release_Date    Admission_Entry_Date2  \\\n",
       "0  2021-02-16 17:33:45.570   2021-02-19  2021-02-24 15:03:30.490   \n",
       "1  2022-08-07 13:27:58.780   2022-08-08  2022-09-01 04:20:51.617   \n",
       "2  2023-10-27 07:34:41.013   2023-10-29  2023-10-30 17:58:09.730   \n",
       "3  2020-07-29 17:00:56.863   2020-08-03  2020-08-30 04:25:30.670   \n",
       "4  2021-07-03 11:42:24.973   2021-07-05  2021-07-13 01:21:32.077   \n",
       "\n",
       "  Release_Date2 Entry_Type Patient_Origin Release_Type  Releasing_Doctor  \\\n",
       "0    2021-02-25     urgent           home         home             11023   \n",
       "1    2022-09-02     urgent           home         home             12517   \n",
       "2    2023-11-01     urgent           home         home             11887   \n",
       "3    2020-09-03     urgent           home         home             10525   \n",
       "4    2021-07-15     urgent           home         home              6890   \n",
       "\n",
       "   Admission_Days2 Diagnosis_In_Reception   Diagnosis_In_Release  ct  \\\n",
       "0                1   5370 , 7872 , 78720    5370 , 7872 , 78720    0   \n",
       "1                1                  78060                  78060   0   \n",
       "2                2                   5119            5119 , 514    0   \n",
       "3                4           2859 , 7807             486 , 5990    0   \n",
       "4                2                   7865                   7865   1   \n",
       "\n",
       "   Admission_Days Period_Between_Admissions  Days_To_Rehospitalization  \n",
       "0               3                     short                          2  \n",
       "1               1                      long                          0  \n",
       "2               2                     short                          2  \n",
       "3               5                      long                          0  \n",
       "4               2                       mid                          1  "
      ],
      "text/html": [
       "<div>\n",
       "<style scoped>\n",
       "    .dataframe tbody tr th:only-of-type {\n",
       "        vertical-align: middle;\n",
       "    }\n",
       "\n",
       "    .dataframe tbody tr th {\n",
       "        vertical-align: top;\n",
       "    }\n",
       "\n",
       "    .dataframe thead th {\n",
       "        text-align: right;\n",
       "    }\n",
       "</style>\n",
       "<table border=\"1\" class=\"dataframe\">\n",
       "  <thead>\n",
       "    <tr style=\"text-align: right;\">\n",
       "      <th></th>\n",
       "      <th>Discharging Unit</th>\n",
       "      <th>Occupation_Rate</th>\n",
       "      <th>Amount of Patients</th>\n",
       "      <th>Release_Rate</th>\n",
       "      <th>Admission_Entry_Date</th>\n",
       "      <th>Release_Date</th>\n",
       "      <th>Admission_Entry_Date2</th>\n",
       "      <th>Release_Date2</th>\n",
       "      <th>Entry_Type</th>\n",
       "      <th>Patient_Origin</th>\n",
       "      <th>Release_Type</th>\n",
       "      <th>Releasing_Doctor</th>\n",
       "      <th>Admission_Days2</th>\n",
       "      <th>Diagnosis_In_Reception</th>\n",
       "      <th>Diagnosis_In_Release</th>\n",
       "      <th>ct</th>\n",
       "      <th>Admission_Days</th>\n",
       "      <th>Period_Between_Admissions</th>\n",
       "      <th>Days_To_Rehospitalization</th>\n",
       "    </tr>\n",
       "  </thead>\n",
       "  <tbody>\n",
       "    <tr>\n",
       "      <th>0</th>\n",
       "      <td>5</td>\n",
       "      <td>0.80</td>\n",
       "      <td>32</td>\n",
       "      <td>0.22</td>\n",
       "      <td>2021-02-16 17:33:45.570</td>\n",
       "      <td>2021-02-19</td>\n",
       "      <td>2021-02-24 15:03:30.490</td>\n",
       "      <td>2021-02-25</td>\n",
       "      <td>urgent</td>\n",
       "      <td>home</td>\n",
       "      <td>home</td>\n",
       "      <td>11023</td>\n",
       "      <td>1</td>\n",
       "      <td>5370 , 7872 , 78720</td>\n",
       "      <td>5370 , 7872 , 78720</td>\n",
       "      <td>0</td>\n",
       "      <td>3</td>\n",
       "      <td>short</td>\n",
       "      <td>2</td>\n",
       "    </tr>\n",
       "    <tr>\n",
       "      <th>1</th>\n",
       "      <td>4</td>\n",
       "      <td>0.68</td>\n",
       "      <td>27</td>\n",
       "      <td>0.17</td>\n",
       "      <td>2022-08-07 13:27:58.780</td>\n",
       "      <td>2022-08-08</td>\n",
       "      <td>2022-09-01 04:20:51.617</td>\n",
       "      <td>2022-09-02</td>\n",
       "      <td>urgent</td>\n",
       "      <td>home</td>\n",
       "      <td>home</td>\n",
       "      <td>12517</td>\n",
       "      <td>1</td>\n",
       "      <td>78060</td>\n",
       "      <td>78060</td>\n",
       "      <td>0</td>\n",
       "      <td>1</td>\n",
       "      <td>long</td>\n",
       "      <td>0</td>\n",
       "    </tr>\n",
       "    <tr>\n",
       "      <th>2</th>\n",
       "      <td>5</td>\n",
       "      <td>0.85</td>\n",
       "      <td>34</td>\n",
       "      <td>0.14</td>\n",
       "      <td>2023-10-27 07:34:41.013</td>\n",
       "      <td>2023-10-29</td>\n",
       "      <td>2023-10-30 17:58:09.730</td>\n",
       "      <td>2023-11-01</td>\n",
       "      <td>urgent</td>\n",
       "      <td>home</td>\n",
       "      <td>home</td>\n",
       "      <td>11887</td>\n",
       "      <td>2</td>\n",
       "      <td>5119</td>\n",
       "      <td>5119 , 514</td>\n",
       "      <td>0</td>\n",
       "      <td>2</td>\n",
       "      <td>short</td>\n",
       "      <td>2</td>\n",
       "    </tr>\n",
       "    <tr>\n",
       "      <th>3</th>\n",
       "      <td>3</td>\n",
       "      <td>0.97</td>\n",
       "      <td>39</td>\n",
       "      <td>0.38</td>\n",
       "      <td>2020-07-29 17:00:56.863</td>\n",
       "      <td>2020-08-03</td>\n",
       "      <td>2020-08-30 04:25:30.670</td>\n",
       "      <td>2020-09-03</td>\n",
       "      <td>urgent</td>\n",
       "      <td>home</td>\n",
       "      <td>home</td>\n",
       "      <td>10525</td>\n",
       "      <td>4</td>\n",
       "      <td>2859 , 7807</td>\n",
       "      <td>486 , 5990</td>\n",
       "      <td>0</td>\n",
       "      <td>5</td>\n",
       "      <td>long</td>\n",
       "      <td>0</td>\n",
       "    </tr>\n",
       "    <tr>\n",
       "      <th>4</th>\n",
       "      <td>1</td>\n",
       "      <td>0.85</td>\n",
       "      <td>34</td>\n",
       "      <td>0.10</td>\n",
       "      <td>2021-07-03 11:42:24.973</td>\n",
       "      <td>2021-07-05</td>\n",
       "      <td>2021-07-13 01:21:32.077</td>\n",
       "      <td>2021-07-15</td>\n",
       "      <td>urgent</td>\n",
       "      <td>home</td>\n",
       "      <td>home</td>\n",
       "      <td>6890</td>\n",
       "      <td>2</td>\n",
       "      <td>7865</td>\n",
       "      <td>7865</td>\n",
       "      <td>1</td>\n",
       "      <td>2</td>\n",
       "      <td>mid</td>\n",
       "      <td>1</td>\n",
       "    </tr>\n",
       "  </tbody>\n",
       "</table>\n",
       "</div>"
      ]
     },
     "execution_count": 34,
     "metadata": {},
     "output_type": "execute_result"
    }
   ],
   "execution_count": 34
  },
  {
   "metadata": {},
   "cell_type": "markdown",
   "source": "Let's check for missing values again:",
   "id": "95080c119910295"
  },
  {
   "metadata": {
    "ExecuteTime": {
     "end_time": "2024-09-26T01:14:08.241295Z",
     "start_time": "2024-09-26T01:14:08.232574Z"
    }
   },
   "cell_type": "code",
   "source": "clean_hospitalization2_df_encoded_with_release_rate_and_occupation.isna().sum().sum()",
   "id": "90fd828b6644e828",
   "outputs": [
    {
     "data": {
      "text/plain": [
       "0"
      ]
     },
     "execution_count": 35,
     "metadata": {},
     "output_type": "execute_result"
    }
   ],
   "execution_count": 35
  },
  {
   "metadata": {},
   "cell_type": "markdown",
   "source": "let's check for correlation with our target:",
   "id": "38e3cb357e40c2db"
  },
  {
   "metadata": {
    "ExecuteTime": {
     "end_time": "2024-09-26T01:14:08.517574Z",
     "start_time": "2024-09-26T01:14:08.312819Z"
    }
   },
   "cell_type": "code",
   "source": [
    "discharging_unit_vs_rehospitalization_time_including_release_rate_and_occupation_eda = GenericEDA(df=clean_hospitalization2_df_encoded_with_release_rate_and_occupation)\n",
    "discharging_unit_vs_rehospitalization_time_including_release_rate_and_occupation_eda.plot_correlation_matrix()"
   ],
   "id": "221c1b5ca6faf470",
   "outputs": [
    {
     "name": "stderr",
     "output_type": "stream",
     "text": [
      "C:\\DS2-final_project\\data-science2-lab-final-project\\src\\team_1\\task_9\\generic_eda.py:100: FutureWarning: The default value of numeric_only in DataFrame.corr is deprecated. In a future version, it will default to False. Select only valid columns or specify the value of numeric_only to silence this warning.\n",
      "  corr_matrix = self.df.corr()\n"
     ]
    },
    {
     "data": {
      "text/plain": [
       "<Figure size 1200x800 with 2 Axes>"
      ],
      "image/png": "[encoded data removed]"
     },
     "metadata": {},
     "output_type": "display_data"
    }
   ],
   "execution_count": 36
  },
  {
   "metadata": {},
   "cell_type": "markdown",
   "source": "It seems like the correlation is still weak even with these new features... Last thing we are going to try is to train a Resnet network on all the features we gathered to see if it improves the performance of our classifier. Notice that since we added new features we also need to create new sets of train and test.",
   "id": "3020abf8ecf81c23"
  },
  {
   "metadata": {
    "ExecuteTime": {
     "end_time": "2024-09-26T01:14:08.873656Z",
     "start_time": "2024-09-26T01:14:08.560925Z"
    }
   },
   "cell_type": "code",
   "source": [
    "multi_resnet_classification_report = ResnetClassificationPipeline(df=clean_hospitalization2_df_encoded_with_release_rate_and_occupation,features=['Discharging Unit', 'Occupation_Rate', 'Amount of Patients', 'Release_Rate'], target='Days_To_Rehospitalization')\n",
    "multi_res_x_train, multi_res_x_test, multi_res_y_train, multi_res_y_test= multi_resnet_classification_report.prepare_data()\n",
    "multi_res_model = multi_resnet_classification_report.train_model(X_train=multi_res_x_train, y_train=multi_res_y_train, input_size=4, num_classes=3)\n",
    "multi_resnet_classification_report.evaluate_model(model=multi_res_model, X_test=multi_res_x_test, y_test=multi_res_y_test)\n",
    "\n"
   ],
   "id": "9f9723d13df2ac1b",
   "outputs": [
    {
     "name": "stdout",
     "output_type": "stream",
     "text": [
      "Epoch [10/100], Loss: 1.1010\n",
      "Epoch [20/100], Loss: 1.0989\n",
      "Epoch [30/100], Loss: 1.0978\n",
      "Epoch [40/100], Loss: 1.0970\n",
      "Epoch [50/100], Loss: 1.0965\n",
      "Epoch [60/100], Loss: 1.0961\n",
      "Epoch [70/100], Loss: 1.0959\n",
      "Epoch [80/100], Loss: 1.0956\n",
      "Epoch [90/100], Loss: 1.0953\n",
      "Epoch [100/100], Loss: 1.0950\n",
      "              precision    recall  f1-score   support\n",
      "\n",
      "           0       0.32      0.30      0.31       873\n",
      "           1       0.32      0.30      0.31       895\n",
      "           2       0.33      0.37      0.35       907\n",
      "\n",
      "    accuracy                           0.32      2675\n",
      "   macro avg       0.32      0.32      0.32      2675\n",
      "weighted avg       0.32      0.32      0.32      2675\n",
      "\n"
     ]
    }
   ],
   "execution_count": 37
  },
  {
   "metadata": {},
   "cell_type": "markdown",
   "source": "This model still doesn't give us better performance. So, we will stick to the regular MLP.",
   "id": "dbb33bcd5739d5e4"
  },
  {
   "metadata": {},
   "cell_type": "markdown",
   "source": [
    "#### Visualization\n",
    "***"
   ],
   "id": "e412eb7f5fa02f2b"
  },
  {
   "metadata": {
    "ExecuteTime": {
     "end_time": "2024-09-26T01:14:09.087133Z",
     "start_time": "2024-09-26T01:14:08.918741Z"
    }
   },
   "cell_type": "code",
   "source": [
    "visualization_for_MLP = ClassificationVisualization()\n",
    "_ , rehospitalization_time_pred = torch.max(linear_model.forward(discharging_unit_test),1)\n",
    "visualization_for_MLP.plot_countplot(y_true=rehospitalization_time_test, y_pred=rehospitalization_time_pred, class_names =['Long', \"Medium\", 'Short'])"
   ],
   "id": "3dc69a44505246c4",
   "outputs": [
    {
     "name": "stderr",
     "output_type": "stream",
     "text": [
      "C:\\DS2-final_project\\data-science2-lab-final-project\\src\\team_1\\hospital_models\\generic_torch_model.py:210: FutureWarning: \n",
      "\n",
      "Passing `palette` without assigning `hue` is deprecated and will be removed in v0.14.0. Assign the `x` variable to `hue` and set `legend=False` for the same effect.\n",
      "\n",
      "  sns.countplot(x=y_true, palette=\"viridis\")\n",
      "C:\\DS2-final_project\\data-science2-lab-final-project\\src\\team_1\\hospital_models\\generic_torch_model.py:218: FutureWarning: \n",
      "\n",
      "Passing `palette` without assigning `hue` is deprecated and will be removed in v0.14.0. Assign the `x` variable to `hue` and set `legend=False` for the same effect.\n",
      "\n",
      "  sns.countplot(x=y_pred, palette=\"viridis\")\n"
     ]
    },
    {
     "data": {
      "text/plain": [
       "<Figure size 1000x600 with 2 Axes>"
      ],
      "image/png": "[encoded data removed]"
     },
     "metadata": {},
     "output_type": "display_data"
    }
   ],
   "execution_count": 38
  },
  {
   "metadata": {},
   "cell_type": "markdown",
   "source": "From this graph we can see that most mistakes are Medium that was classified as either Short or Long, and Short that was classified as probably Long.",
   "id": "15f49269ae7cfffa"
  },
  {
   "metadata": {
    "ExecuteTime": {
     "end_time": "2024-09-26T01:14:09.266143Z",
     "start_time": "2024-09-26T01:14:09.175590Z"
    }
   },
   "cell_type": "code",
   "source": "visualization_for_MLP.plot_confusion_matrix(y_true=rehospitalization_time_test, y_pred=rehospitalization_time_pred, class_names =['Long', \"Medium\", 'Short'])",
   "id": "5ce4a733850e4b3a",
   "outputs": [
    {
     "data": {
      "text/plain": [
       "<Figure size 640x480 with 2 Axes>"
      ],
      "image/png": "[encoded data removed]"
     },
     "metadata": {},
     "output_type": "display_data"
    }
   ],
   "execution_count": 39
  },
  {
   "metadata": {},
   "cell_type": "markdown",
   "source": [
    "### EDA\n",
    "***"
   ],
   "id": "8555560653e7a061"
  },
  {
   "metadata": {},
   "cell_type": "markdown",
   "source": "We will perform some EDA in order to try and find some relationship between the Discharging Unit and the rehospitalization time:",
   "id": "33e09889f6d772fb"
  },
  {
   "metadata": {
    "ExecuteTime": {
     "end_time": "2024-09-26T01:14:09.514850Z",
     "start_time": "2024-09-26T01:14:09.275683Z"
    }
   },
   "cell_type": "code",
   "source": "Task21.analyze_discharging_unit_relationship(clean_hospitalization2_df_encoded_with_release_rate_and_occupation)",
   "id": "63d4ac2957798650",
   "outputs": [
    {
     "data": {
      "text/plain": [
       "<Figure size 1200x600 with 2 Axes>"
      ],
      "image/png": "[encoded data removed]"
     },
     "metadata": {},
     "output_type": "display_data"
    },
    {
     "name": "stdout",
     "output_type": "stream",
     "text": [
      "ANOVA Test Result: F-statistic = 3.190332694969279, p-value = 0.012544489511028514\n",
      "Conclusion: The discharging unit has a statistically significant effect on rehospitalization time.\n"
     ]
    }
   ],
   "execution_count": 40
  },
  {
   "metadata": {},
   "cell_type": "markdown",
   "source": [
    "### Conclusions from the Boxplot:\n",
    "\n",
    "- **Rehospitalization Time vs Discharging Unit**:\n",
    "  - The boxplot shows the distribution of discharging units for each rehospitalization time category (Short, Medium, Long).\n",
    "  - Across all categories, the **median discharging unit** remains relatively similar, centered around unit 3.\n",
    "  - No clear pattern suggests that a particular discharging unit is associated with a higher likelihood of a short, medium, or long rehospitalization time.\n",
    "\n",
    "### Conclusions from the Countplot:\n",
    "\n",
    "- **Rehospitalization Time Distribution by Discharging Unit**:\n",
    "  - Each discharging unit has a relatively balanced distribution of rehospitalization times.\n",
    "  - **Discharging Unit 1** shows a slightly higher proportion of medium rehospitalization times compared to other units.\n",
    "  - **Discharging Unit 4** has a slightly higher proportion of short rehospitalization times compared to other units.\n",
    "  - In general, the distribution of short, medium, and long rehospitalization times is fairly similar across all discharging units, indicating no strong association between any particular discharging unit and the length of rehospitalization time.\n",
    "\n",
    "### Overall Insights:\n",
    "\n",
    "- There is no strong indication that any specific discharging unit is consistently associated with shorter or longer rehospitalization times.\n",
    "- The spread of discharging units across rehospitalization time categories is relatively consistent, with some minor differences in proportion for certain units. This suggests that the rehospitalization time is not heavily influenced by the discharging unit alone but could be influenced by other factors.\n",
    "- The statistical significance indicates that discharging units do influence rehospitalization time, but the effect may be small and subtle, which is why it’s not immediately apparent in the boxplots or countplots.\n",
    "Statistical tests like ANOVA detect even small differences in the means across groups, while visualizations like boxplots are more focused on the spread and distribution."
   ],
   "id": "fd5fcc312b27ebbc"
  },
  {
   "metadata": {},
   "cell_type": "code",
   "outputs": [],
   "execution_count": null,
   "source": "",
   "id": "6770b781cbaabd49"
  }
 ],
 "metadata": {
  "kernelspec": {
   "display_name": "Python 3",
   "language": "python",
   "name": "python3"
  },
  "language_info": {
   "codemirror_mode": {
    "name": "ipython",
    "version": 2
   },
   "file_extension": ".py",
   "mimetype": "text/x-python",
   "name": "python",
   "nbconvert_exporter": "python",
   "pygments_lexer": "ipython2",
   "version": "2.7.6"
  }
 },
 "nbformat": 4,
 "nbformat_minor": 5
}
